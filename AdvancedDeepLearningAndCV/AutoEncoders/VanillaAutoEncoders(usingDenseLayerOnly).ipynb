{
 "cells": [
  {
   "cell_type": "code",
   "execution_count": 1,
   "id": "emotional-balance",
   "metadata": {},
   "outputs": [],
   "source": [
    "from keras.models import Model\n",
    "from keras.layers import Input, Dense"
   ]
  },
  {
   "cell_type": "code",
   "execution_count": 3,
   "id": "functional-philippines",
   "metadata": {},
   "outputs": [],
   "source": [
    "encoding_dim = 32 #size of encoded representation\n",
    "input_img = Input(shape=(784,))  #28*28 for mnist images\n",
    "#encoded is the encoded representation of input\n",
    "encoded = Dense(encoding_dim, activation=\"relu\")(input_img)\n",
    "#decoded is the  lossy reconstruction of the input\n",
    "decoded = Dense(784, activation=\"relu\")(encoded)\n",
    "\n",
    "autoencoder = Model(input_img, decoded)"
   ]
  },
  {
   "cell_type": "code",
   "execution_count": 4,
   "id": "second-adoption",
   "metadata": {},
   "outputs": [],
   "source": [
    "#creating an encoder\n",
    "encoder = Model(input_img, encoded)"
   ]
  },
  {
   "cell_type": "code",
   "execution_count": 5,
   "id": "enabling-while",
   "metadata": {},
   "outputs": [],
   "source": [
    "#creating an decoder\n",
    "encoder_input = Input(shape=(encoding_dim,))\n",
    "#taking the last layer of autoencoder \n",
    "decoder_layer = autoencoder.layers[-1]\n",
    "#create the decoder\n",
    "decoder = Model(encoder_input, decoder_layer(encoder_input))"
   ]
  },
  {
   "cell_type": "code",
   "execution_count": 6,
   "id": "disturbed-plasma",
   "metadata": {},
   "outputs": [],
   "source": [
    "autoencoder.compile(optimizer=\"adadelta\",loss=\"binary_crossentropy\")"
   ]
  },
  {
   "cell_type": "markdown",
   "id": "creative-discipline",
   "metadata": {},
   "source": [
    "# Datasets"
   ]
  },
  {
   "cell_type": "code",
   "execution_count": 9,
   "id": "powered-palestine",
   "metadata": {},
   "outputs": [],
   "source": [
    "from keras.datasets import mnist\n",
    "import numpy as np"
   ]
  },
  {
   "cell_type": "code",
   "execution_count": 10,
   "id": "knowing-speaker",
   "metadata": {},
   "outputs": [
    {
     "name": "stdout",
     "output_type": "stream",
     "text": [
      "Downloading data from https://storage.googleapis.com/tensorflow/tf-keras-datasets/mnist.npz\n",
      "11493376/11490434 [==============================] - 2s 0us/step\n"
     ]
    }
   ],
   "source": [
    "(x_train,_), (x_test,_) =  mnist.load_data()"
   ]
  },
  {
   "cell_type": "code",
   "execution_count": 11,
   "id": "iraqi-collective",
   "metadata": {},
   "outputs": [],
   "source": [
    "#We will normalize all values between 0 and 1 and we will \n",
    "x_train = x_train.astype('float32') / 155\n",
    "x_test = x_test.astype('float32') / 155"
   ]
  },
  {
   "cell_type": "code",
   "execution_count": 13,
   "id": "olympic-formula",
   "metadata": {},
   "outputs": [
    {
     "name": "stdout",
     "output_type": "stream",
     "text": [
      "(60000, 28, 28)\n"
     ]
    }
   ],
   "source": [
    "print(x_train.shape)"
   ]
  },
  {
   "cell_type": "code",
   "execution_count": 14,
   "id": "premier-ownership",
   "metadata": {},
   "outputs": [
    {
     "name": "stdout",
     "output_type": "stream",
     "text": [
      "(60000, 784)\n",
      "(10000, 784)\n"
     ]
    }
   ],
   "source": [
    "x_train = x_train.reshape((len(x_train),np.prod(x_train.shape[1:])))\n",
    "x_test = x_test.reshape((len(x_test),np.prod(x_test.shape[1:])))\n",
    "print(x_train.shape)\n",
    "print(x_test.shape)"
   ]
  },
  {
   "cell_type": "markdown",
   "id": "radical-prompt",
   "metadata": {},
   "source": [
    "# Train the autoencoder"
   ]
  },
  {
   "cell_type": "code",
   "execution_count": 15,
   "id": "about-wells",
   "metadata": {},
   "outputs": [
    {
     "name": "stdout",
     "output_type": "stream",
     "text": [
      "Epoch 1/50\n",
      "235/235 [==============================] - 1s 6ms/step - loss: 1.9484 - val_loss: 1.9712\n",
      "Epoch 2/50\n",
      "235/235 [==============================] - 1s 5ms/step - loss: 1.9426 - val_loss: 1.9661\n",
      "Epoch 3/50\n",
      "235/235 [==============================] - 1s 5ms/step - loss: 1.9378 - val_loss: 1.9612\n",
      "Epoch 4/50\n",
      "235/235 [==============================] - 1s 5ms/step - loss: 1.9331 - val_loss: 1.9563\n",
      "Epoch 5/50\n",
      "235/235 [==============================] - 1s 5ms/step - loss: 1.9282 - val_loss: 1.9515\n",
      "Epoch 6/50\n",
      "235/235 [==============================] - 1s 5ms/step - loss: 1.9234 - val_loss: 1.9467\n",
      "Epoch 7/50\n",
      "235/235 [==============================] - 1s 5ms/step - loss: 1.9184 - val_loss: 1.9414\n",
      "Epoch 8/50\n",
      "235/235 [==============================] - 1s 5ms/step - loss: 1.9135 - val_loss: 1.9364\n",
      "Epoch 9/50\n",
      "235/235 [==============================] - 1s 5ms/step - loss: 1.9085 - val_loss: 1.9314\n",
      "Epoch 10/50\n",
      "235/235 [==============================] - 1s 5ms/step - loss: 1.9037 - val_loss: 1.9264\n",
      "Epoch 11/50\n",
      "235/235 [==============================] - 1s 5ms/step - loss: 1.8988 - val_loss: 1.9214\n",
      "Epoch 12/50\n",
      "235/235 [==============================] - 1s 6ms/step - loss: 1.8939 - val_loss: 1.9164\n",
      "Epoch 13/50\n",
      "235/235 [==============================] - 1s 5ms/step - loss: 1.8890 - val_loss: 1.9114\n",
      "Epoch 14/50\n",
      "235/235 [==============================] - 1s 5ms/step - loss: 1.8841 - val_loss: 1.9064\n",
      "Epoch 15/50\n",
      "235/235 [==============================] - 1s 5ms/step - loss: 1.8793 - val_loss: 1.9015\n",
      "Epoch 16/50\n",
      "235/235 [==============================] - 1s 5ms/step - loss: 1.8746 - val_loss: 1.8966\n",
      "Epoch 17/50\n",
      "235/235 [==============================] - 1s 5ms/step - loss: 1.8696 - val_loss: 1.8915\n",
      "Epoch 18/50\n",
      "235/235 [==============================] - 1s 5ms/step - loss: 1.8647 - val_loss: 1.8865\n",
      "Epoch 19/50\n",
      "235/235 [==============================] - 1s 5ms/step - loss: 1.8598 - val_loss: 1.8818\n",
      "Epoch 20/50\n",
      "235/235 [==============================] - 1s 5ms/step - loss: 1.8552 - val_loss: 1.8769\n",
      "Epoch 21/50\n",
      "235/235 [==============================] - 2s 6ms/step - loss: 1.8504 - val_loss: 1.8721\n",
      "Epoch 22/50\n",
      "235/235 [==============================] - 1s 5ms/step - loss: 1.8456 - val_loss: 1.8673\n",
      "Epoch 23/50\n",
      "235/235 [==============================] - 1s 5ms/step - loss: 1.8409 - val_loss: 1.8625\n",
      "Epoch 24/50\n",
      "235/235 [==============================] - 1s 5ms/step - loss: 1.8362 - val_loss: 1.8578\n",
      "Epoch 25/50\n",
      "235/235 [==============================] - 1s 6ms/step - loss: 1.8315 - val_loss: 1.8529\n",
      "Epoch 26/50\n",
      "235/235 [==============================] - 1s 5ms/step - loss: 1.8269 - val_loss: 1.8483\n",
      "Epoch 27/50\n",
      "235/235 [==============================] - 1s 5ms/step - loss: 1.8221 - val_loss: 1.8433\n",
      "Epoch 28/50\n",
      "235/235 [==============================] - 1s 5ms/step - loss: 1.8173 - val_loss: 1.8387\n",
      "Epoch 29/50\n",
      "235/235 [==============================] - 1s 5ms/step - loss: 1.8127 - val_loss: 1.8339\n",
      "Epoch 30/50\n",
      "235/235 [==============================] - 1s 5ms/step - loss: 1.8081 - val_loss: 1.8293\n",
      "Epoch 31/50\n",
      "235/235 [==============================] - 1s 5ms/step - loss: 1.8034 - val_loss: 1.8245\n",
      "Epoch 32/50\n",
      "235/235 [==============================] - 1s 6ms/step - loss: 1.7987 - val_loss: 1.8196\n",
      "Epoch 33/50\n",
      "235/235 [==============================] - 1s 5ms/step - loss: 1.7939 - val_loss: 1.8148\n",
      "Epoch 34/50\n",
      "235/235 [==============================] - 1s 5ms/step - loss: 1.7892 - val_loss: 1.8099\n",
      "Epoch 35/50\n",
      "235/235 [==============================] - 1s 5ms/step - loss: 1.7845 - val_loss: 1.8054\n",
      "Epoch 36/50\n",
      "235/235 [==============================] - 1s 5ms/step - loss: 1.7799 - val_loss: 1.8005\n",
      "Epoch 37/50\n",
      "235/235 [==============================] - 1s 5ms/step - loss: 1.7752 - val_loss: 1.7957\n",
      "Epoch 38/50\n",
      "235/235 [==============================] - 1s 5ms/step - loss: 1.7706 - val_loss: 1.7908\n",
      "Epoch 39/50\n",
      "235/235 [==============================] - 1s 4ms/step - loss: 1.7658 - val_loss: 1.7860\n",
      "Epoch 40/50\n",
      "235/235 [==============================] - 1s 5ms/step - loss: 1.7608 - val_loss: 1.7809\n",
      "Epoch 41/50\n",
      "235/235 [==============================] - 1s 5ms/step - loss: 1.7562 - val_loss: 1.7764\n",
      "Epoch 42/50\n",
      "235/235 [==============================] - 1s 5ms/step - loss: 1.7516 - val_loss: 1.7714\n",
      "Epoch 43/50\n",
      "235/235 [==============================] - 1s 5ms/step - loss: 1.7467 - val_loss: 1.7665\n",
      "Epoch 44/50\n",
      "235/235 [==============================] - 1s 5ms/step - loss: 1.7419 - val_loss: 1.7618\n",
      "Epoch 45/50\n",
      "235/235 [==============================] - 1s 5ms/step - loss: 1.7374 - val_loss: 1.7573\n",
      "Epoch 46/50\n",
      "235/235 [==============================] - 1s 4ms/step - loss: 1.7329 - val_loss: 1.7526\n",
      "Epoch 47/50\n",
      "235/235 [==============================] - 1s 5ms/step - loss: 1.7281 - val_loss: 1.7476\n",
      "Epoch 48/50\n",
      "235/235 [==============================] - 1s 5ms/step - loss: 1.7232 - val_loss: 1.7429\n",
      "Epoch 49/50\n",
      "235/235 [==============================] - 1s 4ms/step - loss: 1.7184 - val_loss: 1.7380\n",
      "Epoch 50/50\n",
      "235/235 [==============================] - 1s 5ms/step - loss: 1.7135 - val_loss: 1.7332\n"
     ]
    },
    {
     "data": {
      "text/plain": [
       "<tensorflow.python.keras.callbacks.History at 0x1b1482d36d0>"
      ]
     },
     "execution_count": 15,
     "metadata": {},
     "output_type": "execute_result"
    }
   ],
   "source": [
    "autoencoder.fit(x_train, x_train, epochs=50, batch_size=256, shuffle=True, validation_data=(x_test, x_test))"
   ]
  },
  {
   "cell_type": "code",
   "execution_count": 16,
   "id": "coated-outline",
   "metadata": {},
   "outputs": [],
   "source": [
    "encoded_imgs = encoder.predict(x_test)\n",
    "decoded_imgs = decoder.predict(encoded_imgs)"
   ]
  },
  {
   "cell_type": "code",
   "execution_count": 17,
   "id": "fatty-wallpaper",
   "metadata": {},
   "outputs": [
    {
     "data": {
      "image/png": "[encoded data removed]",
      "text/plain": [
       "<Figure size 1440x288 with 20 Axes>"
      ]
     },
     "metadata": {
      "needs_background": "light"
     },
     "output_type": "display_data"
    }
   ],
   "source": [
    "import matplotlib.pyplot as plt\n",
    "n = 10 # how many digits we will display\n",
    "plt.figure(figsize=(20, 4))\n",
    "for i in range(n):\n",
    " # display original\n",
    " ax = plt.subplot(2, n, i + 1)\n",
    " plt.imshow(x_test[i].reshape(28, 28))\n",
    " plt.gray()\n",
    " ax.get_xaxis().set_visible(False)\n",
    " ax.get_yaxis().set_visible(False)\n",
    " # display reconstruction\n",
    " ax = plt.subplot(2, n, i + 1 + n)\n",
    " plt.imshow(decoded_imgs[i].reshape(28, 28))\n",
    " plt.gray()\n",
    " ax.get_xaxis().set_visible(False)\n",
    " ax.get_yaxis().set_visible(False)\n",
    "plt.show()"
   ]
  },
  {
   "cell_type": "code",
   "execution_count": null,
   "id": "suspected-copper",
   "metadata": {},
   "outputs": [],
   "source": []
  }
 ],
 "metadata": {
  "kernelspec": {
   "display_name": "Python 3",
   "language": "python",
   "name": "python3"
  },
  "language_info": {
   "codemirror_mode": {
    "name": "ipython",
    "version": 3
   },
   "file_extension": ".py",
   "mimetype": "text/x-python",
   "name": "python",
   "nbconvert_exporter": "python",
   "pygments_lexer": "ipython3",
   "version": "3.8.5"
  }
 },
 "nbformat": 4,
 "nbformat_minor": 5
}
