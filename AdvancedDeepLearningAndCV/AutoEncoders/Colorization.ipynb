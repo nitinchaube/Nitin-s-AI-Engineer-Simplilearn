{
 "cells": [
  {
   "cell_type": "code",
   "execution_count": 2,
   "id": "limited-miniature",
   "metadata": {},
   "outputs": [],
   "source": [
    "from google_images_download import google_images_download"
   ]
  },
  {
   "cell_type": "code",
   "execution_count": 3,
   "id": "early-bathroom",
   "metadata": {},
   "outputs": [],
   "source": [
    "response = google_images_download.googleimagesdownload()"
   ]
  },
  {
   "cell_type": "code",
   "execution_count": 8,
   "id": "voluntary-ratio",
   "metadata": {},
   "outputs": [],
   "source": [
    "argument = {\"keywords\":\"man\", \"limit\":100, \"print_urls\":False}"
   ]
  },
  {
   "cell_type": "code",
   "execution_count": 9,
   "id": "established-primary",
   "metadata": {},
   "outputs": [
    {
     "name": "stdout",
     "output_type": "stream",
     "text": [
      "\n",
      "Item no.: 1 --> Item name = man\n",
      "Evaluating...\n",
      "Starting Download...\n",
      "\n",
      "\n",
      "Unfortunately all 100 could not be downloaded because some images were not downloadable. 0 is all we got for this search filter!\n",
      "\n",
      "Errors: 0\n",
      "\n"
     ]
    }
   ],
   "source": [
    "path =response.download(argument)"
   ]
  },
  {
   "cell_type": "code",
   "execution_count": 1,
   "id": "latter-technician",
   "metadata": {},
   "outputs": [],
   "source": [
    "from keras.models import Sequential\n",
    "from keras.layers import Conv2D , MaxPooling2D, UpSampling2D\n",
    "from keras.preprocessing.image import ImageDataGenerator, img_to_array, load_img \n",
    "from skimage.color import rgb2lab, lab2rgb\n",
    "from skimage.transform import resize\n",
    "from skimage.io import imsave\n",
    "import numpy as np\n",
    "import tensorflow as tf"
   ]
  },
  {
   "cell_type": "code",
   "execution_count": 3,
   "id": "growing-transaction",
   "metadata": {},
   "outputs": [
    {
     "name": "stdout",
     "output_type": "stream",
     "text": [
      "Found 0 images belonging to 2 classes.\n"
     ]
    }
   ],
   "source": [
    "path='downloads/'\n",
    "\n",
    "#normalizing the images\n",
    "train_datagen = ImageDataGenerator(rescale=1./255)\n",
    "\n",
    "#resize images if needed\n",
    "train = train_datagen.flow_from_directory(path, target_size=(256,256), batch_size= 340, class_mode=None)"
   ]
  },
  {
   "cell_type": "code",
   "execution_count": null,
   "id": "ambient-upgrade",
   "metadata": {},
   "outputs": [],
   "source": []
  }
 ],
 "metadata": {
  "kernelspec": {
   "display_name": "Python 3",
   "language": "python",
   "name": "python3"
  },
  "language_info": {
   "codemirror_mode": {
    "name": "ipython",
    "version": 3
   },
   "file_extension": ".py",
   "mimetype": "text/x-python",
   "name": "python",
   "nbconvert_exporter": "python",
   "pygments_lexer": "ipython3",
   "version": "3.8.5"
  }
 },
 "nbformat": 4,
 "nbformat_minor": 5
}
