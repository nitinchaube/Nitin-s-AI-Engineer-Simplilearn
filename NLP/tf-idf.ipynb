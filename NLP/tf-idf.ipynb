{
 "cells": [
  {
   "cell_type": "code",
   "execution_count": 1,
   "id": "parallel-beverage",
   "metadata": {},
   "outputs": [],
   "source": [
    "import pandas as pd\n",
    "from sklearn.feature_extraction.text import TfidfVectorizer"
   ]
  },
  {
   "cell_type": "code",
   "execution_count": 2,
   "id": "narrative-shock",
   "metadata": {},
   "outputs": [],
   "source": [
    "corpus= [\n",
    "    'Data science is a study of data and arts and science.',\n",
    "    'Generally art graduates are right brain and science graduate are left brain',\n",
    "    'Excelling in both art and science at a time is difficult',\n",
    "    'Natural Language processing is a part of data science'\n",
    "]"
   ]
  },
  {
   "cell_type": "code",
   "execution_count": 3,
   "id": "compatible-brooklyn",
   "metadata": {},
   "outputs": [
    {
     "data": {
      "text/plain": [
       "['Data science is a study of data and arts and science.',\n",
       " 'Generally art graduates are right brain and science graduate are left brain',\n",
       " 'Excelling in both art and science at a time is difficult',\n",
       " 'Natural Language processing is a part of data science']"
      ]
     },
     "execution_count": 3,
     "metadata": {},
     "output_type": "execute_result"
    }
   ],
   "source": [
    "corpus"
   ]
  },
  {
   "cell_type": "code",
   "execution_count": 4,
   "id": "aware-voluntary",
   "metadata": {},
   "outputs": [],
   "source": [
    "tfidfModel = TfidfVectorizer()\n",
    "data = tfidfModel.fit_transform(corpus)"
   ]
  },
  {
   "cell_type": "code",
   "execution_count": 5,
   "id": "facial-bahamas",
   "metadata": {},
   "outputs": [
    {
     "data": {
      "text/plain": [
       "<4x25 sparse matrix of type '<class 'numpy.float64'>'\n",
       "\twith 35 stored elements in Compressed Sparse Row format>"
      ]
     },
     "execution_count": 5,
     "metadata": {},
     "output_type": "execute_result"
    }
   ],
   "source": [
    "data"
   ]
  },
  {
   "cell_type": "code",
   "execution_count": 7,
   "id": "moral-harassment",
   "metadata": {},
   "outputs": [
    {
     "data": {
      "text/plain": [
       "['and',\n",
       " 'are',\n",
       " 'art',\n",
       " 'arts',\n",
       " 'at',\n",
       " 'both',\n",
       " 'brain',\n",
       " 'data',\n",
       " 'difficult',\n",
       " 'excelling',\n",
       " 'generally',\n",
       " 'graduate',\n",
       " 'graduates',\n",
       " 'in',\n",
       " 'is',\n",
       " 'language',\n",
       " 'left',\n",
       " 'natural',\n",
       " 'of',\n",
       " 'part',\n",
       " 'processing',\n",
       " 'right',\n",
       " 'science',\n",
       " 'study',\n",
       " 'time']"
      ]
     },
     "execution_count": 7,
     "metadata": {},
     "output_type": "execute_result"
    }
   ],
   "source": [
    "tfidfModel.get_feature_names()"
   ]
  },
  {
   "cell_type": "code",
   "execution_count": 8,
   "id": "official-panama",
   "metadata": {},
   "outputs": [
    {
     "data": {
      "text/plain": [
       "{'data': 7,\n",
       " 'science': 22,\n",
       " 'is': 14,\n",
       " 'study': 23,\n",
       " 'of': 18,\n",
       " 'and': 0,\n",
       " 'arts': 3,\n",
       " 'generally': 10,\n",
       " 'art': 2,\n",
       " 'graduates': 12,\n",
       " 'are': 1,\n",
       " 'right': 21,\n",
       " 'brain': 6,\n",
       " 'graduate': 11,\n",
       " 'left': 16,\n",
       " 'excelling': 9,\n",
       " 'in': 13,\n",
       " 'both': 5,\n",
       " 'at': 4,\n",
       " 'time': 24,\n",
       " 'difficult': 8,\n",
       " 'natural': 17,\n",
       " 'language': 15,\n",
       " 'processing': 20,\n",
       " 'part': 19}"
      ]
     },
     "execution_count": 8,
     "metadata": {},
     "output_type": "execute_result"
    }
   ],
   "source": [
    "tfidfModel.vocabulary_"
   ]
  },
  {
   "cell_type": "code",
   "execution_count": 9,
   "id": "occupied-administrator",
   "metadata": {},
   "outputs": [
    {
     "data": {
      "text/plain": [
       "matrix([[0.44486984, 0.        , 0.        , 0.34848729, 0.        ,\n",
       "         0.        , 0.        , 0.54950276, 0.        , 0.        ,\n",
       "         0.        , 0.        , 0.        , 0.        , 0.22243492,\n",
       "         0.        , 0.        , 0.        , 0.27475138, 0.        ,\n",
       "         0.        , 0.        , 0.36371025, 0.34848729, 0.        ],\n",
       "        [0.16878271, 0.52886145, 0.20848022, 0.        , 0.        ,\n",
       "         0.        , 0.52886145, 0.        , 0.        , 0.        ,\n",
       "         0.26443072, 0.26443072, 0.26443072, 0.        , 0.        ,\n",
       "         0.        , 0.26443072, 0.        , 0.        , 0.        ,\n",
       "         0.        , 0.26443072, 0.13799092, 0.        , 0.        ],\n",
       "        [0.22989237, 0.        , 0.28396281, 0.        , 0.36017082,\n",
       "         0.36017082, 0.        , 0.        , 0.36017082, 0.36017082,\n",
       "         0.        , 0.        , 0.        , 0.36017082, 0.22989237,\n",
       "         0.        , 0.        , 0.        , 0.        , 0.        ,\n",
       "         0.        , 0.        , 0.18795208, 0.        , 0.36017082],\n",
       "        [0.        , 0.        , 0.        , 0.        , 0.        ,\n",
       "         0.        , 0.        , 0.3239554 , 0.        , 0.        ,\n",
       "         0.        , 0.        , 0.        , 0.        , 0.26226981,\n",
       "         0.41089634, 0.        , 0.41089634, 0.3239554 , 0.41089634,\n",
       "         0.41089634, 0.        , 0.21442276, 0.        , 0.        ]])"
      ]
     },
     "execution_count": 9,
     "metadata": {},
     "output_type": "execute_result"
    }
   ],
   "source": [
    "data.todense()"
   ]
  },
  {
   "cell_type": "code",
   "execution_count": 10,
   "id": "bronze-henry",
   "metadata": {},
   "outputs": [
    {
     "data": {
      "text/plain": [
       "array([1.22314355, 1.91629073, 1.51082562, 1.91629073, 1.91629073,\n",
       "       1.91629073, 1.91629073, 1.51082562, 1.91629073, 1.91629073,\n",
       "       1.91629073, 1.91629073, 1.91629073, 1.91629073, 1.22314355,\n",
       "       1.91629073, 1.91629073, 1.91629073, 1.51082562, 1.91629073,\n",
       "       1.91629073, 1.91629073, 1.        , 1.91629073, 1.91629073])"
      ]
     },
     "execution_count": 10,
     "metadata": {},
     "output_type": "execute_result"
    }
   ],
   "source": [
    "tfidfModel.idf_"
   ]
  },
  {
   "cell_type": "code",
   "execution_count": 14,
   "id": "mental-vietnam",
   "metadata": {},
   "outputs": [],
   "source": [
    "words_idf = dict(zip(tfidfModel.get_feature_names(), tfidfModel.idf_))\n"
   ]
  },
  {
   "cell_type": "code",
   "execution_count": 15,
   "id": "ethical-right",
   "metadata": {},
   "outputs": [
    {
     "data": {
      "text/plain": [
       "[('science', 1.0),\n",
       " ('and', 1.2231435513142097),\n",
       " ('is', 1.2231435513142097),\n",
       " ('art', 1.5108256237659907),\n",
       " ('data', 1.5108256237659907),\n",
       " ('of', 1.5108256237659907),\n",
       " ('are', 1.916290731874155),\n",
       " ('arts', 1.916290731874155),\n",
       " ('at', 1.916290731874155),\n",
       " ('both', 1.916290731874155),\n",
       " ('brain', 1.916290731874155),\n",
       " ('difficult', 1.916290731874155),\n",
       " ('excelling', 1.916290731874155),\n",
       " ('generally', 1.916290731874155),\n",
       " ('graduate', 1.916290731874155),\n",
       " ('graduates', 1.916290731874155),\n",
       " ('in', 1.916290731874155),\n",
       " ('language', 1.916290731874155),\n",
       " ('left', 1.916290731874155),\n",
       " ('natural', 1.916290731874155),\n",
       " ('part', 1.916290731874155),\n",
       " ('processing', 1.916290731874155),\n",
       " ('right', 1.916290731874155),\n",
       " ('study', 1.916290731874155),\n",
       " ('time', 1.916290731874155)]"
      ]
     },
     "execution_count": 15,
     "metadata": {},
     "output_type": "execute_result"
    }
   ],
   "source": [
    "sorted(words_idf.items(),key = lambda x: x[1])"
   ]
  },
  {
   "cell_type": "code",
   "execution_count": 18,
   "id": "arabic-thunder",
   "metadata": {},
   "outputs": [
    {
     "data": {
      "text/html": [
       "<div>\n",
       "<style scoped>\n",
       "    .dataframe tbody tr th:only-of-type {\n",
       "        vertical-align: middle;\n",
       "    }\n",
       "\n",
       "    .dataframe tbody tr th {\n",
       "        vertical-align: top;\n",
       "    }\n",
       "\n",
       "    .dataframe thead th {\n",
       "        text-align: right;\n",
       "    }\n",
       "</style>\n",
       "<table border=\"1\" class=\"dataframe\">\n",
       "  <thead>\n",
       "    <tr style=\"text-align: right;\">\n",
       "      <th></th>\n",
       "      <th>and</th>\n",
       "      <th>are</th>\n",
       "      <th>art</th>\n",
       "      <th>arts</th>\n",
       "      <th>at</th>\n",
       "      <th>both</th>\n",
       "      <th>brain</th>\n",
       "      <th>data</th>\n",
       "      <th>difficult</th>\n",
       "      <th>excelling</th>\n",
       "      <th>...</th>\n",
       "      <th>language</th>\n",
       "      <th>left</th>\n",
       "      <th>natural</th>\n",
       "      <th>of</th>\n",
       "      <th>part</th>\n",
       "      <th>processing</th>\n",
       "      <th>right</th>\n",
       "      <th>science</th>\n",
       "      <th>study</th>\n",
       "      <th>time</th>\n",
       "    </tr>\n",
       "  </thead>\n",
       "  <tbody>\n",
       "    <tr>\n",
       "      <th>0</th>\n",
       "      <td>0.444870</td>\n",
       "      <td>0.000000</td>\n",
       "      <td>0.000000</td>\n",
       "      <td>0.348487</td>\n",
       "      <td>0.000000</td>\n",
       "      <td>0.000000</td>\n",
       "      <td>0.000000</td>\n",
       "      <td>0.549503</td>\n",
       "      <td>0.000000</td>\n",
       "      <td>0.000000</td>\n",
       "      <td>...</td>\n",
       "      <td>0.000000</td>\n",
       "      <td>0.000000</td>\n",
       "      <td>0.000000</td>\n",
       "      <td>0.274751</td>\n",
       "      <td>0.000000</td>\n",
       "      <td>0.000000</td>\n",
       "      <td>0.000000</td>\n",
       "      <td>0.363710</td>\n",
       "      <td>0.348487</td>\n",
       "      <td>0.000000</td>\n",
       "    </tr>\n",
       "    <tr>\n",
       "      <th>1</th>\n",
       "      <td>0.168783</td>\n",
       "      <td>0.528861</td>\n",
       "      <td>0.208480</td>\n",
       "      <td>0.000000</td>\n",
       "      <td>0.000000</td>\n",
       "      <td>0.000000</td>\n",
       "      <td>0.528861</td>\n",
       "      <td>0.000000</td>\n",
       "      <td>0.000000</td>\n",
       "      <td>0.000000</td>\n",
       "      <td>...</td>\n",
       "      <td>0.000000</td>\n",
       "      <td>0.264431</td>\n",
       "      <td>0.000000</td>\n",
       "      <td>0.000000</td>\n",
       "      <td>0.000000</td>\n",
       "      <td>0.000000</td>\n",
       "      <td>0.264431</td>\n",
       "      <td>0.137991</td>\n",
       "      <td>0.000000</td>\n",
       "      <td>0.000000</td>\n",
       "    </tr>\n",
       "    <tr>\n",
       "      <th>2</th>\n",
       "      <td>0.229892</td>\n",
       "      <td>0.000000</td>\n",
       "      <td>0.283963</td>\n",
       "      <td>0.000000</td>\n",
       "      <td>0.360171</td>\n",
       "      <td>0.360171</td>\n",
       "      <td>0.000000</td>\n",
       "      <td>0.000000</td>\n",
       "      <td>0.360171</td>\n",
       "      <td>0.360171</td>\n",
       "      <td>...</td>\n",
       "      <td>0.000000</td>\n",
       "      <td>0.000000</td>\n",
       "      <td>0.000000</td>\n",
       "      <td>0.000000</td>\n",
       "      <td>0.000000</td>\n",
       "      <td>0.000000</td>\n",
       "      <td>0.000000</td>\n",
       "      <td>0.187952</td>\n",
       "      <td>0.000000</td>\n",
       "      <td>0.360171</td>\n",
       "    </tr>\n",
       "    <tr>\n",
       "      <th>3</th>\n",
       "      <td>0.000000</td>\n",
       "      <td>0.000000</td>\n",
       "      <td>0.000000</td>\n",
       "      <td>0.000000</td>\n",
       "      <td>0.000000</td>\n",
       "      <td>0.000000</td>\n",
       "      <td>0.000000</td>\n",
       "      <td>0.323955</td>\n",
       "      <td>0.000000</td>\n",
       "      <td>0.000000</td>\n",
       "      <td>...</td>\n",
       "      <td>0.410896</td>\n",
       "      <td>0.000000</td>\n",
       "      <td>0.410896</td>\n",
       "      <td>0.323955</td>\n",
       "      <td>0.410896</td>\n",
       "      <td>0.410896</td>\n",
       "      <td>0.000000</td>\n",
       "      <td>0.214423</td>\n",
       "      <td>0.000000</td>\n",
       "      <td>0.000000</td>\n",
       "    </tr>\n",
       "  </tbody>\n",
       "</table>\n",
       "<p>4 rows × 25 columns</p>\n",
       "</div>"
      ],
      "text/plain": [
       "        and       are       art      arts        at      both     brain  \\\n",
       "0  0.444870  0.000000  0.000000  0.348487  0.000000  0.000000  0.000000   \n",
       "1  0.168783  0.528861  0.208480  0.000000  0.000000  0.000000  0.528861   \n",
       "2  0.229892  0.000000  0.283963  0.000000  0.360171  0.360171  0.000000   \n",
       "3  0.000000  0.000000  0.000000  0.000000  0.000000  0.000000  0.000000   \n",
       "\n",
       "       data  difficult  excelling  ...  language      left   natural  \\\n",
       "0  0.549503   0.000000   0.000000  ...  0.000000  0.000000  0.000000   \n",
       "1  0.000000   0.000000   0.000000  ...  0.000000  0.264431  0.000000   \n",
       "2  0.000000   0.360171   0.360171  ...  0.000000  0.000000  0.000000   \n",
       "3  0.323955   0.000000   0.000000  ...  0.410896  0.000000  0.410896   \n",
       "\n",
       "         of      part  processing     right   science     study      time  \n",
       "0  0.274751  0.000000    0.000000  0.000000  0.363710  0.348487  0.000000  \n",
       "1  0.000000  0.000000    0.000000  0.264431  0.137991  0.000000  0.000000  \n",
       "2  0.000000  0.000000    0.000000  0.000000  0.187952  0.000000  0.360171  \n",
       "3  0.323955  0.410896    0.410896  0.000000  0.214423  0.000000  0.000000  \n",
       "\n",
       "[4 rows x 25 columns]"
      ]
     },
     "execution_count": 18,
     "metadata": {},
     "output_type": "execute_result"
    }
   ],
   "source": [
    "tfidf_df = pd.DataFrame(data.todense())\n",
    "tfidf_df.columns = sorted(tfidfModel.vocabulary_)\n",
    "tfidf_df.head()"
   ]
  },
  {
   "cell_type": "code",
   "execution_count": null,
   "id": "tutorial-beach",
   "metadata": {},
   "outputs": [],
   "source": []
  }
 ],
 "metadata": {
  "kernelspec": {
   "display_name": "Python 3",
   "language": "python",
   "name": "python3"
  },
  "language_info": {
   "codemirror_mode": {
    "name": "ipython",
    "version": 3
   },
   "file_extension": ".py",
   "mimetype": "text/x-python",
   "name": "python",
   "nbconvert_exporter": "python",
   "pygments_lexer": "ipython3",
   "version": "3.8.5"
  }
 },
 "nbformat": 4,
 "nbformat_minor": 5
}
