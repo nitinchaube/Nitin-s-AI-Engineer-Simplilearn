{
 "cells": [
  {
   "cell_type": "code",
   "execution_count": 38,
   "id": "nasty-guess",
   "metadata": {},
   "outputs": [],
   "source": [
    "import numpy as np \n",
    "import pandas as pd\n",
    "import matplotlib.pyplot as plt\n",
    "%matplotlib inline\n",
    "import seaborn as sns\n",
    "import warnings\n",
    "import re"
   ]
  },
  {
   "cell_type": "code",
   "execution_count": 39,
   "id": "removable-geneva",
   "metadata": {},
   "outputs": [
    {
     "data": {
      "text/html": [
       "<div>\n",
       "<style scoped>\n",
       "    .dataframe tbody tr th:only-of-type {\n",
       "        vertical-align: middle;\n",
       "    }\n",
       "\n",
       "    .dataframe tbody tr th {\n",
       "        vertical-align: top;\n",
       "    }\n",
       "\n",
       "    .dataframe thead th {\n",
       "        text-align: right;\n",
       "    }\n",
       "</style>\n",
       "<table border=\"1\" class=\"dataframe\">\n",
       "  <thead>\n",
       "    <tr style=\"text-align: right;\">\n",
       "      <th></th>\n",
       "      <th>id</th>\n",
       "      <th>label</th>\n",
       "      <th>tweet</th>\n",
       "    </tr>\n",
       "  </thead>\n",
       "  <tbody>\n",
       "    <tr>\n",
       "      <th>0</th>\n",
       "      <td>1</td>\n",
       "      <td>0</td>\n",
       "      <td>@user when a father is dysfunctional and is s...</td>\n",
       "    </tr>\n",
       "    <tr>\n",
       "      <th>1</th>\n",
       "      <td>2</td>\n",
       "      <td>0</td>\n",
       "      <td>@user @user thanks for #lyft credit i can't us...</td>\n",
       "    </tr>\n",
       "    <tr>\n",
       "      <th>2</th>\n",
       "      <td>3</td>\n",
       "      <td>0</td>\n",
       "      <td>bihday your majesty</td>\n",
       "    </tr>\n",
       "    <tr>\n",
       "      <th>3</th>\n",
       "      <td>4</td>\n",
       "      <td>0</td>\n",
       "      <td>#model   i love u take with u all the time in ...</td>\n",
       "    </tr>\n",
       "    <tr>\n",
       "      <th>4</th>\n",
       "      <td>5</td>\n",
       "      <td>0</td>\n",
       "      <td>factsguide: society now    #motivation</td>\n",
       "    </tr>\n",
       "  </tbody>\n",
       "</table>\n",
       "</div>"
      ],
      "text/plain": [
       "   id  label                                              tweet\n",
       "0   1      0   @user when a father is dysfunctional and is s...\n",
       "1   2      0  @user @user thanks for #lyft credit i can't us...\n",
       "2   3      0                                bihday your majesty\n",
       "3   4      0  #model   i love u take with u all the time in ...\n",
       "4   5      0             factsguide: society now    #motivation"
      ]
     },
     "execution_count": 39,
     "metadata": {},
     "output_type": "execute_result"
    }
   ],
   "source": [
    "#import the dataset\n",
    "tweets = pd.read_csv(\"TwitterHate.csv\")\n",
    "tweets.head()"
   ]
  },
  {
   "cell_type": "code",
   "execution_count": 40,
   "id": "confident-nigeria",
   "metadata": {},
   "outputs": [
    {
     "data": {
      "text/plain": [
       "0    0.929854\n",
       "1    0.070146\n",
       "Name: label, dtype: float64"
      ]
     },
     "execution_count": 40,
     "metadata": {},
     "output_type": "execute_result"
    }
   ],
   "source": [
    "tweets.label.value_counts(normalize=True)"
   ]
  },
  {
   "cell_type": "code",
   "execution_count": 41,
   "id": "bacterial-shark",
   "metadata": {},
   "outputs": [],
   "source": [
    "#its  a highly unbalanced dataset"
   ]
  },
  {
   "cell_type": "code",
   "execution_count": 42,
   "id": "covered-moldova",
   "metadata": {},
   "outputs": [
    {
     "name": "stdout",
     "output_type": "stream",
     "text": [
      "31962\n"
     ]
    },
    {
     "data": {
      "text/plain": [
       "array([' @user when a father is dysfunctional and is so selfish he drags his kids into his dysfunction.   #run',\n",
       "       \"@user @user thanks for #lyft credit i can't use cause they don't offer wheelchair vans in pdx.    #disapointed #getthanked\",\n",
       "       '  bihday your majesty',\n",
       "       '#model   i love u take with u all the time in urð\\x9f\\x93±!!! ð\\x9f\\x98\\x99ð\\x9f\\x98\\x8eð\\x9f\\x91\\x84ð\\x9f\\x91\\x85ð\\x9f\\x92¦ð\\x9f\\x92¦ð\\x9f\\x92¦  '],\n",
       "      dtype=object)"
      ]
     },
     "execution_count": 42,
     "metadata": {},
     "output_type": "execute_result"
    }
   ],
   "source": [
    "#getting tweets into list\n",
    "tweet_list = tweets.tweet.values\n",
    "print(len(tweet_list))\n",
    "tweet_list[:4]"
   ]
  },
  {
   "cell_type": "code",
   "execution_count": 43,
   "id": "silver-williams",
   "metadata": {},
   "outputs": [],
   "source": [
    "#to cleanup\n",
    "#1-Normalize the casing.\n",
    "\n",
    "#2-Using regular expressions, remove user handles. These begin with '@’.\n",
    "\n",
    "#3-Using regular expressions, remove URLs.\n",
    "\n",
    "#4- Using TweetTokenizer from NLTK, tokenize the tweets into individual terms.\n",
    "\n",
    "#5-Remove stop words.\n",
    "\n",
    "#6-Remove redundant terms like ‘amp’, ‘rt’, etc.\n",
    "\n",
    "#7-Remove ‘#’ symbols from the tweet while retaining the term."
   ]
  },
  {
   "cell_type": "code",
   "execution_count": 44,
   "id": "compound-compatibility",
   "metadata": {},
   "outputs": [
    {
     "data": {
      "text/plain": [
       "[' @user when a father is dysfunctional and is so selfish he drags his kids into his dysfunction.   #run',\n",
       " \"@user @user thanks for #lyft credit i can't use cause they don't offer wheelchair vans in pdx.    #disapointed #getthanked\",\n",
       " '  bihday your majesty',\n",
       " '#model   i love u take with u all the time in urð\\x9f\\x93±!!! ð\\x9f\\x98\\x99ð\\x9f\\x98\\x8eð\\x9f\\x91\\x84ð\\x9f\\x91\\x85ð\\x9f\\x92¦ð\\x9f\\x92¦ð\\x9f\\x92¦  ']"
      ]
     },
     "execution_count": 44,
     "metadata": {},
     "output_type": "execute_result"
    }
   ],
   "source": [
    "#lowercasing the tweets\n",
    "lower_tweets = [tweet.lower() for tweet in tweet_list]\n",
    "lower_tweets[:4]"
   ]
  },
  {
   "cell_type": "code",
   "execution_count": 45,
   "id": "anonymous-hunger",
   "metadata": {},
   "outputs": [
    {
     "data": {
      "text/plain": [
       "['  when a father is dysfunctional and is so selfish he drags his kids into his dysfunction.   #run',\n",
       " \"  thanks for #lyft credit i can't use cause they don't offer wheelchair vans in pdx.    #disapointed #getthanked\",\n",
       " '  bihday your majesty',\n",
       " '#model   i love u take with u all the time in urð\\x9f\\x93±!!! ð\\x9f\\x98\\x99ð\\x9f\\x98\\x8eð\\x9f\\x91\\x84ð\\x9f\\x91\\x85ð\\x9f\\x92¦ð\\x9f\\x92¦ð\\x9f\\x92¦  ']"
      ]
     },
     "execution_count": 45,
     "metadata": {},
     "output_type": "execute_result"
    }
   ],
   "source": [
    "#removing @words\n",
    "no_user= [re.sub(\"@\\w+\",\"\",tweet) for tweet in lower_tweets]\n",
    "no_user[:4]"
   ]
  },
  {
   "cell_type": "code",
   "execution_count": 46,
   "id": "compressed-survey",
   "metadata": {},
   "outputs": [
    {
     "data": {
      "text/plain": [
       "['  when a father is dysfunctional and is so selfish he drags his kids into his dysfunction.   #run',\n",
       " \"  thanks for #lyft credit i can't use cause they don't offer wheelchair vans in pdx.    #disapointed #getthanked\",\n",
       " '  bihday your majesty',\n",
       " '#model   i love u take with u all the time in urð\\x9f\\x93±!!! ð\\x9f\\x98\\x99ð\\x9f\\x98\\x8eð\\x9f\\x91\\x84ð\\x9f\\x91\\x85ð\\x9f\\x92¦ð\\x9f\\x92¦ð\\x9f\\x92¦  ']"
      ]
     },
     "execution_count": 46,
     "metadata": {},
     "output_type": "execute_result"
    }
   ],
   "source": [
    "#removing urls\n",
    "no_url = [re.sub(\"\\w+://\\S+\",\"\",tweet) for tweet in no_user ]\n",
    "no_url[0:4]"
   ]
  },
  {
   "cell_type": "code",
   "execution_count": 47,
   "id": "western-blues",
   "metadata": {},
   "outputs": [
    {
     "data": {
      "text/plain": [
       "['when',\n",
       " 'a',\n",
       " 'father',\n",
       " 'is',\n",
       " 'dysfunctional',\n",
       " 'and',\n",
       " 'is',\n",
       " 'so',\n",
       " 'selfish',\n",
       " 'he',\n",
       " 'drags',\n",
       " 'his',\n",
       " 'kids',\n",
       " 'into',\n",
       " 'his',\n",
       " 'dysfunction',\n",
       " '.',\n",
       " '#run']"
      ]
     },
     "execution_count": 47,
     "metadata": {},
     "output_type": "execute_result"
    }
   ],
   "source": [
    "#tokenization\n",
    "from nltk.tokenize import TweetTokenizer\n",
    "token = TweetTokenizer()\n",
    "final_token = [token.tokenize(sen) for sen in no_url]\n",
    "final_token[0]"
   ]
  },
  {
   "cell_type": "code",
   "execution_count": 48,
   "id": "empirical-threshold",
   "metadata": {},
   "outputs": [],
   "source": [
    "#now removing stopwords , one letter words, punctuation\n",
    "from nltk.corpus import stopwords\n",
    "from string import punctuation\n",
    "stop_nltk = stopwords.words(\"english\")\n",
    "stop_punct= list(punctuation)\n",
    "stop_punct.extend(['...','``',\"''\",\"..\"])\n",
    "stop_context = ['rt', 'amp']   #Remove redundant terms like ‘amp’, ‘rt’, etc.\n",
    "stop_final = stop_nltk + stop_punct + stop_context"
   ]
  },
  {
   "cell_type": "code",
   "execution_count": 49,
   "id": "exciting-selling",
   "metadata": {},
   "outputs": [
    {
     "data": {
      "text/plain": [
       "['i', 'me', 'my', 'myself', 'we', 'our', 'ours', 'ourselves', 'you', \"you're\"]"
      ]
     },
     "execution_count": 49,
     "metadata": {},
     "output_type": "execute_result"
    }
   ],
   "source": [
    "stop_final[:10]"
   ]
  },
  {
   "cell_type": "code",
   "execution_count": 50,
   "id": "pediatric-governor",
   "metadata": {},
   "outputs": [],
   "source": [
    "#cleaning stop_final from our tweets\n",
    "def Remover(sent):\n",
    "    return [re.sub(\"#\",\"\",term) for term in sent if((term not in stop_final) & (len(term)>1))]"
   ]
  },
  {
   "cell_type": "code",
   "execution_count": 51,
   "id": "joint-proposition",
   "metadata": {},
   "outputs": [
    {
     "data": {
      "text/plain": [
       "['father', 'dysfunctional', 'selfish', 'drags', 'kids', 'dysfunction', 'run']"
      ]
     },
     "execution_count": 51,
     "metadata": {},
     "output_type": "execute_result"
    }
   ],
   "source": [
    "Remover(final_token[0])"
   ]
  },
  {
   "cell_type": "code",
   "execution_count": 52,
   "id": "monthly-daniel",
   "metadata": {},
   "outputs": [
    {
     "data": {
      "text/plain": [
       "[['father', 'dysfunctional', 'selfish', 'drags', 'kids', 'dysfunction', 'run'],\n",
       " ['thanks',\n",
       "  'lyft',\n",
       "  'credit',\n",
       "  \"can't\",\n",
       "  'use',\n",
       "  'cause',\n",
       "  'offer',\n",
       "  'wheelchair',\n",
       "  'vans',\n",
       "  'pdx',\n",
       "  'disapointed',\n",
       "  'getthanked'],\n",
       " ['bihday', 'majesty'],\n",
       " ['model', 'love', 'take', 'time', 'urð']]"
      ]
     },
     "execution_count": 52,
     "metadata": {},
     "output_type": "execute_result"
    }
   ],
   "source": [
    "#final tweets\n",
    "clean_tweets = [Remover(token) for token in final_token]\n",
    "clean_tweets[:4]"
   ]
  },
  {
   "cell_type": "code",
   "execution_count": 53,
   "id": "brief-apple",
   "metadata": {},
   "outputs": [
    {
     "data": {
      "text/plain": [
       "['father', 'dysfunctional', 'selfish', 'drags']"
      ]
     },
     "execution_count": 53,
     "metadata": {},
     "output_type": "execute_result"
    }
   ],
   "source": [
    "#Check out the top terms in the tweets:\n",
    "from collections import Counter\n",
    "top_term = []\n",
    "for tweet in clean_tweets:\n",
    "    top_term.extend(tweet)\n",
    "top_term[:4]"
   ]
  },
  {
   "cell_type": "code",
   "execution_count": 54,
   "id": "regulated-jacket",
   "metadata": {},
   "outputs": [
    {
     "data": {
      "text/plain": [
       "[('love', 2748),\n",
       " ('day', 2276),\n",
       " ('happy', 1684),\n",
       " ('time', 1131),\n",
       " ('life', 1118),\n",
       " ('like', 1047),\n",
       " (\"i'm\", 1018),\n",
       " ('today', 1013),\n",
       " ('new', 994),\n",
       " ('thankful', 946)]"
      ]
     },
     "execution_count": 54,
     "metadata": {},
     "output_type": "execute_result"
    }
   ],
   "source": [
    "top_tweets = Counter(top_term)\n",
    "top_tweets.most_common(10)"
   ]
  },
  {
   "cell_type": "code",
   "execution_count": 55,
   "id": "vertical-picture",
   "metadata": {},
   "outputs": [],
   "source": [
    "#Join the tokens back to form strings. This will be required for the vectorizers.\n",
    "#Assign x and y.\n",
    "#Perform train_test_split using sklearn."
   ]
  },
  {
   "cell_type": "code",
   "execution_count": 56,
   "id": "oriental-transport",
   "metadata": {},
   "outputs": [
    {
     "data": {
      "text/plain": [
       "['father', 'dysfunctional', 'selfish', 'drags', 'kids', 'dysfunction', 'run']"
      ]
     },
     "execution_count": 56,
     "metadata": {},
     "output_type": "execute_result"
    }
   ],
   "source": [
    "clean_tweets[0]"
   ]
  },
  {
   "cell_type": "code",
   "execution_count": 57,
   "id": "ruled-nicholas",
   "metadata": {},
   "outputs": [
    {
     "data": {
      "text/plain": [
       "'father dysfunctional selfish drags kids dysfunction run'"
      ]
     },
     "execution_count": 57,
     "metadata": {},
     "output_type": "execute_result"
    }
   ],
   "source": [
    "clean_tweets =[\" \".join(tweet) for tweet in clean_tweets]\n",
    "clean_tweets[0]"
   ]
  },
  {
   "cell_type": "code",
   "execution_count": 58,
   "id": "equipped-plane",
   "metadata": {},
   "outputs": [
    {
     "name": "stdout",
     "output_type": "stream",
     "text": [
      "x_train :  22373  y_train:  22373\n",
      "x_test :  9589  y_test:  9589\n"
     ]
    }
   ],
   "source": [
    "from sklearn.model_selection import train_test_split\n",
    "x=clean_tweets\n",
    "y=tweets.label\n",
    "x_train, x_test, y_train, y_test = train_test_split(x,y,test_size=0.30, random_state= 1)\n",
    "print(\"x_train : \",len(x_train),\" y_train: \",len(y_train))\n",
    "print(\"x_test : \",len(x_test),\" y_test: \",len(y_test))"
   ]
  },
  {
   "cell_type": "markdown",
   "id": "impressive-surface",
   "metadata": {},
   "source": [
    "We’ll use TF-IDF values for the terms as a feature to get into a vector space model.\n",
    "\n",
    "Import TF-IDF  vectorizer from sklearn.\n",
    "\n",
    "Instantiate with a maximum of 5000 terms in your vocabulary.\n",
    "\n",
    "Fit and apply on the train set.\n",
    "\n",
    "Apply on the test set."
   ]
  },
  {
   "cell_type": "code",
   "execution_count": 59,
   "id": "answering-tablet",
   "metadata": {},
   "outputs": [],
   "source": [
    "from sklearn.feature_extraction.text import TfidfVectorizer\n",
    "vector = TfidfVectorizer(max_features = 5000)\n",
    "#fitting the data\n",
    "x_train_bow = vector.fit_transform(x_train)\n",
    "x_test_bow = vector.transform(x_test)\n"
   ]
  },
  {
   "cell_type": "code",
   "execution_count": 60,
   "id": "congressional-section",
   "metadata": {},
   "outputs": [
    {
     "name": "stdout",
     "output_type": "stream",
     "text": [
      "(22373, 5000)\n",
      "  (0, 2591)\t0.3467439954465794\n",
      "  (0, 4327)\t0.39908824976483\n",
      "  (0, 2778)\t0.39908824976483\n",
      "  (0, 4718)\t0.329545038234488\n",
      "  (0, 1556)\t0.40587121081222693\n",
      "  (0, 3405)\t0.3833937860490035\n",
      "  (0, 3808)\t0.3753712459004943\n",
      "  (1, 1870)\t0.26325018218405183\n",
      "  (1, 3632)\t0.8192200307985136\n",
      "  (1, 227)\t0.2903502739989284\n",
      "  (1, 3149)\t0.2123230368961195\n",
      "  (1, 2663)\t0.3608234043275218\n"
     ]
    }
   ],
   "source": [
    "print(x_train_bow.shape)\n",
    "print(x_train_bow[:2])\n",
    "#its basically a matrix of all the words in a tweets"
   ]
  },
  {
   "cell_type": "code",
   "execution_count": 61,
   "id": "elder-dryer",
   "metadata": {},
   "outputs": [
    {
     "data": {
      "text/plain": [
       "LogisticRegression()"
      ]
     },
     "execution_count": 61,
     "metadata": {},
     "output_type": "execute_result"
    }
   ],
   "source": [
    "from sklearn.linear_model import LogisticRegression\n",
    "lgr = LogisticRegression()\n",
    "lgr.fit(x_train_bow, y_train)"
   ]
  },
  {
   "cell_type": "code",
   "execution_count": 62,
   "id": "proved-architecture",
   "metadata": {},
   "outputs": [],
   "source": [
    "y_train_pred = lgr.predict(x_train_bow)\n",
    "y_test_pred = lgr.predict(x_test_bow)"
   ]
  },
  {
   "cell_type": "code",
   "execution_count": 64,
   "id": "julian-bathroom",
   "metadata": {},
   "outputs": [
    {
     "name": "stdout",
     "output_type": "stream",
     "text": [
      "(22373,)\n"
     ]
    }
   ],
   "source": [
    "print(y_train_pred.shape)"
   ]
  },
  {
   "cell_type": "code",
   "execution_count": 67,
   "id": "swiss-opportunity",
   "metadata": {},
   "outputs": [
    {
     "data": {
      "text/plain": [
       "0.955035086935145"
      ]
     },
     "execution_count": 67,
     "metadata": {},
     "output_type": "execute_result"
    }
   ],
   "source": [
    "from sklearn.metrics import accuracy_score , classification_report\n",
    "accuracy_score(y_train, y_train_pred)"
   ]
  },
  {
   "cell_type": "code",
   "execution_count": 68,
   "id": "consecutive-hello",
   "metadata": {},
   "outputs": [
    {
     "name": "stdout",
     "output_type": "stream",
     "text": [
      "              precision    recall  f1-score   support\n",
      "\n",
      "           0       0.95      1.00      0.98     20780\n",
      "           1       0.96      0.38      0.55      1593\n",
      "\n",
      "    accuracy                           0.96     22373\n",
      "   macro avg       0.96      0.69      0.76     22373\n",
      "weighted avg       0.96      0.96      0.95     22373\n",
      "\n"
     ]
    }
   ],
   "source": [
    "print(classification_report(y_train, y_train_pred))"
   ]
  },
  {
   "cell_type": "code",
   "execution_count": 69,
   "id": "designing-feature",
   "metadata": {},
   "outputs": [
    {
     "data": {
      "text/plain": [
       "LogisticRegression(class_weight='balanced')"
      ]
     },
     "execution_count": 69,
     "metadata": {},
     "output_type": "execute_result"
    }
   ],
   "source": [
    "lgr2= LogisticRegression(class_weight= \"balanced\")\n",
    "lgr2.fit(x_train_bow, y_train)"
   ]
  },
  {
   "cell_type": "code",
   "execution_count": 70,
   "id": "british-marking",
   "metadata": {},
   "outputs": [],
   "source": [
    "y_train_pred = lgr2.predict(x_train_bow)\n",
    "y_test_pred = lgr2.predict(x_test_bow)"
   ]
  },
  {
   "cell_type": "code",
   "execution_count": 71,
   "id": "interested-driving",
   "metadata": {},
   "outputs": [
    {
     "data": {
      "text/plain": [
       "0.9505654136682609"
      ]
     },
     "execution_count": 71,
     "metadata": {},
     "output_type": "execute_result"
    }
   ],
   "source": [
    "from sklearn.metrics import accuracy_score , classification_report\n",
    "accuracy_score(y_train, y_train_pred)"
   ]
  },
  {
   "cell_type": "code",
   "execution_count": 72,
   "id": "annoying-universal",
   "metadata": {},
   "outputs": [
    {
     "name": "stdout",
     "output_type": "stream",
     "text": [
      "              precision    recall  f1-score   support\n",
      "\n",
      "           0       1.00      0.95      0.97     20780\n",
      "           1       0.59      0.97      0.74      1593\n",
      "\n",
      "    accuracy                           0.95     22373\n",
      "   macro avg       0.80      0.96      0.86     22373\n",
      "weighted avg       0.97      0.95      0.96     22373\n",
      "\n"
     ]
    }
   ],
   "source": [
    "print(classification_report(y_train, y_train_pred))"
   ]
  },
  {
   "cell_type": "markdown",
   "id": "greek-commons",
   "metadata": {},
   "source": [
    "\n",
    "Regularization and Hyperparameter tuning:\n",
    "\n",
    "Import GridSearch and StratifiedKFold because of class imbalance.\n",
    "\n",
    "Provide the parameter grid to choose for ‘C’ and ‘penalty’ parameters.\n",
    "\n",
    "Use a balanced class weight while instantiating the logistic regression."
   ]
  },
  {
   "cell_type": "code",
   "execution_count": 73,
   "id": "welsh-czech",
   "metadata": {},
   "outputs": [],
   "source": [
    "from sklearn.model_selection import GridSearchCV, StratifiedKFold\n",
    "# Create the parameter grid based on the results of random search \n",
    "param_grid = {\n",
    "    'C': [0.01,0.1,1,10,100],\n",
    "    'penalty': [\"l1\",\"l2\"]\n",
    "}"
   ]
  },
  {
   "cell_type": "code",
   "execution_count": 74,
   "id": "prostate-ministry",
   "metadata": {},
   "outputs": [],
   "source": [
    "logger3 = LogisticRegression(class_weight = \"balanced\")"
   ]
  },
  {
   "cell_type": "code",
   "execution_count": 75,
   "id": "personalized-rating",
   "metadata": {},
   "outputs": [],
   "source": [
    "# Instantiate the grid search model\n",
    "grid_search = GridSearchCV(estimator = logger3, param_grid = param_grid, \n",
    "                          cv = StratifiedKFold(4), n_jobs = -1, verbose = 1, scoring = \"recall\" )"
   ]
  },
  {
   "cell_type": "code",
   "execution_count": 76,
   "id": "tender-latino",
   "metadata": {},
   "outputs": [
    {
     "name": "stdout",
     "output_type": "stream",
     "text": [
      "Fitting 4 folds for each of 10 candidates, totalling 40 fits\n"
     ]
    },
    {
     "name": "stderr",
     "output_type": "stream",
     "text": [
      "C:\\Users\\nitin\\.conda\\envs\\tf\\lib\\site-packages\\sklearn\\model_selection\\_search.py:918: UserWarning: One or more of the test scores are non-finite: [       nan 0.7218911         nan 0.76582789        nan 0.76834989\n",
      "        nan 0.73006322        nan 0.69492985]\n",
      "  warnings.warn(\n"
     ]
    },
    {
     "data": {
      "text/plain": [
       "GridSearchCV(cv=StratifiedKFold(n_splits=4, random_state=None, shuffle=False),\n",
       "             estimator=LogisticRegression(class_weight='balanced'), n_jobs=-1,\n",
       "             param_grid={'C': [0.01, 0.1, 1, 10, 100], 'penalty': ['l1', 'l2']},\n",
       "             scoring='recall', verbose=1)"
      ]
     },
     "execution_count": 76,
     "metadata": {},
     "output_type": "execute_result"
    }
   ],
   "source": [
    "\n",
    "grid_search.fit(x_train_bow, y_train)"
   ]
  },
  {
   "cell_type": "code",
   "execution_count": 77,
   "id": "passive-hobby",
   "metadata": {},
   "outputs": [
    {
     "data": {
      "text/plain": [
       "LogisticRegression(C=1, class_weight='balanced')"
      ]
     },
     "execution_count": 77,
     "metadata": {},
     "output_type": "execute_result"
    }
   ],
   "source": [
    "grid_search.best_estimator_"
   ]
  },
  {
   "cell_type": "code",
   "execution_count": 78,
   "id": "female-conference",
   "metadata": {},
   "outputs": [],
   "source": [
    "# Using the best estimator from the grid search to make predictions on the test set\n",
    "y_test_pred = grid_search.best_estimator_.predict(x_test_bow)\n",
    "y_train_pred = grid_search.best_estimator_.predict(x_train_bow)"
   ]
  },
  {
   "cell_type": "code",
   "execution_count": 79,
   "id": "overhead-honor",
   "metadata": {},
   "outputs": [
    {
     "name": "stdout",
     "output_type": "stream",
     "text": [
      "              precision    recall  f1-score   support\n",
      "\n",
      "           0       0.98      0.93      0.96      8940\n",
      "           1       0.46      0.77      0.58       649\n",
      "\n",
      "    accuracy                           0.92      9589\n",
      "   macro avg       0.72      0.85      0.77      9589\n",
      "weighted avg       0.95      0.92      0.93      9589\n",
      "\n"
     ]
    }
   ],
   "source": [
    "print(classification_report(y_test, y_test_pred))"
   ]
  },
  {
   "cell_type": "code",
   "execution_count": null,
   "id": "dated-district",
   "metadata": {},
   "outputs": [],
   "source": []
  }
 ],
 "metadata": {
  "kernelspec": {
   "display_name": "Python 3",
   "language": "python",
   "name": "python3"
  },
  "language_info": {
   "codemirror_mode": {
    "name": "ipython",
    "version": 3
   },
   "file_extension": ".py",
   "mimetype": "text/x-python",
   "name": "python",
   "nbconvert_exporter": "python",
   "pygments_lexer": "ipython3",
   "version": "3.8.5"
  }
 },
 "nbformat": 4,
 "nbformat_minor": 5
}
