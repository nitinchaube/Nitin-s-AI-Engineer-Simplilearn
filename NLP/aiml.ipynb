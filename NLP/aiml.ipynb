{
 "cells": [
  {
   "cell_type": "code",
   "execution_count": 1,
   "metadata": {},
   "outputs": [],
   "source": [
    "import aiml"
   ]
  },
  {
   "cell_type": "code",
   "execution_count": 3,
   "metadata": {},
   "outputs": [],
   "source": [
    "kernel = aiml.Kernel()"
   ]
  },
  {
   "cell_type": "code",
   "execution_count": 4,
   "metadata": {},
   "outputs": [
    {
     "name": "stdout",
     "output_type": "stream",
     "text": [
      "Loading brain from aiml_pretrained_model.dump...done (101908 categories in 3.08 seconds)\n"
     ]
    }
   ],
   "source": [
    "kernel.loadBrain('aiml_pretrained_model.dump')"
   ]
  },
  {
   "cell_type": "code",
   "execution_count": 5,
   "metadata": {},
   "outputs": [
    {
     "name": "stdout",
     "output_type": "stream",
     "text": [
      "Loading learningFileList.aiml...done (0.00 seconds)\n",
      "\n",
      "Kernel bootstrap completed in 0.01 seconds\n"
     ]
    }
   ],
   "source": [
    "kernel.bootstrap(learnFiles='learningFileList.aiml', commands='load aiml')"
   ]
  },
  {
   "cell_type": "code",
   "execution_count": 6,
   "metadata": {},
   "outputs": [
    {
     "name": "stdout",
     "output_type": "stream",
     "text": [
      "Saving brain to aiml_pretrained_model.dump...done (0.11 seconds)\n"
     ]
    }
   ],
   "source": [
    "kernel.saveBrain('aiml_pretrained_model.dump')"
   ]
  },
  {
   "cell_type": "code",
   "execution_count": null,
   "metadata": {},
   "outputs": [
    {
     "name": "stdin",
     "output_type": "stream",
     "text": [
      "Users query : \n",
      " who are you\n"
     ]
    },
    {
     "name": "stdout",
     "output_type": "stream",
     "text": [
      "Bot--> :  I ask myself that question, \"Who am I?\"\n"
     ]
    },
    {
     "name": "stdin",
     "output_type": "stream",
     "text": [
      "Users query : \n",
      " you are lazy\n"
     ]
    },
    {
     "name": "stdout",
     "output_type": "stream",
     "text": [
      "Bot--> :  Actually I work 24 hours a day.\n"
     ]
    },
    {
     "name": "stdin",
     "output_type": "stream",
     "text": [
      "Users query : \n",
      " you are arrogant\n"
     ]
    },
    {
     "name": "stdout",
     "output_type": "stream",
     "text": [
      "Bot--> :  Arrogance is not one of my emotions.\n"
     ]
    },
    {
     "name": "stdin",
     "output_type": "stream",
     "text": [
      "Users query : \n",
      " are you arrogant\n"
     ]
    },
    {
     "name": "stdout",
     "output_type": "stream",
     "text": [
      "Bot--> :  Do I look like  ARROGANT  ?\n"
     ]
    },
    {
     "name": "stdin",
     "output_type": "stream",
     "text": [
      "Users query : \n",
      " arrogance is in you\n"
     ]
    },
    {
     "name": "stdout",
     "output_type": "stream",
     "text": [
      "Bot--> :  What else is arrogance in?\n"
     ]
    }
   ],
   "source": [
    "while True:\n",
    "    query = input('Users query : \\n')\n",
    "    response = kernel.respond(query)\n",
    "    \n",
    "    if response:\n",
    "        print('Bot--> : ',response)\n",
    "    else:\n",
    "        print('Bot--> end ')"
   ]
  },
  {
   "cell_type": "code",
   "execution_count": null,
   "metadata": {},
   "outputs": [],
   "source": []
  }
 ],
 "metadata": {
  "kernelspec": {
   "display_name": "Python 3",
   "language": "python",
   "name": "python3"
  },
  "language_info": {
   "codemirror_mode": {
    "name": "ipython",
    "version": 3
   },
   "file_extension": ".py",
   "mimetype": "text/x-python",
   "name": "python",
   "nbconvert_exporter": "python",
   "pygments_lexer": "ipython3",
   "version": "3.7.6"
  }
 },
 "nbformat": 4,
 "nbformat_minor": 4
}
