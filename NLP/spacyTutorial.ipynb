{
 "cells": [
  {
   "cell_type": "code",
   "execution_count": 1,
   "id": "explicit-function",
   "metadata": {},
   "outputs": [],
   "source": [
    "import spacy"
   ]
  },
  {
   "cell_type": "code",
   "execution_count": 2,
   "id": "outside-domestic",
   "metadata": {},
   "outputs": [],
   "source": [
    "nlp = spacy.load(\"en_core_web_sm\")\n",
    "doc =nlp(\" i am keoo the greatest soldier of universe.\")"
   ]
  },
  {
   "cell_type": "code",
   "execution_count": 3,
   "id": "alternate-pioneer",
   "metadata": {},
   "outputs": [
    {
     "name": "stdout",
     "output_type": "stream",
     "text": [
      " i am keoo the greatest soldier of universe.\n"
     ]
    }
   ],
   "source": [
    "print(doc)"
   ]
  },
  {
   "cell_type": "code",
   "execution_count": 4,
   "id": "valuable-opinion",
   "metadata": {},
   "outputs": [
    {
     "name": "stdout",
     "output_type": "stream",
     "text": [
      "  ------ SPACE\n",
      "i ------ PRON\n",
      "am ------ AUX\n",
      "keoo ------ PROPN\n",
      "the ------ DET\n",
      "greatest ------ ADJ\n",
      "soldier ------ NOUN\n",
      "of ------ ADP\n",
      "universe ------ NOUN\n",
      ". ------ PUNCT\n"
     ]
    }
   ],
   "source": [
    "for token in doc:\n",
    "    print(token.text,\"------\",token.pos_)"
   ]
  },
  {
   "cell_type": "code",
   "execution_count": 5,
   "id": "simple-lambda",
   "metadata": {},
   "outputs": [
    {
     "name": "stdout",
     "output_type": "stream",
     "text": [
      "   -->    SPACE _SP npadvmod   False False\n",
      "i  -->  I PRON PRP nsubj x True True\n",
      "am  -->  be AUX VBP ROOT xx True True\n",
      "keoo  -->  keoo PROPN NNP attr xxxx True False\n",
      "the  -->  the DET DT det xxx True True\n",
      "greatest  -->  great ADJ JJS amod xxxx True False\n",
      "soldier  -->  soldier NOUN NN appos xxxx True False\n",
      "of  -->  of ADP IN prep xx True True\n",
      "universe  -->  universe NOUN NN pobj xxxx True False\n",
      ".  -->  . PUNCT . punct . False False\n"
     ]
    }
   ],
   "source": [
    "for token in doc:\n",
    "    print(token.text,\" --> \" ,token.lemma_, token.pos_, token.tag_, token.dep_,token.shape_, token.is_alpha, token.is_stop)"
   ]
  },
  {
   "cell_type": "markdown",
   "id": "continued-signal",
   "metadata": {},
   "source": [
    "# Named Entity recognition"
   ]
  },
  {
   "cell_type": "code",
   "execution_count": 6,
   "id": "charitable-cornwall",
   "metadata": {},
   "outputs": [
    {
     "name": "stdout",
     "output_type": "stream",
     "text": [
      "Apple 0 5 ORG\n",
      "U.K. 27 31 GPE\n",
      "$1 billion 44 54 MONEY\n"
     ]
    }
   ],
   "source": [
    "#loading english model\n",
    "\n",
    "doc = nlp(\"Apple is looking at buying U.K. startup for $1 billion\")\n",
    "#printing Named Entities\n",
    "for ent in doc.ents:\n",
    "    print(ent.text, ent.start_char, ent.end_char, ent.label_)"
   ]
  },
  {
   "cell_type": "code",
   "execution_count": null,
   "id": "current-resistance",
   "metadata": {},
   "outputs": [],
   "source": []
  },
  {
   "cell_type": "code",
   "execution_count": null,
   "id": "standard-paper",
   "metadata": {},
   "outputs": [],
   "source": []
  }
 ],
 "metadata": {
  "kernelspec": {
   "display_name": "Python 3",
   "language": "python",
   "name": "python3"
  },
  "language_info": {
   "codemirror_mode": {
    "name": "ipython",
    "version": 3
   },
   "file_extension": ".py",
   "mimetype": "text/x-python",
   "name": "python",
   "nbconvert_exporter": "python",
   "pygments_lexer": "ipython3",
   "version": "3.8.5"
  }
 },
 "nbformat": 4,
 "nbformat_minor": 5
}
