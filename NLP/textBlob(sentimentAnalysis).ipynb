{
 "cells": [
  {
   "cell_type": "code",
   "execution_count": 2,
   "id": "patent-expansion",
   "metadata": {},
   "outputs": [],
   "source": [
    "from textblob import TextBlob\n",
    "from textblob import Word"
   ]
  },
  {
   "cell_type": "markdown",
   "id": "champion-findings",
   "metadata": {},
   "source": [
    " POLARITY ---> 0 -neutral, \n",
    " 1 -very positive , \n",
    " -1 -very negative"
   ]
  },
  {
   "cell_type": "markdown",
   "id": "expired-huntington",
   "metadata": {},
   "source": [
    "SUBJECTIVITY---> CLOSER TO 0 -FACTUAL, CLOSER TO 1 - PERSONAL"
   ]
  },
  {
   "cell_type": "code",
   "execution_count": 6,
   "id": "according-quest",
   "metadata": {},
   "outputs": [
    {
     "data": {
      "text/plain": [
       "Sentiment(polarity=0.7, subjectivity=0.6000000000000001)"
      ]
     },
     "execution_count": 6,
     "metadata": {},
     "output_type": "execute_result"
    }
   ],
   "source": [
    "TextBlob(\"nitin is a good boy\").sentiment"
   ]
  },
  {
   "cell_type": "code",
   "execution_count": 7,
   "id": "hydraulic-abuse",
   "metadata": {},
   "outputs": [
    {
     "data": {
      "text/plain": [
       "Sentiment(polarity=0.9099999999999999, subjectivity=0.7800000000000001)"
      ]
     },
     "execution_count": 7,
     "metadata": {},
     "output_type": "execute_result"
    }
   ],
   "source": [
    "TextBlob(\"nitin is a very very good boy\").sentiment"
   ]
  },
  {
   "cell_type": "code",
   "execution_count": null,
   "id": "occupational-coverage",
   "metadata": {},
   "outputs": [],
   "source": []
  }
 ],
 "metadata": {
  "kernelspec": {
   "display_name": "Python 3",
   "language": "python",
   "name": "python3"
  },
  "language_info": {
   "codemirror_mode": {
    "name": "ipython",
    "version": 3
   },
   "file_extension": ".py",
   "mimetype": "text/x-python",
   "name": "python",
   "nbconvert_exporter": "python",
   "pygments_lexer": "ipython3",
   "version": "3.8.5"
  }
 },
 "nbformat": 4,
 "nbformat_minor": 5
}
