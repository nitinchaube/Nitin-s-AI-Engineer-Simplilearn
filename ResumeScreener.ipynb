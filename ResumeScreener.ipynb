{
 "cells": [
  {
   "cell_type": "code",
   "execution_count": 1,
   "id": "agreed-exception",
   "metadata": {},
   "outputs": [],
   "source": [
    "# Import all libraries\n",
    "import matplotlib.pyplot as plt\n",
    "import nltk\n",
    "from nltk.corpus import stopwords\n",
    "from nltk.tokenize import word_tokenize\n",
    "import numpy as np\n",
    "import pandas as pd\n",
    "import pickle\n",
    "import re\n",
    "import seaborn as sns\n",
    "from sklearn import metrics\n",
    "from sklearn.metrics import accuracy_score\n",
    "from sklearn.utils import shuffle\n",
    "import string\n",
    "import tensorflow as tf\n",
    "from tensorflow.keras.preprocessing.sequence import pad_sequences\n",
    "from tensorflow.keras.preprocessing.text import Tokenizer\n",
    "import warnings\n",
    "\n",
    "warnings.filterwarnings('ignore')\n",
    "np.set_printoptions(precision=4) #tells you till 4 decimal value a float number can be"
   ]
  },
  {
   "cell_type": "code",
   "execution_count": 2,
   "id": "political-affiliation",
   "metadata": {},
   "outputs": [
    {
     "data": {
      "text/html": [
       "<div>\n",
       "<style scoped>\n",
       "    .dataframe tbody tr th:only-of-type {\n",
       "        vertical-align: middle;\n",
       "    }\n",
       "\n",
       "    .dataframe tbody tr th {\n",
       "        vertical-align: top;\n",
       "    }\n",
       "\n",
       "    .dataframe thead th {\n",
       "        text-align: right;\n",
       "    }\n",
       "</style>\n",
       "<table border=\"1\" class=\"dataframe\">\n",
       "  <thead>\n",
       "    <tr style=\"text-align: right;\">\n",
       "      <th></th>\n",
       "      <th>Category</th>\n",
       "      <th>Resume</th>\n",
       "    </tr>\n",
       "  </thead>\n",
       "  <tbody>\n",
       "    <tr>\n",
       "      <th>0</th>\n",
       "      <td>Data Science</td>\n",
       "      <td>Skills * Programming Languages: Python (pandas...</td>\n",
       "    </tr>\n",
       "    <tr>\n",
       "      <th>1</th>\n",
       "      <td>Data Science</td>\n",
       "      <td>Education Details \\r\\nMay 2013 to May 2017 B.E...</td>\n",
       "    </tr>\n",
       "    <tr>\n",
       "      <th>2</th>\n",
       "      <td>Data Science</td>\n",
       "      <td>Areas of Interest Deep Learning, Control Syste...</td>\n",
       "    </tr>\n",
       "    <tr>\n",
       "      <th>3</th>\n",
       "      <td>Data Science</td>\n",
       "      <td>Skills â¢ R â¢ Python â¢ SAP HANA â¢ Table...</td>\n",
       "    </tr>\n",
       "    <tr>\n",
       "      <th>4</th>\n",
       "      <td>Data Science</td>\n",
       "      <td>Education Details \\r\\n MCA   YMCAUST,  Faridab...</td>\n",
       "    </tr>\n",
       "  </tbody>\n",
       "</table>\n",
       "</div>"
      ],
      "text/plain": [
       "       Category                                             Resume\n",
       "0  Data Science  Skills * Programming Languages: Python (pandas...\n",
       "1  Data Science  Education Details \\r\\nMay 2013 to May 2017 B.E...\n",
       "2  Data Science  Areas of Interest Deep Learning, Control Syste...\n",
       "3  Data Science  Skills â¢ R â¢ Python â¢ SAP HANA â¢ Table...\n",
       "4  Data Science  Education Details \\r\\n MCA   YMCAUST,  Faridab..."
      ]
     },
     "execution_count": 2,
     "metadata": {},
     "output_type": "execute_result"
    }
   ],
   "source": [
    "#Read the data using pandas\n",
    "data = pd.read_csv('./data/UpdatedResumeDataSet.csv')\n",
    "data.head()"
   ]
  },
  {
   "cell_type": "code",
   "execution_count": 3,
   "id": "protected-justice",
   "metadata": {},
   "outputs": [
    {
     "data": {
      "text/plain": [
       "Java Developer               84\n",
       "Testing                      70\n",
       "DevOps Engineer              55\n",
       "Python Developer             48\n",
       "Web Designing                45\n",
       "HR                           44\n",
       "Hadoop                       42\n",
       "Data Science                 40\n",
       "Mechanical Engineer          40\n",
       "Sales                        40\n",
       "ETL Developer                40\n",
       "Blockchain                   40\n",
       "Operations Manager           40\n",
       "Arts                         36\n",
       "Database                     33\n",
       "PMO                          30\n",
       "Health and fitness           30\n",
       "Electrical Engineering       30\n",
       "DotNet Developer             28\n",
       "Business Analyst             28\n",
       "Automation Testing           26\n",
       "Network Security Engineer    25\n",
       "SAP Developer                24\n",
       "Civil Engineer               24\n",
       "Advocate                     20\n",
       "Name: Category, dtype: int64"
      ]
     },
     "execution_count": 3,
     "metadata": {},
     "output_type": "execute_result"
    }
   ],
   "source": [
    "data['Category'].value_counts()"
   ]
  },
  {
   "cell_type": "code",
   "execution_count": 4,
   "id": "varying-carol",
   "metadata": {},
   "outputs": [
    {
     "data": {
      "text/html": [
       "<div>\n",
       "<style scoped>\n",
       "    .dataframe tbody tr th:only-of-type {\n",
       "        vertical-align: middle;\n",
       "    }\n",
       "\n",
       "    .dataframe tbody tr th {\n",
       "        vertical-align: top;\n",
       "    }\n",
       "\n",
       "    .dataframe thead th {\n",
       "        text-align: right;\n",
       "    }\n",
       "</style>\n",
       "<table border=\"1\" class=\"dataframe\">\n",
       "  <thead>\n",
       "    <tr style=\"text-align: right;\">\n",
       "      <th></th>\n",
       "      <th>Category</th>\n",
       "      <th>Resume</th>\n",
       "    </tr>\n",
       "  </thead>\n",
       "  <tbody>\n",
       "    <tr>\n",
       "      <th>count</th>\n",
       "      <td>962</td>\n",
       "      <td>962</td>\n",
       "    </tr>\n",
       "    <tr>\n",
       "      <th>unique</th>\n",
       "      <td>25</td>\n",
       "      <td>166</td>\n",
       "    </tr>\n",
       "    <tr>\n",
       "      <th>top</th>\n",
       "      <td>Java Developer</td>\n",
       "      <td>Technical Skills Web Technologies: Angular JS,...</td>\n",
       "    </tr>\n",
       "    <tr>\n",
       "      <th>freq</th>\n",
       "      <td>84</td>\n",
       "      <td>18</td>\n",
       "    </tr>\n",
       "  </tbody>\n",
       "</table>\n",
       "</div>"
      ],
      "text/plain": [
       "              Category                                             Resume\n",
       "count              962                                                962\n",
       "unique              25                                                166\n",
       "top     Java Developer  Technical Skills Web Technologies: Angular JS,...\n",
       "freq                84                                                 18"
      ]
     },
     "execution_count": 4,
     "metadata": {},
     "output_type": "execute_result"
    }
   ],
   "source": [
    "data.describe()"
   ]
  },
  {
   "cell_type": "code",
   "execution_count": 5,
   "id": "recorded-capital",
   "metadata": {},
   "outputs": [],
   "source": [
    "data = data[data.Category != 'Testing']"
   ]
  },
  {
   "cell_type": "code",
   "execution_count": 6,
   "id": "upset-market",
   "metadata": {},
   "outputs": [],
   "source": [
    "data_size= len(data)"
   ]
  },
  {
   "cell_type": "code",
   "execution_count": 7,
   "id": "alike-continent",
   "metadata": {},
   "outputs": [
    {
     "data": {
      "text/plain": [
       "'Skills * Programming Languages: Python (pandas, numpy, scipy, scikit-learn, matplotlib), Sql, Java, JavaScript/JQuery. * Machine learning: Regression, SVM, NaÃ¯ve Bayes, KNN, Random Forest, Decision Trees, Boosting techniques, Cluster Analysis, Word Embedding, Sentiment Analysis, Natural Language processing, Dimensionality reduction, Topic Modelling (LDA, NMF), PCA & Neural Nets. * Database Visualizations: Mysql, SqlServer, Cassandra, Hbase, ElasticSearch D3.js, DC.js, Plotly, kibana, matplotlib, ggplot, Tableau. * Others: Regular Expression, HTML, CSS, Angular 6, Logstash, Kafka, Python Flask, Git, Docker, computer vision - Open CV and understanding of Deep learning.Education Details \\r\\n\\r\\nData Science Assurance Associate \\r\\n\\r\\nData Science Assurance Associate - Ernst & Young LLP\\r\\nSkill Details \\r\\nJAVASCRIPT- Exprience - 24 months\\r\\njQuery- Exprience - 24 months\\r\\nPython- Exprience - 24 monthsCompany Details \\r\\ncompany - Ernst & Young LLP\\r\\ndescription - Fraud Investigations and Dispute Services   Assurance\\r\\nTECHNOLOGY ASSISTED REVIEW\\r\\nTAR (Technology Assisted Review) assists in accelerating the review process and run analytics and generate reports.\\r\\n* Core member of a team helped in developing automated review platform tool from scratch for assisting E discovery domain, this tool implements predictive coding and topic modelling by automating reviews, resulting in reduced labor costs and time spent during the lawyers review.\\r\\n* Understand the end to end flow of the solution, doing research and development for classification models, predictive analysis and mining of the information present in text data. Worked on analyzing the outputs and precision monitoring for the entire tool.\\r\\n* TAR assists in predictive coding, topic modelling from the evidence by following EY standards. Developed the classifier models in order to identify \"red flags\" and fraud-related issues.\\r\\n\\r\\nTools & Technologies: Python, scikit-learn, tfidf, word2vec, doc2vec, cosine similarity, NaÃ¯ve Bayes, LDA, NMF for topic modelling, Vader and text blob for sentiment analysis. Matplot lib, Tableau dashboard for reporting.\\r\\n\\r\\nMULTIPLE DATA SCIENCE AND ANALYTIC PROJECTS (USA CLIENTS)\\r\\nTEXT ANALYTICS - MOTOR VEHICLE CUSTOMER REVIEW DATA * Received customer feedback survey data for past one year. Performed sentiment (Positive, Negative & Neutral) and time series analysis on customer comments across all 4 categories.\\r\\n* Created heat map of terms by survey category based on frequency of words * Extracted Positive and Negative words across all the Survey categories and plotted Word cloud.\\r\\n* Created customized tableau dashboards for effective reporting and visualizations.\\r\\nCHATBOT * Developed a user friendly chatbot for one of our Products which handle simple questions about hours of operation, reservation options and so on.\\r\\n* This chat bot serves entire product related questions. Giving overview of tool via QA platform and also give recommendation responses so that user question to build chain of relevant answer.\\r\\n* This too has intelligence to build the pipeline of questions as per user requirement and asks the relevant /recommended questions.\\r\\n\\r\\nTools & Technologies: Python, Natural language processing, NLTK, spacy, topic modelling, Sentiment analysis, Word Embedding, scikit-learn, JavaScript/JQuery, SqlServer\\r\\n\\r\\nINFORMATION GOVERNANCE\\r\\nOrganizations to make informed decisions about all of the information they store. The integrated Information Governance portfolio synthesizes intelligence across unstructured data sources and facilitates action to ensure organizations are best positioned to counter information risk.\\r\\n* Scan data from multiple sources of formats and parse different file formats, extract Meta data information, push results for indexing elastic search and created customized, interactive dashboards using kibana.\\r\\n* Preforming ROT Analysis on the data which give information of data which helps identify content that is either Redundant, Outdated, or Trivial.\\r\\n* Preforming full-text search analysis on elastic search with predefined methods which can tag as (PII) personally identifiable information (social security numbers, addresses, names, etc.) which frequently targeted during cyber-attacks.\\r\\nTools & Technologies: Python, Flask, Elastic Search, Kibana\\r\\n\\r\\nFRAUD ANALYTIC PLATFORM\\r\\nFraud Analytics and investigative platform to review all red flag cases.\\r\\nâ\\x80¢ FAP is a Fraud Analytics and investigative platform with inbuilt case manager and suite of Analytics for various ERP systems.\\r\\n* It can be used by clients to interrogate their Accounting systems for identifying the anomalies which can be indicators of fraud by running advanced analytics\\r\\nTools & Technologies: HTML, JavaScript, SqlServer, JQuery, CSS, Bootstrap, Node.js, D3.js, DC.js'"
      ]
     },
     "execution_count": 7,
     "metadata": {},
     "output_type": "execute_result"
    }
   ],
   "source": [
    "data['Resume'][0]"
   ]
  },
  {
   "cell_type": "code",
   "execution_count": 8,
   "id": "brilliant-attraction",
   "metadata": {},
   "outputs": [],
   "source": [
    "# As u can see in the above data , \n",
    "#lots of cleaning is required so lets go for cleanig the data"
   ]
  },
  {
   "cell_type": "code",
   "execution_count": 9,
   "id": "prescription-headline",
   "metadata": {},
   "outputs": [
    {
     "data": {
      "text/plain": [
       "{\"''\",\n",
       " '``',\n",
       " 'a',\n",
       " 'about',\n",
       " 'above',\n",
       " 'after',\n",
       " 'again',\n",
       " 'against',\n",
       " 'ain',\n",
       " 'all',\n",
       " 'am',\n",
       " 'an',\n",
       " 'and',\n",
       " 'any',\n",
       " 'are',\n",
       " 'aren',\n",
       " \"aren't\",\n",
       " 'as',\n",
       " 'at',\n",
       " 'be',\n",
       " 'because',\n",
       " 'been',\n",
       " 'before',\n",
       " 'being',\n",
       " 'below',\n",
       " 'between',\n",
       " 'both',\n",
       " 'but',\n",
       " 'by',\n",
       " 'can',\n",
       " 'couldn',\n",
       " \"couldn't\",\n",
       " 'd',\n",
       " 'did',\n",
       " 'didn',\n",
       " \"didn't\",\n",
       " 'do',\n",
       " 'does',\n",
       " 'doesn',\n",
       " \"doesn't\",\n",
       " 'doing',\n",
       " 'don',\n",
       " \"don't\",\n",
       " 'down',\n",
       " 'during',\n",
       " 'each',\n",
       " 'few',\n",
       " 'for',\n",
       " 'from',\n",
       " 'further',\n",
       " 'had',\n",
       " 'hadn',\n",
       " \"hadn't\",\n",
       " 'has',\n",
       " 'hasn',\n",
       " \"hasn't\",\n",
       " 'have',\n",
       " 'haven',\n",
       " \"haven't\",\n",
       " 'having',\n",
       " 'he',\n",
       " 'her',\n",
       " 'here',\n",
       " 'hers',\n",
       " 'herself',\n",
       " 'him',\n",
       " 'himself',\n",
       " 'his',\n",
       " 'how',\n",
       " 'i',\n",
       " 'if',\n",
       " 'in',\n",
       " 'into',\n",
       " 'is',\n",
       " 'isn',\n",
       " \"isn't\",\n",
       " 'it',\n",
       " \"it's\",\n",
       " 'its',\n",
       " 'itself',\n",
       " 'just',\n",
       " 'll',\n",
       " 'm',\n",
       " 'ma',\n",
       " 'me',\n",
       " 'mightn',\n",
       " \"mightn't\",\n",
       " 'more',\n",
       " 'most',\n",
       " 'mustn',\n",
       " \"mustn't\",\n",
       " 'my',\n",
       " 'myself',\n",
       " 'needn',\n",
       " \"needn't\",\n",
       " 'no',\n",
       " 'nor',\n",
       " 'not',\n",
       " 'now',\n",
       " 'o',\n",
       " 'of',\n",
       " 'off',\n",
       " 'on',\n",
       " 'once',\n",
       " 'only',\n",
       " 'or',\n",
       " 'other',\n",
       " 'our',\n",
       " 'ours',\n",
       " 'ourselves',\n",
       " 'out',\n",
       " 'over',\n",
       " 'own',\n",
       " 're',\n",
       " 's',\n",
       " 'same',\n",
       " 'shan',\n",
       " \"shan't\",\n",
       " 'she',\n",
       " \"she's\",\n",
       " 'should',\n",
       " \"should've\",\n",
       " 'shouldn',\n",
       " \"shouldn't\",\n",
       " 'so',\n",
       " 'some',\n",
       " 'such',\n",
       " 't',\n",
       " 'than',\n",
       " 'that',\n",
       " \"that'll\",\n",
       " 'the',\n",
       " 'their',\n",
       " 'theirs',\n",
       " 'them',\n",
       " 'themselves',\n",
       " 'then',\n",
       " 'there',\n",
       " 'these',\n",
       " 'they',\n",
       " 'this',\n",
       " 'those',\n",
       " 'through',\n",
       " 'to',\n",
       " 'too',\n",
       " 'under',\n",
       " 'until',\n",
       " 'up',\n",
       " 've',\n",
       " 'very',\n",
       " 'was',\n",
       " 'wasn',\n",
       " \"wasn't\",\n",
       " 'we',\n",
       " 'were',\n",
       " 'weren',\n",
       " \"weren't\",\n",
       " 'what',\n",
       " 'when',\n",
       " 'where',\n",
       " 'which',\n",
       " 'while',\n",
       " 'who',\n",
       " 'whom',\n",
       " 'why',\n",
       " 'will',\n",
       " 'with',\n",
       " 'won',\n",
       " \"won't\",\n",
       " 'wouldn',\n",
       " \"wouldn't\",\n",
       " 'y',\n",
       " 'you',\n",
       " \"you'd\",\n",
       " \"you'll\",\n",
       " \"you're\",\n",
       " \"you've\",\n",
       " 'your',\n",
       " 'yours',\n",
       " 'yourself',\n",
       " 'yourselves'}"
      ]
     },
     "execution_count": 9,
     "metadata": {},
     "output_type": "execute_result"
    }
   ],
   "source": [
    "stopwords = set(stopwords.words('english')+['``',\"''\"])\n",
    "stopwords"
   ]
  },
  {
   "cell_type": "code",
   "execution_count": 10,
   "id": "dense-receipt",
   "metadata": {},
   "outputs": [],
   "source": [
    "def clear_text(txt):\n",
    "    clean_text = re.sub('http\\S+\\s*', ' ', txt)  # remove URLs\n",
    "    clean_text = re.sub('RT|cc', ' ', clean_text)  # remove RT and cc\n",
    "    clean_text = re.sub('#\\S+', '', clean_text)  # remove hashtags\n",
    "    clean_text = re.sub('@\\S+', '  ', clean_text)  # remove mentions\n",
    "    clean_text = re.sub('[%s]' % re.escape(\"\"\"!\"#$%&'()*+,-./:;<=>?@[\\]^_`{|}~\"\"\"), ' ', clean_text)  # remove punctuations\n",
    "    clean_text = re.sub(r'[^\\x00-\\x7f]',r' ', clean_text) \n",
    "    clean_text = re.sub('\\s+', ' ', clean_text)  # remove extra whitespace\n",
    "    clean_text = clean_text.lower()  # convert to lowercase\n",
    "    clean_text_tokens = word_tokenize(clean_text)  # tokenize\n",
    "    filtered_text = [w for w in clean_text_tokens if not w in stopwords]  # remove stopwords\n",
    "    return ' '.join(filtered_text)"
   ]
  },
  {
   "cell_type": "code",
   "execution_count": 11,
   "id": "controlled-biodiversity",
   "metadata": {},
   "outputs": [],
   "source": [
    "#applying the above function to data\n",
    "data[\"cleaned_resume\"]= data.Resume.apply(lambda x:clear_text(x))"
   ]
  },
  {
   "cell_type": "code",
   "execution_count": 12,
   "id": "proof-screen",
   "metadata": {},
   "outputs": [
    {
     "name": "stdout",
     "output_type": "stream",
     "text": [
      "skills programming languages python pandas numpy scipy scikit learn matplotlib sql java javascript jquery machine learning regression svm na bayes knn random forest decision trees boosting techniques cluster analysis word embedding sentiment analysis natural language processing dimensionality reduction topic modelling lda nmf pca neural nets database visualizations mysql sqlserver cassandra hbase elasticsearch d3 js dc js plotly kibana matplotlib ggplot tableau others regular expression html css angular 6 logstash kafka python flask git docker computer vision open cv understanding deep learning education details data science assurance associate data science assurance associate ernst young llp skill details javascript exprience 24 months jquery exprience 24 months python exprience 24 monthscompany details company ernst young llp description fraud investigations dispute services assurance technology assisted review tar technology assisted review assists elerating review process run analytics generate reports core member team helped developing automated review platform tool scratch assisting e discovery domain tool implements predictive coding topic modelling automating reviews resulting reduced labor costs time spent lawyers review understand end end flow solution research development classification models predictive analysis mining information present text data worked analyzing outputs precision monitoring entire tool tar assists predictive coding topic modelling evidence following ey standards developed classifier models order identify red flags fraud related issues tools technologies python scikit learn tfidf word2vec doc2vec cosine similarity na bayes lda nmf topic modelling vader text blob sentiment analysis matplot lib tableau dashboard reporting multiple data science analytic projects usa clients text analytics motor vehicle customer review data received customer feedback survey data past one year performed sentiment positive negative neutral time series analysis customer comments across 4 categories created heat map terms survey category based frequency words extracted positive negative words across survey categories plotted word cloud created customized tableau dashboards effective reporting visualizations chatbot developed user friendly chatbot one products handle simple questions hours operation reservation options chat bot serves entire product related questions giving overview tool via qa platform also give recommendation responses user question build chain relevant answer intelligence build pipeline questions per user requirement asks relevant recommended questions tools technologies python natural language processing nltk spacy topic modelling sentiment analysis word embedding scikit learn javascript jquery sqlserver information governance organizations make informed decisions information store integrated information governance portfolio synthesizes intelligence across unstructured data sources facilitates action ensure organizations best positioned counter information risk scan data multiple sources formats parse different file formats extract meta data information push results indexing elastic search created customized interactive dashboards using kibana preforming rot analysis data give information data helps identify content either redundant outdated trivial preforming full text search analysis elastic search predefined methods tag pii personally identifiable information social security numbers addresses names etc frequently targeted cyber attacks tools technologies python flask elastic search kibana fraud analytic platform fraud analytics investigative platform review red flag cases fap fraud analytics investigative platform inbuilt case manager suite analytics various erp systems used clients interrogate ounting systems identifying anomalies indicators fraud running advanced analytics tools technologies html javascript sqlserver jquery css bootstrap node js d3 js dc js\n"
     ]
    }
   ],
   "source": [
    "print(data['cleaned_resume'][0])"
   ]
  },
  {
   "cell_type": "code",
   "execution_count": 13,
   "id": "lovely-current",
   "metadata": {},
   "outputs": [],
   "source": [
    "# separating the label and features\n",
    "features = data[\"cleaned_resume\"].values\n",
    "labels_originals = data[\"Category\"].values\n",
    "labels = labels_originals[:]"
   ]
  },
  {
   "cell_type": "code",
   "execution_count": 14,
   "id": "prompt-cassette",
   "metadata": {},
   "outputs": [],
   "source": [
    "#making labels not spaceSeparated\n",
    "for i in range(data_size):\n",
    "    labels[i]= str(labels[i].lower())\n",
    "    labels[i]= labels[i].replace(\" \",\"\")\n",
    "    "
   ]
  },
  {
   "cell_type": "code",
   "execution_count": 15,
   "id": "executive-johnson",
   "metadata": {},
   "outputs": [
    {
     "name": "stdout",
     "output_type": "stream",
     "text": [
      "core competencies maintain processes ensure project management documentation reports plans relevant urate complete report automation dashboard preparation sharing feedbacks basis performance project manager forecasting data regarding future risks project changes updating delivery team timely basis good understanding project management lifecycle proven excellence risk management control good understanding software development lifecycle sdlc ability synthesize qualitative quantitative data quickly draw meaningful insights knowledge programme project management methodologies full project reporting governance ability work different cross functional stakeholders establish ensure reliable productive working relationship strong time management organizational skills multitasking skills ability meet deadlines computer skills ce ification advance knowledge ms office 2013 macros skills strategic thinking decision making ability sound analytical skills multi tasking skills fast paced environment leadership inter personal skills strong information management ability particularly ms excel extraction formulae pivots graphs education details january 2005 bachelor business administration business administration pune maharashtra modern college hsc pune maharashtra p college ssc pune maharashtra saints high school pmo exp 6 years experience project management expertise pmo team handling quality analyst proficient data analyzing tools techniques skill details documentation exprience 47 months governance exprience 19 months excel exprience 6 months forecasting exprience 6 months ms excel exprience 6 monthscompany details company capita india pvt ltd description pune key result areas responsible su essful transition knowledge system operating capabilities prudential multiclient pheonix royal london travelled onsite glasgow part uk team understand transition pmo work process execute su essfully offshore su essfully transitioned work order management governance reporting uk lead team 6 members follow development new ways working documentation processes manage internal external stakeholder engagement collaboration teams global pmos network helps achieve robust operations resources infrastructure execute steady state operations company saviant technologies description multiple projects established pmo scratch provided seasoned leadership technical operations staff defined implemented work priority management resource management processes established supportive environment allowed employees grow provide imaginative solutions complex client need track monitor financial performance program report financials actual budgeted comparison labor hours dollars operating costs capital costs secure funding approvals changes scope monitor program risks going process identifying assessing tracking developing executing risk mitigation strategies reviewed project documentation document lessons learned provide recommendations mitigate future projects risk identification mitigation strategy issue escalation client communication project timeline resource management company infosys description pune key result areas responsible resource management budgeting billing responsible preparing sharing different reports delivery managers project managers quality team automation reports entire unit interpret data analyze results using statistical techniques provide ongoing reports preparing case diagrams activity diagrams various scenarios collate data study patterns conduct brainstorming sessions identify outliers review approve project documentation assist identification risks project setting mitigation plan risk reviewing dashboards reports customer feedback information analysis reviews validate inputs project mangers regarding dashboards ppt supporting tl training people process domain part growth plan sla compliance company capita india pvt ltd description pune key result areas audits reviews validate inputs managers regarding dashboards ppt auditing work done onshore agents simultaneously auditing work done old team reporting part well assisting reporting manager business transformation leadership skills proven ability influence collaborate across levels organization helping line managers solve specific audit problems either one one basis groups reporting preparing weekly monthly quarterly yearly mis variance report performance report feedback analysis task activities report publish relevant business dashboards projects audit report\n",
      "pmo\n"
     ]
    }
   ],
   "source": [
    "features , labels = shuffle(features, labels)\n",
    "print(features[0])\n",
    "print(labels[0])"
   ]
  },
  {
   "cell_type": "code",
   "execution_count": 16,
   "id": "sexual-pride",
   "metadata": {},
   "outputs": [],
   "source": [
    "#Splitting the data into train and test data\n",
    "from sklearn.model_selection import train_test_split\n",
    "train_features, test_features, train_labels, test_labels = train_test_split(features, labels,test_size=0.2, random_state =42)"
   ]
  },
  {
   "cell_type": "code",
   "execution_count": 17,
   "id": "quality-musical",
   "metadata": {},
   "outputs": [
    {
     "name": "stdout",
     "output_type": "stream",
     "text": [
      "(713,) (713,) (179,) (179,)\n"
     ]
    }
   ],
   "source": [
    "print(train_features.shape, train_labels.shape, test_features.shape, test_labels.shape)"
   ]
  },
  {
   "cell_type": "code",
   "execution_count": 18,
   "id": "intermediate-transcript",
   "metadata": {},
   "outputs": [
    {
     "data": {
      "text/plain": [
       "'technicalskills springmvc hibernate jdbc java j2ee azureweb suntechnologies services jsp struts servlet restapi scripting javascript ajax html json opensourcetechnologies php database mssql mysql oracle webservers apachetomcatserver internettechnologiesand onesignalwebpushnotifications azurewebservices frameworks ionic html json operatingsystem windowsserver2012r2 winxp 7 8 1 10 linux mac os education details august 2013 july 2016 computer engineering nashik maharashtra late g n sapkal coe nashik july 2009 june 2013 diploma computer technology nashik maharashtra k k wagh polytechnic nashik java developer java developer skill details ajax exprience 12 months database exprience 24 months html exprience 24 months j2ee exprience 6 months java exprience 24 months spring mvc exprience 12 months ionic 3 exprience 6 months angular js exprience 6 months spring exprience less 1 year months java exprience less 1 year monthscompany details company replete business solutions pvt ltd description working java developer spring mvc mysql mssql java j2ee ajax javascript ionic 3 framework angular js etc technologies'"
      ]
     },
     "execution_count": 18,
     "metadata": {},
     "output_type": "execute_result"
    }
   ],
   "source": [
    "train_features[0]"
   ]
  },
  {
   "cell_type": "code",
   "execution_count": 19,
   "id": "formed-telescope",
   "metadata": {},
   "outputs": [
    {
     "data": {
      "text/plain": [
       "'skills 1 ms office 2 good communication skills convincing power 3 knowledge sales marketing 4 customer sales management 5 talent management 6 direct sales management strengths 1 dedication dependability 2 flexibility able work taxing demanding conditions reasonably stretchable time slots 3 team work able work cooperatively team lead team su ess education details sales manager skill details marketing exprience 6 months direct sales exprience 36 months marketing exprience 6 months sales exprience 36 months sales exprience 36 monthscompany details company bajaj finance description company bajaj finance description sbi bank office assistence 1 year k g n shope office assistence 6 month vodafone telle caller 1 year bajaj finserv ltd assistant sales manager 11 month square capital sales manager 5 month present working bajaj housing finance ltd assistant sales manager'"
      ]
     },
     "execution_count": 19,
     "metadata": {},
     "output_type": "execute_result"
    }
   ],
   "source": [
    "test_features[0]"
   ]
  },
  {
   "cell_type": "code",
   "execution_count": 20,
   "id": "handled-monday",
   "metadata": {},
   "outputs": [
    {
     "name": "stdout",
     "output_type": "stream",
     "text": [
      "{'<OOV>': 1, 'exprience': 2, 'company': 3, 'project': 4, 'months': 5, 'description': 6, 'details': 7, 'data': 8, '1': 9, 'management': 10, 'team': 11, 'year': 12, '6': 13, 'system': 14, 'maharashtra': 15, 'database': 16, 'development': 17, 'business': 18, 'less': 19, 'sql': 20, 'ltd': 21, 'using': 22, 'developer': 23, 'client': 24, 'java': 25, 'skill': 26, 'testing': 27, 'application': 28, 'pune': 29, 'engineering': 30, 'january': 31, 'services': 32, 'work': 33, 'skills': 34, 'c': 35, 'test': 36, 'software': 37, 'sales': 38, 'responsibilities': 39, 'pvt': 40, 'operations': 41, 'requirements': 42, 'reports': 43, 'education': 44, 'server': 45, 'technical': 46, 'process': 47, 'india': 48, 'customer': 49, 'various': 50, 'design': 51, 'technologies': 52, 'university': 53, 'working': 54, 'python': 55, 'monthscompany': 56, '2': 57, 'environment': 58, 'web': 59, 'like': 60, 'automation': 61, 'college': 62, 'support': 63, 'mysql': 64, 'worked': 65, 'role': 66, 'technology': 67, 'activities': 68, 'time': 69, 'e': 70, 'used': 71, 'based': 72, 'manager': 73, 'training': 74, 'projects': 75, 'knowledge': 76, 'issues': 77, 'mumbai': 78, '4': 79, '3': 80, 'information': 81, 'new': 82, 'different': 83, 'experience': 84, 'engineer': 85, 'computer': 86, 'etc': 87, 'managing': 88, 'per': 89, 'systems': 90, 'network': 91, 'b': 92, 'oracle': 93, 'requirement': 94, 'quality': 95, 'handling': 96, 'end': 97, 'monitoring': 98, 'performance': 99, 'job': 100, 'science': 101, 'windows': 102, 'user': 103, 'involved': 104, 'hadoop': 105, 'users': 106, 'ensure': 107, 'tools': 108, 'analysis': 109, 'maintenance': 110, 'ms': 111, 'maintaining': 112, 'developing': 113, 'completed': 114, 'report': 115, 'service': 116, 'servers': 117, 'developed': 118, '5': 119, 'related': 120, 'sap': 121, 'html': 122, 'customers': 123, 'control': 124, 'security': 125, 'responsible': 126, 'ensuring': 127, 'javascript': 128, 'required': 129, 'jquery': 130, 'creating': 131, '2017': 132, 'linux': 133, 'provide': 134, 'shell': 135, 'etl': 136, '2016': 137, 'clients': 138, 'school': 139, 'office': 140, 'key': 141, 'solutions': 142, 'processes': 143, 'documentation': 144, 'production': 145, 'also': 146, 'net': 147, 'reporting': 148, 'build': 149, 'electrical': 150, 'hive': 151, 'good': 152, 'internal': 153, 'roles': 154, 'level': 155, 'applications': 156, 'product': 157, 'learning': 158, 'queries': 159, 'power': 160, 'configuration': 161, 'scripts': 162, 'operating': 163, 'high': 164, 'machine': 165, '24': 166, 'maintain': 167, 'delivery': 168, '7': 169, 'review': 170, 'communication': 171, 'meetings': 172, 'platform': 173, 'providing': 174, 'daily': 175, 'scripting': 176, 'document': 177, 'website': 178, 'members': 179, 'manage': 180, 'bank': 181, 'su': 182, '2008': 183, 'documents': 184, 'created': 185, 'planning': 186, 'plan': 187, 'well': 188, '2015': 189, 'solution': 190, '10': 191, 'functional': 192, 'timely': 193, 'global': 194, 'understanding': 195, 'designed': 196, 'develop': 197, 'css': 198, 'products': 199, 'multiple': 200, 'administration': 201, 'preparing': 202, 'international': 203, 'june': 204, 'site': 205, 'limited': 206, 'order': 207, 'co': 208, '2012': 209, 'responsibility': 210, 'billing': 211, 'informatica': 212, 'board': 213, 'programming': 214, 'state': 215, 'name': 216, 'databases': 217, 'lead': 218, '2014': 219, 'health': 220, 'unit': 221, 'cases': 222, 'ajax': 223, 'activity': 224, 'languages': 225, 'tool': 226, 'senior': 227, 'framework': 228, 'integration': 229, 'vendor': 230, 'implementation': 231, 'diploma': 232, 'nagpur': 233, 'monitor': 234, 'jobs': 235, 'preparation': 236, 'institute': 237, 'marketing': 238, 'bootstrap': 239, 'create': 240, 'fitness': 241, 'weekly': 242, 'one': 243, 'cisco': 244, 'bachelor': 245, 'implemented': 246, 'unix': 247, 'program': 248, 'performed': 249, 'inventory': 250, 'may': 251, 'mechanical': 252, 'microsoft': 253, 'writing': 254, 'deployment': 255, 'within': 256, 'backup': 257, '2018': 258, 'blockchain': 259, 'including': 260, 'cloud': 261, '12': 262, 'devops': 263, 'identify': 264, 'sla': 265, 'commerce': 266, 'creation': 267, 'across': 268, 'script': 269, 'core': 270, 'risk': 271, 'monthly': 272, 'analytics': 273, 'analyzing': 274, '8': 275, 'payment': 276, 'vendors': 277, 'ability': 278, 'ess': 279, 'online': 280, 'teams': 281, 'size': 282, 'change': 283, 'schedule': 284, 'complete': 285, 'code': 286, 'track': 287, 'day': 288, 'qa': 289, '9': 290, 'tasks': 291, 'understand': 292, 'made': 293, '2010': 294, 'type': 295, 'installation': 296, 'basis': 297, 'plans': 298, 'trust': 299, 'date': 300, 'designing': 301, 'tech': 302, 'honeywell': 303, 'make': 304, 'essfully': 305, 'insurance': 306, 'employee': 307, 'troubleshooting': 308, 'staff': 309, 'procedures': 310, 'studio': 311, 'progress': 312, 'group': 313, 'existing': 314, 'files': 315, 'excel': 316, 'source': 317, 'fat': 318, 'hana': 319, 'resource': 320, 'spring': 321, 'perform': 322, 'scope': 323, 'title': 324, 'sqoop': 325, 'monitored': 326, 'building': 327, 'pre': 328, 'banking': 329, 'civil': 330, 'ges': 331, 'manual': 332, 'schedules': 333, 'personal': 334, 'provided': 335, 'plc': 336, 'financial': 337, 'proposal': 338, 'effective': 339, 'purchase': 340, 'tables': 341, 'operational': 342, '2013': 343, 'center': 344, 'years': 345, 'changes': 346, 'execution': 347, 'distribution': 348, 'hdfs': 349, 'asp': 350, 'mvc': 351, 'status': 352, 'till': 353, 'basic': 354, 'standard': 355, 'entire': 356, 'flow': 357, 'hr': 358, 'tracking': 359, 'stakeholders': 360, 'part': 361, 'tata': 362, 'api': 363, 'modules': 364, 'erp': 365, 'generate': 366, 'release': 367, 'aws': 368, 'arts': 369, 'organization': 370, 'participated': 371, 'corporate': 372, 'processing': 373, 'git': 374, 'implementing': 375, 'private': 376, 'standards': 377, 'cluster': 378, 'jsp': 379, 'com': 380, 'credit': 381, 'cost': 382, 'dr': 383, 'people': 384, 'use': 385, 'gathering': 386, 'handled': 387, 'duration': 388, 'db': 389, 'issue': 390, 'check': 391, 'analyst': 392, 'bo': 393, 'case': 394, '0': 395, 'html5': 396, 'php': 397, 'portal': 398, 'commercial': 399, 'research': 400, 'js': 401, 'korea': 402, 'set': 403, 'estimation': 404, 'hibernate': 405, 'warehouse': 406, 'panels': 407, 'calls': 408, 'participate': 409, 'position': 410, 'leading': 411, 'r': 412, 'ui': 413, 'enterprise': 414, 'point': 415, 'bugs': 416, 'ounts': 417, 'coordinating': 418, 'material': 419, 'days': 420, 'talend': 421, 'attending': 422, 'resolve': 423, 'industrial': 424, 'profile': 425, 'programs': 426, 'spark': 427, 'photoshop': 428, 'reduce': 429, 'done': 430, 'audit': 431, '2011': 432, 'h': 433, 'back': 434, 'graphics': 435, 'infrastructure': 436, 'manufacturing': 437, 'best': 438, 'designer': 439, 'orders': 440, 'g': 441, 'help': 442, 'industry': 443, 'coordinate': 444, 'includes': 445, 'automated': 446, 'prepare': 447, 'target': 448, 'resources': 449, 'contract': 450, 'replication': 451, 'regression': 452, 'file': 453, 'electronics': 454, 'department': 455, 'secondary': 456, 'text': 457, 'agile': 458, 'administrator': 459, 'employees': 460, 'identifying': 461, 'architecture': 462, 'css3': 463, 'freight': 464, 'critical': 465, 'layer': 466, 'visual': 467, 'qtp': 468, 'jenkins': 469, 'life': 470, 'drawing': 471, 'problem': 472, 'consultancy': 473, 'overall': 474, 'mis': 475, 'equipment': 476, 'k': 477, 'developers': 478, 'strong': 479, 'analyze': 480, 'loan': 481, 'language': 482, 'excellent': 483, 'ethereum': 484, 'stock': 485, 'shipments': 486, 'events': 487, 'professional': 488, 'english': 489, 'angular': 490, 'targets': 491, 'ssc': 492, 'specifications': 493, 'xp': 494, 'present': 495, 'hsc': 496, 'meeting': 497, '20': 498, 'compliance': 499, 'along': 500, '15': 501, 'consultant': 502, 'area': 503, '48': 504, 'leader': 505, 'revenue': 506, 'construction': 507, 'suppliers': 508, 'given': 509, 'multi': 510, 'pmo': 511, 'load': 512, 'interface': 513, 'panel': 514, 'networking': 515, 'components': 516, 'managers': 517, 'requests': 518, 'student': 519, 'master': 520, 'uat': 521, 'smooth': 522, 'line': 523, 'problems': 524, 'base': 525, 'comments': 526, 'j2ee': 527, 'admin': 528, 'models': 529, 'external': 530, 'field': 531, 'engineers': 532, 'potential': 533, 'smart': 534, 'solving': 535, 'mappings': 536, 'workshop': 537, '11g': 538, 'wipro': 539, 'shipping': 540, 'model': 541, 'version': 542, 'conducted': 543, 'post': 544, 'dot': 545, 'migration': 546, 'maintained': 547, 'opportunities': 548, 'firewall': 549, 'resolving': 550, 'efficiency': 551, 'nashik': 552, 'uk': 553, 'strategies': 554, 'take': 555, 'national': 556, 'side': 557, 'areas': 558, 'complex': 559, 'apache': 560, 'nendrasys': 561, 'reviews': 562, 'materials': 563, 'checking': 564, 'conducting': 565, 'getting': 566, 'expertise': 567, 'achieve': 568, 'supply': 569, 'inspection': 570, 'delivered': 571, 'methodology': 572, 'media': 573, 'loading': 574, 'controls': 575, 'hpm': 576, 'departments': 577, 'map': 578, 'plant': 579, 'view': 580, 'improve': 581, 'specification': 582, 'july': 583, 'british': 584, 'servlet': 585, 'thai': 586, 'result': 587, 'continuous': 588, 'provides': 589, 'wrote': 590, 'taking': 591, 'ount': 592, 'request': 593, 'm3': 594, 'included': 595, 'pig': 596, 'log': 597, 'follow': 598, 'devices': 599, 'troubleshoot': 600, 'presentation': 601, 'export': 602, 'risks': 603, 'maven': 604, 'offers': 605, 'certificate': 606, 'logs': 607, 'autocad': 608, '2009': 609, 'environments': 610, 'usa': 611, 'json': 612, 'relationship': 613, 'decision': 614, 'budget': 615, 'extract': 616, 'django': 617, 'processed': 618, 'interaction': 619, 'deployed': 620, 'setup': 621, 'shared': 622, 'foundation': 623, 'actively': 624, 'flat': 625, 'investment': 626, 'policies': 627, 'making': 628, 'driven': 629, 'eclipse': 630, 'world': 631, 'learn': 632, 'august': 633, 'running': 634, 'capacity': 635, 'keeping': 636, 'direct': 637, 'qatar': 638, 'onsite': 639, 'sessions': 640, 'supporting': 641, 'scheduling': 642, 'functions': 643, 'course': 644, 'checks': 645, 'defined': 646, 'results': 647, '01': 648, 'reconciliation': 649, 'united': 650, 'us': 651, 'backups': 652, 'pradesh': 653, 'regular': 654, 'logic': 655, 'os': 656, 'www': 657, 'leadership': 658, 'cash': 659, 'architect': 660, 'via': 661, 'crm': 662, 'drawings': 663, 'hotel': 664, 'backend': 665, 'qc': 666, 'dashboard': 667, 'dev': 668, 'hands': 669, 'mongodb': 670, 'discuss': 671, 'higher': 672, 'configuring': 673, 'operation': 674, 'sent': 675, 'achieving': 676, 'chain': 677, 'records': 678, 'assistant': 679, 'mapreduce': 680, 'r2': 681, 'gym': 682, 'selenium': 683, 'ording': 684, 'jan': 685, 'following': 686, 'generated': 687, 'station': 688, 'enquiries': 689, 'public': 690, 'wiring': 691, 'bny': 692, 'mellon': 693, 'techniques': 694, 'essful': 695, 'sr': 696, 'detailed': 697, 'sources': 698, 'front': 699, 'switches': 700, '11': 701, 'leads': 702, 'transaction': 703, 'types': 704, 'appropriate': 705, 'goal': 706, 'overseeing': 707, 'trade': 708, 'word': 709, 'top': 710, 'procurement': 711, 'usage': 712, 'transformations': 713, 'air': 714, 'ge': 715, 'categories': 716, 'prepaid': 717, 'stake': 718, 'holders': 719, 'marshalling': 720, 'update': 721, 'deliverables': 722, '2006': 723, 'self': 724, 'availability': 725, 'certified': 726, 'local': 727, 'government': 728, '2000': 729, 'strategic': 730, 'analytical': 731, 'capital': 732, 'necessary': 733, 'structure': 734, 'deep': 735, '2007': 736, 'real': 737, 'views': 738, 'bug': 739, 'communications': 740, 'generating': 741, 'executing': 742, 'groups': 743, 'phule': 744, 'cricket': 745, 'active': 746, 'mapping': 747, 'mahindra': 748, 'polytechnic': 749, 'businesses': 750, 'cards': 751, 'relevant': 752, 'modern': 753, 'reviewing': 754, 'helping': 755, 'features': 756, 'rest': 757, 'logistics': 758, 'market': 759, 'call': 760, 'integrated': 761, 'hbase': 762, '31': 763, 'available': 764, 'executive': 765, 'implement': 766, 'cycle': 767, 'healthcare': 768, 'big': 769, 'region': 770, 'sub': 771, 'execute': 772, 'conduct': 773, 'validate': 774, 'form': 775, 'mentioned': 776, 'designation': 777, 'go': 778, 'algorithms': 779, 'sure': 780, '16': 781, 'completion': 782, 'first': 783, 'pm': 784, 'future': 785, 'platforms': 786, 'debugging': 787, 'interacting': 788, 'nov': 789, 'raised': 790, '72': 791, 'errors': 792, 'ad': 793, 'finance': 794, 'advance': 795, 'ways': 796, 'le': 797, 'applying': 798, 'relationships': 799, 'jira': 800, 'movex': 801, 'branches': 802, '30': 803, 'router': 804, 'pl': 805, 'managed': 806, 'repository': 807, 'amravati': 808, 'synopsis': 809, 'levels': 810, 'savitribai': 811, 'communicating': 812, 'bi': 813, 'upgrade': 814, 'towards': 815, 'paper': 816, 'ftp': 817, 'costs': 818, 'strategy': 819, 'setting': 820, 'auto': 821, '400': 822, 'ibm': 823, 'firewalls': 824, 'closely': 825, 'council': 826, 'transactions': 827, 'proper': 828, 'price': 829, 'countries': 830, 'fine': 831, 'music': 832, '28': 833, 'module': 834, 'routing': 835, 'deploy': 836, 'meet': 837, '2005': 838, '36': 839, 'safety': 840, 'function': 841, 'filenet': 842, 'query': 843, 'contribution': 844, 'webi': 845, 'ant': 846, 'bbl': 847, 'floor': 848, 'metrics': 849, 'domain': 850, 'get': 851, 'prepared': 852, 'correct': 853, 'head': 854, 'tableau': 855, 'organizing': 856, 'app': 857, 'generation': 858, 'repositories': 859, 'governance': 860, 'capabilities': 861, 'page': 862, 'sending': 863, 'customized': 864, 'currently': 865, 'every': 866, 'azure': 867, 'range': 868, 'scala': 869, 'hardware': 870, 'packages': 871, 'resolution': 872, 'care': 873, 'bond': 874, 'dell': 875, 'sdlc': 876, 'involves': 877, 'individual': 878, 'include': 879, 'free': 880, 'rules': 881, 'aug': 882, 'card': 883, 'v': 884, 'emails': 885, 'fixing': 886, 'duties': 887, 'achieved': 888, 'utilization': 889, 'transition': 890, 'need': 891, 'assist': 892, 'feedback': 893, 'specific': 894, 'improvement': 895, 'negotiating': 896, 'throughout': 897, 'communicate': 898, 'intelligence': 899, 'handle': 900, 'feeds': 901, 'member': 902, 'period': 903, 'legal': 904, 'facility': 905, 'corporation': 906, 'assurant': 907, 'universe': 908, 'bods': 909, 'installing': 910, 'updating': 911, 'scenarios': 912, 'task': 913, 'transfer': 914, 'postgresql': 915, 'codes': 916, 'drives': 917, 'frame': 918, 'capgemini': 919, 'tomcat': 920, 'clinical': 921, 'tests': 922, 'rman': 923, 'p': 924, 'diagrams': 925, 'dashboards': 926, 'ubuntu': 927, 'efficient': 928, 'controller': 929, '14': 930, 'quick': 931, 'possible': 932, 'centre': 933, 'consulting': 934, 'dubai': 935, 'calculation': 936, 'dcs': 937, 'jdbc': 938, 'powerpoint': 939, 'offshore': 940, 'live': 941, 'partners': 942, 'hindi': 943, 'around': 944, 'tuning': 945, 'store': 946, 'configured': 947, 'supported': 948, 'ide': 949, 'regularly': 950, 'companies': 951, 'reviewed': 952, 'needs': 953, '27': 954, 'location': 955, 'internet': 956, 'define': 957, 'iso': 958, 'formats': 959, 'asa': 960, 'march': 961, 'main': 962, 'general': 963, 'motor': 964, 'transport': 965, 'clear': 966, 'restore': 967, 'contributions': 968, 'n': 969, 'image': 970, 'nutrition': 971, 'fds': 972, 'quarterly': 973, 'invoicing': 974, 'interpersonal': 975, 'effectively': 976, 'positive': 977, 'coordination': 978, 'performing': 979, 'tenure': 980, 'matrix': 981, 'major': 982, 'programme': 983, 'helps': 984, 'selection': 985, 'quotations': 986, 'negotiations': 987, 'rates': 988, 'invoices': 989, 'right': 990, 'energy': 991, 'number': 992, 'sites': 993, 'final': 994, 'direction': 995, 'impact': 996, 'law': 997, 'controllers': 998, 'fixed': 999, 'pos': 1000, 'talent': 1001, 'validation': 1002, 'pan': 1003, 'cross': 1004, 'growth': 1005, 'audits': 1006, 'assisting': 1007, 'sector': 1008, 'open': 1009, 'providers': 1010, 'stipulated': 1011, 'feature': 1012, 'commissioning': 1013, 'ticket': 1014, 'mobile': 1015, 'xml': 1016, 'plus': 1017, 'utility': 1018, 'import': 1019, 'proven': 1020, 'ups': 1021, 'contracts': 1022, 'numpy': 1023, '96': 1024, 'oil': 1025, 'hmi': 1026, 'storage': 1027, 'satisfaction': 1028, 'rdbms': 1029, 'node': 1030, 'competition': 1031, 'communicated': 1032, 'month': 1033, 'provider': 1034, 'ounting': 1035, 'enhance': 1036, 'structured': 1037, 'fixes': 1038, 'large': 1039, 'strengths': 1040, 'run': 1041, 'objects': 1042, 'lifecycle': 1043, 'android': 1044, 'ci': 1045, 'supplies': 1046, 'optimization': 1047, 'got': 1048, 'single': 1049, 'central': 1050, 'achievements': 1051, 'series': 1052, 'sc': 1053, 'u': 1054, 'scrum': 1055, 'scheduled': 1056, 'layout': 1057, 'cable': 1058, 'lt': 1059, '17': 1060, 'terms': 1061, 'able': 1062, 'consignments': 1063, 'cbs': 1064, 'visio': 1065, 'ecosystem': 1066, 'updates': 1067, 'mail': 1068, 'patching': 1069, 'written': 1070, 'mba': 1071, 'bitbucket': 1072, 'merchants': 1073, 'april': 1074, 'methodologies': 1075, 'established': 1076, 'actual': 1077, 'summary': 1078, 'past': 1079, 'recruitment': 1080, 'engg': 1081, 'submission': 1082, 'actions': 1083, 'nlp': 1084, 'concepts': 1085, 'recovery': 1086, 'driving': 1087, 'car': 1088, 'exposure': 1089, 'liaising': 1090, 'analyzed': 1091, 'feb': 1092, 'spoc': 1093, 'received': 1094, 'effort': 1095, 'defining': 1096, 'stores': 1097, 'objective': 1098, 'permissions': 1099, 'f': 1100, 'interest': 1101, 'satellite': 1102, 'prod': 1103, 'p8': 1104, 'works': 1105, 'analysts': 1106, 'parameters': 1107, 'switching': 1108, 'sloan': 1109, 'built': 1110, 'defect': 1111, 'hiring': 1112, 'inputs': 1113, 'visit': 1114, 'directly': 1115, 'entities': 1116, 'frontend': 1117, 'incident': 1118, 'policy': 1119, 'social': 1120, 'iit': 1121, 'workflow': 1122, 'manner': 1123, 'exports': 1124, 'pr': 1125, 'tracker': 1126, 'st': 1127, 'coordinated': 1128, 'trends': 1129, 'association': 1130, 'annual': 1131, 'redundant': 1132, 'nos': 1133, 'receiving': 1134, 'proficient': 1135, 'primary': 1136, 'factory': 1137, 'instances': 1138, 'stored': 1139, 'road': 1140, 'proactively': 1141, 'trainer': 1142, 'academy': 1143, 'vpn': 1144, 'advanced': 1145, 'robot': 1146, 'value': 1147, 'basically': 1148, 'custom': 1149, 'four': 1150, 'identified': 1151, 'current': 1152, 'content': 1153, 'builds': 1154, 'address': 1155, 'assigned': 1156, 'wave': 1157, 'largest': 1158, 'sharing': 1159, 'full': 1160, 'offices': 1161, 'automate': 1162, 'followed': 1163, 'place': 1164, 'pneumatic': 1165, 'fabrication': 1166, 'ordination': 1167, 'times': 1168, 'goods': 1169, 'bom': 1170, 'neural': 1171, 'autosys': 1172, 'tickets': 1173, 'flume': 1174, 'cloudera': 1175, 'eptance': 1176, 'dynamic': 1177, 'payments': 1178, 'played': 1179, 'academic': 1180, 'assigning': 1181, 'increase': 1182, 'sri': 1183, 'tax': 1184, 'sharepoint': 1185, 'excellence': 1186, 'email': 1187, 'evaluation': 1188, 'gather': 1189, 'act': 1190, 'enhancements': 1191, 'branch': 1192, 'experienced': 1193, 'house': 1194, 'modelling': 1195, 'give': 1196, 'salary': 1197, 'event': 1198, 'schema': 1199, 'bombay': 1200, 'keep': 1201, 'another': 1202, 'met': 1203, 'hosted': 1204, 'regarding': 1205, 'onshore': 1206, 'jr': 1207, 'september': 1208, 'techno': 1209, 'raw': 1210, 'action': 1211, 'non': 1212, 'three': 1213, 'detection': 1214, 'physical': 1215, 'nature': 1216, 'retail': 1217, '60': 1218, 'property': 1219, 'easy': 1220, 'vision': 1221, 'respective': 1222, 'expenses': 1223, '2003': 1224, 'simple': 1225, '2nd': 1226, 'oriented': 1227, 'adding': 1228, 'arranging': 1229, 'five': 1230, 'routers': 1231, 'lan': 1232, 'find': 1233, '21': 1234, 'internship': 1235, 'undertaking': 1236, 'ny': 1237, 'govt': 1238, 'purpose': 1239, 'deployments': 1240, 'dhcp': 1241, 'telephonic': 1242, 'thinking': 1243, 'inter': 1244, 'identification': 1245, 'escalation': 1246, 'wide': 1247, 'payroll': 1248, 'ordinate': 1249, 'among': 1250, 'phone': 1251, 'networks': 1252, 'coding': 1253, 'degree': 1254, 'learner': 1255, 'visa': 1256, 'deploying': 1257, 'builder': 1258, 'two': 1259, 'upgrades': 1260, 'bsc': 1261, 'properly': 1262, 'supervising': 1263, 'methods': 1264, 'magazine': 1265, 'nestle': 1266, 'conference': 1267, 'determine': 1268, 'startup': 1269, 'focuses': 1270, 'madhya': 1271, 'friendly': 1272, '13': 1273, 'plastering': 1274, 'industries': 1275, 'channels': 1276, 'logistic': 1277, 'x': 1278, 'predictive': 1279, 'inc': 1280, 'ops': 1281, 'patient': 1282, 'water': 1283, 'virtual': 1284, 'proficiency': 1285, 'vista': 1286, 'highlights': 1287, 'enhancement': 1288, 'rights': 1289, 'manages': 1290, 'profiles': 1291, 'tally': 1292, 'recommendations': 1293, 'old': 1294, 'sun': 1295, 'ordance': 1296, 'layers': 1297, 'transform': 1298, 'barclays': 1299, 'hot': 1300, 'sets': 1301, 'grid': 1302, 'ht': 1303, 'l': 1304, 'enture': 1305, 'connectivity': 1306, 'matlab': 1307, 'budgets': 1308, 'scada': 1309, 'warehousing': 1310, 'bangalore': 1311, 'executed': 1312, 'news': 1313, 'b2b': 1314, 'supplier': 1315, 'oozie': 1316, 'invoice': 1317, 'competencies': 1318, 'secure': 1319, 'channel': 1320, 'static': 1321, 'designs': 1322, '300': 1323, 'junior': 1324, 'conditions': 1325, '10g': 1326, 'tested': 1327, 'history': 1328, 'secured': 1329, 'releases': 1330, 'challenges': 1331, 'coverage': 1332, 'administrative': 1333, 'cnc': 1334, 'pump': 1335, 'forecasting': 1336, '19': 1337, 'lessons': 1338, 'outstanding': 1339, 'cad': 1340, 'assessment': 1341, 'engine': 1342, 'entity': 1343, 'trained': 1344, 'stage': 1345, 'certification': 1346, 'since': 1347, 'images': 1348, 'fully': 1349, 'package': 1350, 'masters': 1351, 'pressure': 1352, 'installed': 1353, 'checkpoint': 1354, '07': 1355, 'gsm': 1356, 'bengaluru': 1357, 'ocean': 1358, 'mac': 1359, '39': 1360, 'benefits': 1361, 'preventive': 1362, 'modes': 1363, 'worldwide': 1364, 'adherence': 1365, 'tat': 1366, 'ensured': 1367, 'move': 1368, 'bitcoin': 1369, 'solidity': 1370, 'demand': 1371, 'win': 1372, 'staffing': 1373, 'draft': 1374, 'contractual': 1375, 'penalty': 1376, 'filtering': 1377, 'chennai': 1378, 'dicom': 1379, '85': 1380, 'lob': 1381, 'informing': 1382, 'agreed': 1383, 'whenever': 1384, 'epks': 1385, 'deliverable': 1386, 'cabinets': 1387, 'liasing': 1388, 'imports': 1389, 'forwarders': 1390, 'gea': 1391, 'east': 1392, 'dhl': 1393, 'staging': 1394, 'defects': 1395, 'easily': 1396, 'hoc': 1397, 'show': 1398, 'message': 1399, 'dec': 1400, 'hyderabad': 1401, 'dba': 1402, 'telangana': 1403, 'timelines': 1404, 'mocks': 1405, 'sports': 1406, 'rational': 1407, 'utilities': 1408, 'moving': 1409, 'urate': 1410, 'quickly': 1411, 'insights': 1412, 'deadlines': 1413, 'svn': 1414, 'asset': 1415, 'delivering': 1416, 'travel': 1417, 'hydraulic': 1418, 'schematics': 1419, 'prototype': 1420, 'important': 1421, 'multinational': 1422, 'color': 1423, 'send': 1424, 'kerala': 1425, 'forecast': 1426, 'nanded': 1427, 'digital': 1428, 'visualization': 1429, 'component': 1430, 'sbi': 1431, 'wallet': 1432, 'putty': 1433, 'allow': 1434, 'proactive': 1435, 'sourcing': 1436, 'screen': 1437, 'gold': 1438, 'box': 1439, 'coe': 1440, 'formalities': 1441, 'filing': 1442, 'discussing': 1443, 'sea': 1444, 'going': 1445, 'playing': 1446, '3d': 1447, 'sublime': 1448, 'contact': 1449, 'classes': 1450, 'tcs': 1451, 'itil': 1452, 'attendance': 1453, 'github': 1454, 'specially': 1455, 'attend': 1456, 'karnataka': 1457, 'safe': 1458, 'space': 1459, 'associated': 1460, 'express': 1461, 'lines': 1462, '26': 1463, 'desk': 1464, 'recognition': 1465, 'mar': 1466, 'suggesting': 1467, 'sound': 1468, 'hours': 1469, 'books': 1470, 'gap': 1471, 'valves': 1472, 'midc': 1473, 'consultants': 1474, 'sentiment': 1475, 'sense': 1476, 'intellimatch': 1477, 'pivotal': 1478, 'hardworking': 1479, 'institutional': 1480, 'rm': 1481, 'added': 1482, 'compare': 1483, 'allahabad': 1484, 'uttar': 1485, 'bajaj': 1486, 'cold': 1487, 'root': 1488, 'loop': 1489, 'units': 1490, 'detail': 1491, 'due': 1492, 'ideas': 1493, 'incidents': 1494, 'programmes': 1495, 'lanka': 1496, 'stations': 1497, 'coaching': 1498, 'returns': 1499, 'trustbank': 1500, 'bazar': 1501, 'responsive': 1502, 'softgst': 1503, 'gstr': 1504, 'jalloshband': 1505, 'black': 1506, 'ionic': 1507, 'kpi': 1508, 'guidance': 1509, 'al': 1510, 'delhi': 1511, 'regulations': 1512, 'abap': 1513, 'lng': 1514, 'hvac': 1515, 'clearance': 1516, 'zone': 1517, 'impala': 1518, 'mitigation': 1519, 'record': 1520, 'proposals': 1521, 'attitude': 1522, 'cse': 1523, '08': 1524, 'home': 1525, 'marathi': 1526, 'presenting': 1527, 'cultural': 1528, '80': 1529, 'carrying': 1530, 'dns': 1531, 'president': 1532, 'search': 1533, 'extraction': 1534, 'district': 1535, 'restful': 1536, '2019': 1537, 'drafting': 1538, 'modeling': 1539, 'needed': 1540, 'costing': 1541, 'modifications': 1542, 'long': 1543, 'known': 1544, 'october': 1545, 'productivity': 1546, 'telecom': 1547, 'total': 1548, 'lambda': 1549, 'tibco': 1550, 'spotfire': 1551, 'xen': 1552, 'cpi': 1553, 'genworth': 1554, 'medical': 1555, 'survey': 1556, 'video': 1557, 'ap': 1558, 'javaee': 1559, 'aes': 1560, 'rfid': 1561, 'parkar': 1562, 'labs': 1563, 'workforce': 1564, 'relay': 1565, 'advertising': 1566, 'advocate': 1567, 'promotion': 1568, '23': 1569, 'kyc': 1570, 'standby': 1571, 'exchange': 1572, 'ansible': 1573, 'merging': 1574, 'six': 1575, 'llp': 1576, 'claims': 1577, 'list': 1578, 'uft': 1579, 'sme': 1580, 'million': 1581, 'fraud': 1582, 'collaboration': 1583, 'patterns': 1584, 'simultaneously': 1585, 'collection': 1586, 'better': 1587, 'selected': 1588, 'particular': 1589, 'turn': 1590, 'organize': 1591, 'means': 1592, 'error': 1593, 'telecommunications': 1594, 'sept': 1595, 'ip': 1596, 'parent': 1597, 'small': 1598, 'multimedia': 1599, 'always': 1600, 'mirroring': 1601, '2001': 1602, 'human': 1603, 'idea': 1604, '12c': 1605, 'middle': 1606, 'tablespaces': 1607, 'study': 1608, 'auditing': 1609, 'object': 1610, 'yes': 1611, 'reliance': 1612, 'inside': 1613, 'quotation': 1614, 'discrepancies': 1615, 'receive': 1616, 'evaluate': 1617, 'calculate': 1618, 'pandas': 1619, 'term': 1620, 'flexibility': 1621, 'responses': 1622, 'extracting': 1623, 'disease': 1624, 'stream': 1625, 'serve': 1626, 'weeks': 1627, 'computing': 1628, 'topic': 1629, 'classification': 1630, 'protection': 1631, 'residential': 1632, 'mw': 1633, 'dbms': 1634, 'organized': 1635, 'catia': 1636, 'hotels': 1637, 'calling': 1638, 'would': 1639, 'cause': 1640, 'statutory': 1641, 'goals': 1642, 'asm': 1643, 'disk': 1644, 'carried': 1645, 'coded': 1646, 'supervise': 1647, 'giving': 1648, 'correspondence': 1649, 'modified': 1650, 'table': 1651, 'stories': 1652, 'gateway': 1653, 'editing': 1654, 'srs': 1655, 'ccu': 1656, 'cmu': 1657, 'traceability': 1658, 'late': 1659, 'drive': 1660, 'authority': 1661, 'syntel': 1662, 'hp': 1663, 'pacs': 1664, 'interacted': 1665, 'bed': 1666, 'bandra': 1667, 'money': 1668, 'generates': 1669, 'appraisals': 1670, 'alternate': 1671, 'alert': 1672, 'finalizing': 1673, 'joined': 1674, 'xinfin': 1675, 'mr': 1676, 'linear': 1677, 'registration': 1678, 'innovative': 1679, 'corrective': 1680, 'person': 1681, 'low': 1682, 'oct': 1683, 'globally': 1684, 'workshops': 1685, 'configure': 1686, 'context': 1687, 'encrypted': 1688, 'soft': 1689, 'printing': 1690, 'promoted': 1691, 'pack': 1692, '2008r2': 1693, 'mentor': 1694, 'protocols': 1695, 'deal': 1696, 'faster': 1697, 'draw': 1698, 'capita': 1699, 'assessing': 1700, 'urately': 1701, 'negotiation': 1702, 'elements': 1703, 'instrumentation': 1704, 'quotes': 1705, 'quantity': 1706, 'carry': 1707, 'loaded': 1708, 'february': 1709, 'indian': 1710, 'hard': 1711, 'holding': 1712, 'proxy': 1713, 'medicines': 1714, 'distributed': 1715, 'bill': 1716, 'f5': 1717, 'volume': 1718, 'constraints': 1719, 'hospital': 1720, 'temperature': 1721, 'aim': 1722, 'compensation': 1723, 'sectors': 1724, 'issuance': 1725, 'complaints': 1726, 'insight': 1727, 'atos': 1728, 'zaggle': 1729, 'inr': 1730, 'improving': 1731, 'unique': 1732, 'appraisal': 1733, 'bhopal': 1734, 'mssql': 1735, 'ca': 1736, 'clarity': 1737, 'establishing': 1738, 'joining': 1739, 'recording': 1740, 'sop': 1741, 'headcount': 1742, 'tagging': 1743, 'gm': 1744, 'rookie': 1745, 'train': 1746, 'brd': 1747, 'speaking': 1748, 'utilized': 1749, 'prgx': 1750, 'subject': 1751, 'columns': 1752, 'fee': 1753, 'reducing': 1754, 'rcsa': 1755, 'concurrence': 1756, 'receivables': 1757, 'associate': 1758, 'delinquent': 1759, 'vlan': 1760, 'kom': 1761, 'cabinet': 1762, 'loops': 1763, 'focal': 1764, 'furnace': 1765, 'points': 1766, 'experion': 1767, 'jbk': 1768, 'schematic': 1769, 'presence': 1770, 'privileges': 1771, 'transit': 1772, 'transshipment': 1773, 'serck': 1774, 'plane': 1775, '49': 1776, 'represent': 1777, 'others': 1778, 'finding': 1779, 'measures': 1780, 'ticketing': 1781, 'automating': 1782, 'promoting': 1783, 'player': 1784, 'american': 1785, 'graduate': 1786, 'elastic': 1787, 'synechron': 1788, 'redhat': 1789, 'earthing': 1790, 'professionals': 1791, '18': 1792, 'qualification': 1793, 'searching': 1794, 'globe': 1795, 'concept': 1796, 'alerts': 1797, 'estate': 1798, 'options': 1799, 'recognized': 1800, 'websites': 1801, 'motivate': 1802, 'food': 1803, 'therapies': 1804, 'face': 1805, 'collect': 1806, 'lists': 1807, 'london': 1808, 'mitigate': 1809, 'closing': 1810, 'banks': 1811, 'driver': 1812, 'career': 1813, 'brand': 1814, 'clarifications': 1815, 'steel': 1816, 'round': 1817, 'rfq': 1818, 'tree': 1819, 'classifier': 1820, 'response': 1821, 'dynamics': 1822, 'plsql': 1823, 'sow': 1824, 'foundry': 1825, 'assurance': 1826, 'called': 1827, 'sheet': 1828, 'downtime': 1829, 'traffic': 1830, 'special': 1831, 'deliveries': 1832, 'scientist': 1833, 'phase': 1834, 'york': 1835, 'court': 1836, 'interact': 1837, 'entry': 1838, 'teradata': 1839, 'severity': 1840, 'fetch': 1841, 'interviewing': 1842, 'partnerships': 1843, '29': 1844, 'add': 1845, 'uh': 1846, '50': 1847, 'smoke': 1848, 'resume': 1849, 'highlighting': 1850, 'johnson': 1851, 'scd': 1852, 'increased': 1853, 'presented': 1854, 'makes': 1855, 'port': 1856, 'directory': 1857, 'infosys': 1858, 'mangers': 1859, 'way': 1860, 'visiting': 1861, 'patil': 1862, 'practice': 1863, 'controlled': 1864, 'sangli': 1865, 'failures': 1866, 'as400': 1867, 'functionality': 1868, 'visits': 1869, 'vice': 1870, 'verbal': 1871, 'switch': 1872, 'locations': 1873, 'stack': 1874, 'algorithm': 1875, 'io': 1876, 'audience': 1877, 'objectives': 1878, 'gaps': 1879, 'authentication': 1880, 'middleware': 1881, 'aspects': 1882, 'utilizing': 1883, 'shopping': 1884, '2004': 1885, 'individuals': 1886, 'questions': 1887, 'efforts': 1888, 'notepad': 1889, 'doctor': 1890, 'tier': 1891, 'upgrading': 1892, 'exposys': 1893, 'fruits': 1894, 'agents': 1895, 'fill': 1896, 'declaration': 1897, 'db2': 1898, '1998': 1899, 'j': 1900, 'brought': 1901, 'relational': 1902, 'think': 1903, 'standardized': 1904, 'causes': 1905, 'trainings': 1906, 'atm': 1907, 'damage': 1908, 'watch': 1909, 'proof': 1910, 'input': 1911, 'gas': 1912, 'remote': 1913, 'star': 1914, 'mcc': 1915, 'examination': 1916, 'switchgear': 1917, 'coming': 1918, 'qualifications': 1919, 'experiences': 1920, 'strength': 1921, 'motors': 1922, 'ct': 1923, 'optimize': 1924, 'effectiveness': 1925, 'count': 1926, 'struts': 1927, 'epted': 1928, 'deliver': 1929, 'systematic': 1930, 'tours': 1931, 'communities': 1932, 'launch': 1933, 'indore': 1934, 'income': 1935, 'landing': 1936, 'urban': 1937, 'updated': 1938, 'expe': 1939, 'boarding': 1940, 'charts': 1941, 'timesheet': 1942, 'expectations': 1943, 'comes': 1944, 'closure': 1945, 'verification': 1946, 'parties': 1947, 'held': 1948, 'warehouses': 1949, 'europe': 1950, 'holds': 1951, 'involving': 1952, 'protocol': 1953, 'angularjs': 1954, 'fast': 1955, 'several': 1956, 'willing': 1957, 'crystal': 1958, '120': 1959, 'managements': 1960, 'already': 1961, 'clustering': 1962, 'sorting': 1963, 'sweden': 1964, 'cvs': 1965, 'patni': 1966, 'insert': 1967, 'delete': 1968, 'basics': 1969, 'controlling': 1970, 'heterogeneous': 1971, 'rajasthan': 1972, 'bw': 1973, 'noc': 1974, 'coach': 1975, 'sep': 1976, 'sign': 1977, 'usability': 1978, 'require': 1979, 'b2c': 1980, 'booking': 1981, 'library': 1982, 'slas': 1983, 'allows': 1984, 'club': 1985, 'suggestions': 1986, 'goqii': 1987, 'spa': 1988, 'extra': 1989, 'sungard': 1990, 'ii': 1991, '43': 1992, '25': 1993, 'upto': 1994, 'abstract': 1995, 'meaningful': 1996, 'organizational': 1997, 'tasking': 1998, 'comparison': 1999, 'postman': 2000, 'places': 2001, 'telecommunication': 2002, 'micro': 2003, 'actuator': 2004, 'actuators': 2005, 'po': 2006, 'suitable': 2007, 'last': 2008, 'purchasing': 2009, 'frames': 2010, 'cement': 2011, 'detailing': 2012, 'tensorflow': 2013, 'svm': 2014, 'see': 2015, 'extractor': 2016, 'extracted': 2017, 'crawling': 2018, 'rpg': 2019, 'kpit': 2020, 'block': 2021, 'optimizing': 2022, 'courses': 2023, 'salesforce': 2024, 'vb': 2025, 'subcontractors': 2026, 'determined': 2027, 'delta': 2028, 'electric': 2029, 'inouvelle': 2030, 'ventures': 2031, 'proposed': 2032, 'marshall': 2033, 'diverse': 2034, 'extensively': 2035, 'asst': 2036, 'honda': 2037, 'dealership': 2038, 'bex': 2039, 'oss': 2040, 'bar': 2041, 'informed': 2042, 'r3': 2043, 'ranchi': 2044, 'logger': 2045, 'hyperledger': 2046, 'legacy': 2047, 'beginner': 2048, 'cbse': 2049, 'embedded': 2050, 'editor': 2051, 'mvc5': 2052, 'vs': 2053, 'disabled': 2054, 'greyed': 2055, 'painting': 2056, 'contractor': 2057, 'nasscom': 2058, 'ieee': 2059, 'pair': 2060, 'display': 2061, 'oltp': 2062, 'capture': 2063, 'class': 2064, 'corpcloud': 2065, 'arsys': 2066, 'mas': 2067, 'sprint': 2068, 'rewards': 2069, 'answering': 2070, 'california': 2071, 'facets': 2072, 'tdd': 2073, 'hybrid': 2074, 'taf': 2075, 'hl7': 2076, 'reconstruction': 2077, 'logix': 2078, 'talk': 2079, 'rslinx': 2080, 'classic': 2081, 'increment': 2082, 'vbscripts': 2083, 'tester': 2084, 'curriculum': 2085, 'foreign': 2086, 'mesa': 2087, 'demo': 2088, 'heat': 2089, 'dedication': 2090, 'rpa': 2091, 'listener': 2092, 'karate': 2093, 'tac': 2094, 'tmap': 2095, 'sqlserver': 2096, 'anti': 2097, 'laundering': 2098, 'vehicle': 2099, 'aegis': 2100, 'engagement': 2101, 'ongoing': 2102, 'transformation': 2103, '1999': 2104, 'natural': 2105, 'shut': 2106, 'yrs': 2107, 'appreciation': 2108, 'facilitating': 2109, 'install': 2110, 'mechanism': 2111, 'art': 2112, 'institution': 2113, 'foods': 2114, 'funds': 2115, 'norms': 2116, 'highest': 2117, 'uml': 2118, 'experts': 2119, 'newly': 2120, 'slave': 2121, 'offline': 2122, 'significant': 2123, 'emerging': 2124, 'dedicated': 2125, 'streamline': 2126, 'band': 2127, 'outs': 2128, 'letters': 2129, 'permanent': 2130, 'settings': 2131, 'spaces': 2132, 'planned': 2133, 'establish': 2134, 'royal': 2135, 'statistical': 2136, 'either': 2137, 'offer': 2138, 'items': 2139, 'estimates': 2140, 'statement': 2141, 'feasible': 2142, 'semi': 2143, 'ranjangaon': 2144, 'machines': 2145, 'names': 2146, 'gui': 2147, 'break': 2148, 'consumed': 2149, 'together': 2150, 'german': 2151, 'a1': 2152, 'flows': 2153, 'peer': 2154, 'regional': 2155, 'substation': 2156, '1st': 2157, 'blue': 2158, 'mining': 2159, 'interior': 2160, 'buildings': 2161, 'feasibility': 2162, 'waste': 2163, 'personally': 2164, 'equipments': 2165, 'statements': 2166, 'society': 2167, '22': 2168, 'shipment': 2169, 'linked': 2170, 'timeframe': 2171, 'findings': 2172, 'publication': 2173, 'brain': 2174, 'solapur': 2175, 'consistently': 2176, 'oversight': 2177, 'director': 2178, 'oversee': 2179, 'tamil': 2180, 'nadu': 2181, 'book': 2182, 'ksa': 2183, 'aviation': 2184, 'man': 2185, 'attended': 2186, 'lookup': 2187, 'joiner': 2188, 'organisation': 2189, 'jaunpur': 2190, 'resolved': 2191, 'depending': 2192, 'consistent': 2193, 'bharat': 2194, 'cargo': 2195, 'chinchwad': 2196, 'dimensions': 2197, 'financials': 2198, 'brainstorming': 2199, 'guide': 2200, 'frameworks': 2201, 'window': 2202, 'remediation': 2203, 'ec2': 2204, 'scaling': 2205, 'recruit': 2206, 'downloaded': 2207, 'nodes': 2208, 'commands': 2209, 'applied': 2210, 'force': 2211, 'sensor': 2212, 'batches': 2213, 'llc': 2214, 'miami': 2215, 'rac': 2216, '03': 2217, 'jntu': 2218, 'compile': 2219, 'additional': 2220, 'consultation': 2221, 'generations': 2222, 'tracked': 2223, 'arrange': 2224, 'obtain': 2225, 'solar': 2226, 'discussions': 2227, 'oral': 2228, 'presentations': 2229, 'talwalkars': 2230, 'introducing': 2231, 'console': 2232, 'allocation': 2233, 'asia': 2234, 'initiative': 2235, 'tieto': 2236, 'feedbacks': 2237, 'quantitative': 2238, 'priority': 2239, 'funding': 2240, 'learned': 2241, 'ppt': 2242, 'testng': 2243, 'enhanced': 2244, 'ab': 2245, 'hereby': 2246, 'competency': 2247, 'personnel': 2248, 'takes': 2249, 'promote': 2250, 'minimize': 2251, 'close': 2252, 'estimated': 2253, 'finish': 2254, 'matters': 2255, 'reduction': 2256, 'layouts': 2257, 'bring': 2258, 'housing': 2259, 'scikit': 2260, 'matplotlib': 2261, 'remedy': 2262, 'bot': 2263, 'flask': 2264, 'modification': 2265, 'enthusiastic': 2266, 'tower': 2267, 'rds': 2268, 'dump': 2269, 'technological': 2270, 'amount': 2271, 'treatment': 2272, 'trouble': 2273, 'shooting': 2274, 'aims': 2275, 'sld': 2276, 'useful': 2277, 'ssl': 2278, 'juniper': 2279, 'wan': 2280, 'programmer': 2281, 'villa': 2282, 'steps': 2283, 'calibration': 2284, 'transmitter': 2285, 'specialty': 2286, 'criminal': 2287, 'dc': 2288, 'maruti': 2289, 'idt': 2290, 'cmc': 2291, 'universes': 2292, 'reference': 2293, 'ba': 2294, 'sale': 2295, 'diagnostic': 2296, 'abilities': 2297, 'respond': 2298, 'inquiries': 2299, 'maximizing': 2300, 'minimizing': 2301, 'losses': 2302, 'axis': 2303, 'venture': 2304, 'infotek': 2305, 'yalamanchili': 2306, 'ftc': 2307, 'perfect': 2308, 'inbound': 2309, 'terminals': 2310, 'explorer': 2311, 'birthday': 2312, 'kind': 2313, 'kisan': 2314, 'country': 2315, 'session': 2316, 'attacks': 2317, 'computers': 2318, 'servereducation': 2319, 'lifestyle': 2320, 'priorities': 2321, 'facts': 2322, 'servlets': 2323, 'mass': 2324, 'covered': 2325, 'leave': 2326, 'wagh': 2327, '125': 2328, 'responsiblites': 2329, 'deliery': 2330, 'mom': 2331, 'chasing': 2332, 'rr': 2333, 'deputation': 2334, 'invoicings': 2335, 'activites': 2336, 'invocing': 2337, 'cem': 2338, 'sdm': 2339, 'save': 2340, 'towers': 2341, 'tofa': 2342, 'tailgating': 2343, 'asall': 2344, 'drivekey': 2345, 'roadblocks': 2346, 'compliancereport': 2347, 'quarter': 2348, 'allowances': 2349, 'milestone': 2350, 'ratio': 2351, 'addressed': 2352, 'family': 2353, '34': 2354, 'fact': 2355, 'ipsec': 2356, 'merchant': 2357, 'chat': 2358, 'treasury': 2359, 'corporations': 2360, 'broker': 2361, 'dealer': 2362, 'escalated': 2363, 'assessments': 2364, 'initiate': 2365, 'transitions': 2366, 'volumes': 2367, 'hires': 2368, 'siebel': 2369, '95': 2370, 'hour': 2371, 'push': 2372, 'ospf': 2373, 'eigrp': 2374, 'tftp': 2375, 'violation': 2376, 'printers': 2377, 'fzco': 2378, 'discussion': 2379, 'kick': 2380, 'profits': 2381, 'clarification': 2382, 'em': 2383, 'revised': 2384, 'proto': 2385, 'sis': 2386, 'fgs': 2387, 'amc': 2388, 'tps': 2389, 'pu': 2390, 'downloading': 2391, 'egypt': 2392, 'r410': 2393, 'fdm': 2394, 'truck': 2395, 'fox': 2396, '9001': 2397, 'infra': 2398, 'flotilla': 2399, 'exceed': 2400, '4000': 2401, 'landmark': 2402, 'brokers': 2403, 'customs': 2404, 'ecoflex': 2405, 'forwarding': 2406, 'pricing': 2407, 'destinations': 2408, 'gcc': 2409, 'reasonable': 2410, 'shore': 2411, 'parts': 2412, 'functioning': 2413, 'nat': 2414, 'mpls': 2415, 'columbia': 2416, 'child': 2417, 'exp': 2418, 'select': 2419, 'id': 2420, 'approach': 2421, 'evaluating': 2422, 'organizations': 2423, 'qualities': 2424, 'shield': 2425, 'minimal': 2426, 'protect': 2427, 'counselling': 2428, 'calculations': 2429, 'environmental': 2430, 'smoothly': 2431, 'structures': 2432, 'automatically': 2433, 'consumer': 2434, 'start': 2435, 'employment': 2436, 'infotech': 2437, 'agreement': 2438, 'mentoring': 2439, 'facilities': 2440, 'hospitals': 2441, 'procedure': 2442, 'representative': 2443, 'agent': 2444, 'toad': 2445, 'gandhi': 2446, 'saved': 2447, 'rate': 2448, 'scalable': 2449, 'labor': 2450, 'interpret': 2451, 'collaborate': 2452, 'variance': 2453, 'sheets': 2454, 'pharmaceutical': 2455, 'documenting': 2456, 'awareness': 2457, 'rfqs': 2458, 'rule': 2459, 'uracy': 2460, 'assign': 2461, 'executives': 2462, 'tenders': 2463, 'obtaining': 2464, 'professionally': 2465, 'item': 2466, 'exact': 2467, 'tender': 2468, 'obsolete': 2469, 'specs': 2470, 'supervised': 2471, 'ace': 2472, 'lf': 2473, 'grade': 2474, 'common': 2475, 'disciplines': 2476, 'yarn': 2477, 'exported': 2478, 'versa': 2479, 'collaborated': 2480, 'stress': 2481, 'shegaon': 2482, 'lighting': 2483, 'lightning': 2484, 'innovation': 2485, 'agriculture': 2486, 'difficult': 2487, 'valve': 2488, 'rockwell': 2489, 'storing': 2490, 'bca': 2491, 'commodities': 2492, 'breweries': 2493, 'approval': 2494, 'breaker': 2495, 'sorted': 2496, 'reported': 2497, 'union': 2498, 'connection': 2499, 'format': 2500, 'decisions': 2501, 'improvements': 2502, 'mid': 2503, 'edc': 2504, 'terminal': 2505, 'maxgen': 2506, 'finalize': 2507, 'patch': 2508, 'aurus': 2509, 'granting': 2510, 'cd': 2511, 'scale': 2512, 'producing': 2513, 'contributors': 2514, 'rave': 2515, 'sass': 2516, 'brackets': 2517, 'raisoni': 2518, 'photography': 2519, 'click': 2520, 'renovated': 2521, 'maintainable': 2522, 'optimised': 2523, 'guidelines': 2524, 'incorporated': 2525, 'integrate': 2526, 'payers': 2527, 'additionally': 2528, 'register': 2529, 'analytica': 2530, 'analytika': 2531, 'shows': 2532, 'liability': 2533, 'tsr': 2534, 'vidarbha': 2535, 'op': 2536, 'gisss': 2537, 'softtrust': 2538, 'jallosh': 2539, 'endeavor': 2540, '10magicalfingers': 2541, 'mca': 2542, 'apply': 2543, 'license': 2544, 'andheri': 2545, 'highway': 2546, 'recommended': 2547, 'selling': 2548, 'promotional': 2549, 'pilot': 2550, 'ecosystems': 2551, 'filter': 2552, 'housekeeping': 2553, 'frequency': 2554, 'commitment': 2555, 'spot': 2556, 'railway': 2557, 'factors': 2558, 'importing': 2559, 'nosql': 2560, 'lake': 2561, 'compliances': 2562, 'versed': 2563, 'sit': 2564, 'confidence': 2565, 'xoriant': 2566, 'bas': 2567, 'corel': 2568, 'illustrator': 2569, 'virtuous': 2570, 'adobe': 2571, 'studying': 2572, 'gives': 2573, 'professor': 2574, 'broad': 2575, 'previous': 2576, 'translate': 2577, 'assists': 2578, 'fun': 2579, 'supervision': 2580, 'icici': 2581, 'acquiring': 2582, 'row': 2583, 'still': 2584, 'tablespace': 2585, 'datapump': 2586, 'vertical': 2587, 'states': 2588, 'land': 2589, 'soliciting': 2590, 'intertek': 2591, 'frd': 2592, 'clarifying': 2593, 'stages': 2594, 'inlight': 2595, 'tango': 2596, 'panchakarma': 2597, 'stocks': 2598, 'dataiku': 2599, 'reconciliations': 2600, 'recs': 2601, 'salcluster': 2602, 'pimpri': 2603, '37': 2604, 'follet': 2605, 'pusad': 2606, 'index': 2607, 'ora': 2608, 'championship': 2609, 'rlm': 2610, 'pages': 2611, 'kunal': 2612, 'stakeholder': 2613, 'budgeting': 2614, 'thus': 2615, 'login': 2616, 'zensar': 2617, 'come': 2618, '2002': 2619, 'specified': 2620, 'preparations': 2621, 'skilled': 2622, 'trading': 2623, 'b1': 2624, 'seattle': 2625, 'symbiosis': 2626, 'cloudformation': 2627, 'template': 2628, 'dynamo': 2629, 'bean': 2630, 'stalk': 2631, 'appdynamics': 2632, 'chance': 2633, 'hired': 2634, 'eip': 2635, 'trigger': 2636, 'puppet': 2637, 'farms': 2638, 'boxes': 2639, 'tsys': 2640, 'rhds': 2641, 'vdi': 2642, 'aix': 2643, 'caters': 2644, 'imaging': 2645, 'scanned': 2646, 'l1': 2647, 'visited': 2648, 'eprocess': 2649, 'trexo': 2650, 'older': 2651, 'removing': 2652, 'indoor': 2653, 'watching': 2654, 'canada': 2655, 'efficiently': 2656, 'xillinx': 2657, 'modelsim': 2658, 'multisim': 2659, 'fpga': 2660, 'encryption': 2661, 'cryptography': 2662, 'secret': 2663, '230': 2664, 'sorts': 2665, 'rgb': 2666, 'balls': 2667, 'ward': 2668, 'situations': 2669, 'instruments': 2670, 'interfacing': 2671, 'press': 2672, 'profiler': 2673, 'failover': 2674, 'strictly': 2675, 'indexes': 2676, 'buy': 2677, 'fixers': 2678, 'sinks': 2679, 'configura': 2680, 'tion': 2681, 'war': 2682, 'ear': 2683, 'jar': 2684, 'mul': 2685, 'tiple': 2686, 'respectively': 2687, 'bangkok': 2688, 'thaitrade': 2689, 'simultaneous': 2690, 'leases': 2691, 'conflicts': 2692, 'propagation': 2693, 'testers': 2694, 'holdings': 2695, 'sellers': 2696, 'bblwtp': 2697, 'subversion': 2698, 'deploys': 2699, 'liaison': 2700, 'dealing': 2701, 'contractors': 2702, 'submitted': 2703, 'desired': 2704, 'analyse': 2705, 'audio': 2706, 'maintains': 2707, 'flash': 2708, 'stp': 2709, 'hosting': 2710, 'guard': 2711, 'copy': 2712, 'option': 2713, 'qualitative': 2714, 'productive': 2715, '47': 2716, 'travelled': 2717, 'approvals': 2718, 'retailers': 2719, 'hobbies': 2720, 'navi': 2721, '1995': 2722, 'outside': 2723, 'sizing': 2724, 'rotary': 2725, 'fabricated': 2726, 'estimating': 2727, 'manufactured': 2728, 'technically': 2729, 'saving': 2730, 'examine': 2731, 'arrival': 2732, 'duncan': 2733, 'petrochemical': 2734, 'fruitful': 2735, 'rotex': 2736, 'assemblies': 2737, 'knn': 2738, 'intent': 2739, 'fetching': 2740, 'numbers': 2741, 'tensor': 2742, 'dataset': 2743, 'sgd': 2744, 'ner': 2745, 'kranti': 2746, 'soap': 2747, 'scrapping': 2748, 'hexad': 2749, 'consolidation': 2750, 'remediated': 2751, 'must': 2752, 'therefore': 2753, 'utr': 2754, 'scraping': 2755, 'techn': 2756, 'cl': 2757, 'ile': 2758, 'passing': 2759, '02': 2760, 'motivated': 2761, 'kingdom': 2762, 'conglomerate': 2763, 'headquartered': 2764, 'hub': 2765, 'gathered': 2766, 'partition': 2767, 'rdd': 2768, 'supervisor': 2769, 'shri': 2770, 'chandrapur': 2771, '30th': 2772, 'section': 2773, 'responding': 2774, 'statistics': 2775, 'apex': 2776, 'vanet': 2777, 'parson': 2778, 'brings': 2779, 'waves': 2780, 'device': 2781, 'provisioning': 2782, 'larsen': 2783, 'city': 2784, 'rgpv': 2785, 'attributes': 2786, 'collaborative': 2787, 'loyalty': 2788, 'marine': 2789, 'generator': 2790, 'vfd': 2791, '9x': 2792, 'divisions': 2793, 'advert': 2794, 'datamart': 2795, 'cabling': 2796, 'pcc': 2797, 'plants': 2798, 'pt': 2799, 'cv': 2800, 'biar': 2801, 'poc': 2802, 'folders': 2803, 'limitations': 2804, 'interactive': 2805, 'ensono': 2806, 'continue': 2807, 'jharkhand': 2808, 'women': 2809, 'auxledger': 2810, 'lots': 2811, 'otc': 2812, 'ripple': 2813, 'fabric': 2814, 'reminder': 2815, 'parking': 2816, 'react': 2817, 'nodejs': 2818, 'zhypility': 2819, 'strategizing': 2820, 'hackthon': 2821, 'rome': 2822, 'jio': 2823, 'nearby': 2824, 'kgp': 2825, 'random': 2826, 'ccna': 2827, 'analytic': 2828, 'ready': 2829, 'average': 2830, 'relations': 2831, 'reputation': 2832, 'capturing': 2833, 'directors': 2834, 'cms': 2835, 'teacher': 2836, 'collections': 2837, 'dictionary': 2838, 'community': 2839, 'regularization': 2840, 'debit': 2841, 'fields': 2842, 'displayed': 2843, 'navigated': 2844, 'mgm': 2845, 'offs': 2846, 'treasurer': 2847, 'scoe': 2848, 'aissms': 2849, 'sell': 2850, 'dapps': 2851, 'mean': 2852, 'seniors': 2853, 'inovics': 2854, 'urllib': 2855, 'posting': 2856, '360': 2857, 'gst': 2858, 'tidal': 2859, 'debugger': 2860, 'award': 2861, 'confident': 2862, 'bpt': 2863, 'dcmtk': 2864, 'quest': 2865, 'archiving': 2866, 'backlog': 2867, 'validated': 2868, 'trace': 2869, 'mistakes': 2870, '05': 2871, 'andrews': 2872, 'servicing': 2873, 'led': 2874, 'advantage': 2875, 'roi': 2876, 'gate': 2877, 'ledger': 2878, 'gained': 2879, 'solidworks': 2880, 'sanarco': 2881, 'breakdown': 2882, 'ranging': 2883, 'assistence': 2884, 'fiori': 2885, 'matter': 2886, 'dossier': 2887, 'dim': 2888, 'brokerage': 2889, 'candidates': 2890, 'germany': 2891, 'dispatch': 2892, 'streamlining': 2893, 'drivers': 2894, 'walk': 2895, 'poona': 2896, 'continuously': 2897, 'seasonal': 2898, 'promotions': 2899, 'aspire': 2900, 'answer': 2901, 'initial': 2902, 'pipeline': 2903, 'fresher': 2904, 'na': 2905, 'jaipur': 2906, 'orgnization': 2907, 'eg': 2908, 'yallaspree': 2909, 'railtiffin': 2910, 'ecommerce': 2911, 'olite': 2912, 'uae': 2913, 'mit': 2914, 'loads': 2915, 'tsqlrow': 2916, 'dimension': 2917, 'cassandra': 2918, 'words': 2919, 'agro': 2920, 'hingna': 2921, 'metal': 2922, 'fab': 2923, 'automotive': 2924, 'experiance': 2925, 'th': 2926, 'semister': 2927, 'petronet': 2928, 'multitasking': 2929, 'grow': 2930, 'timeline': 2931, 'solve': 2932, 'cycles': 2933, 'bus': 2934, 'surfing': 2935, 'palo': 2936, 'alto': 2937, 'ltm': 2938, '45': 2939, 'emea': 2940, '2960': 2941, 'teachers': 2942, 'segments': 2943, 'prime': 2944, 'airtel': 2945, 'centos': 2946, 'citi': 2947, 'young': 2948, 'initiatives': 2949, 'failed': 2950, 'undertaken': 2951, 'ordinator': 2952, 'notification': 2953, 'w': 2954, 'enhancing': 2955, 'centres': 2956, 'ignou': 2957, 'players': 2958, 'captured': 2959, 'mutually': 2960, 'lifekonnect': 2961, 'organising': 2962, 'hsbc': 2963, 'ordinating': 2964, 'nutritionist': 2965, 'learnt': 2966, 'essential': 2967, 'standalone': 2968, 'clusters': 2969, 'foot': 2970, 'refreshers': 2971, '7education': 2972, 'command': 2973, 'jalgaon': 2974, 'exercise': 2975, 'escalations': 2976, 'fortinet': 2977, 'latest': 2978, 'cloning': 2979, 'ios': 2980, 'cooling': 2981, 'migrating': 2982, 'ethernet': 2983, 'vlans': 2984, 'hopping': 2985, 'logical': 2986, 'logins': 2987, 'reliable': 2988, 'ce': 2989, 'graphs': 2990, 'scratch': 2991, 'bulk': 2992, 'password': 2993, 'declare': 2994, 'belief': 2995, 'sciences': 2996, 'piping': 2997, 'manuals': 2998, 'medium': 2999, 'passed': 3000, 'earliest': 3001, 'regex': 3002, 'output': 3003, 'suited': 3004, 'marital': 3005, 'walkthroughs': 3006, 'equities': 3007, 'ethics': 3008, 'whole': 3009, 'logging': 3010, 'hpqc': 3011, 'develops': 3012, 'outcomes': 3013, 'mc': 3014, 'eplan': 3015, 'punjab': 3016, 'vidya': 3017, 'diagram': 3018, 'awarded': 3019, 'prakash': 3020, 'shift': 3021, 'firm': 3022, 'loans': 3023, 'structural': 3024, 'purposes': 3025, 'progressing': 3026, 'purchases': 3027, 'liaise': 3028, 'regards': 3029, 'smec': 3030, 'siemens': 3031, 'ha': 3032, 'suite': 3033, 'mnu': 3034, 'courts': 3035, 'rs': 3036, 'chart': 3037, 'suggest': 3038, 'eta': 3039, 'regions': 3040, 'extensive': 3041, 'organisational': 3042, 'sybase': 3043, 'seamlessly': 3044, 'scd2': 3045, 'transforms': 3046, 'mode': 3047, 'contents': 3048, 'thakur': 3049, 'http': 3050, 'voice': 3051, 'assistance': 3052, 'honesty': 3053, 'targeted': 3054, 'bringing': 3055, 'assisted': 3056, 'powerful': 3057, 'agency': 3058, 'reliability': 3059, 'intermediate': 3060, 'police': 3061, 'mobilization': 3062, 'variation': 3063, 'submittal': 3064, 'independently': 3065, 'prototyping': 3066, 'iot': 3067, 'downstream': 3068, 'put': 3069, 'qualifier': 3070, 'reusable': 3071, 'correcting': 3072, 'fault': 3073, 'utilize': 3074, 'schemes': 3075, 'periodic': 3076, 'workflows': 3077, 'screens': 3078, 'msc': 3079, 'moved': 3080, 'churn': 3081, 'golden': 3082, 'enquiry': 3083, 'webservices': 3084, 'institutions': 3085, 'participation': 3086, 'portfolio': 3087, 'softwares': 3088, 'conventional': 3089, 'electronic': 3090, 'heading': 3091, 'official': 3092, 'exception': 3093, 'ensures': 3094, 'om': 3095, 'pas': 3096, 'converting': 3097, 'thorough': 3098, 'expert': 3099, 'shivaji': 3100, 'operated': 3101, 'west': 3102, 'billion': 3103, 'owned': 3104, 'sharjah': 3105, 'discipline': 3106, 'red': 3107, 'bayes': 3108, 'integrator': 3109, 'taken': 3110, 'deals': 3111, 'pyspark': 3112, 'steady': 3113, 'kurla': 3114, 'libraries': 3115, 'diabetes': 3116, 'pf': 3117, 'mi': 3118, 'fire': 3119, '000': 3120, '100': 3121, 'pi': 3122, '97': 3123, '44': 3124, 'vip': 3125, 'researching': 3126, 'scanners': 3127, 'pro': 3128, 'measurements': 3129, 'communicator': 3130, 'supports': 3131, 'handover': 3132, 'kt': 3133, 'advisor': 3134, 'scan': 3135, 'bcp': 3136, 'mails': 3137, 'e2e': 3138, 'many': 3139, 'totally': 3140, 'tour': 3141, 'willingness': 3142, 'ise': 3143, '84': 3144, 'xampp': 3145, 'juniors': 3146, 'craft': 3147, 'stop': 3148, 'hospitality': 3149, 'telephone': 3150, 'look': 3151, 'fi': 3152, 'vodafone': 3153, 'share': 3154, 'properties': 3155, 'exhibition': 3156, 'enable': 3157, 'setups': 3158, 'skillset': 3159, 'japan': 3160, 'symantec': 3161, 'vmware': 3162, 'automatic': 3163, 'contacting': 3164, 'datacenter': 3165, 'odata': 3166, 'duty': 3167, 'approve': 3168, 'inventories': 3169, 'addition': 3170, 'reading': 3171, 'firms': 3172, 'guiding': 3173, '1993': 3174, 'trips': 3175, 'prices': 3176, 'question': 3177, 'remain': 3178, 'gauge': 3179, 'gcp': 3180, 'inception': 3181, 'seaborn': 3182, 'cufflinks': 3183, 'emphasis': 3184, 'brief': 3185, 'unstructured': 3186, 'dates': 3187, 'bluemix': 3188, 'sklearn': 3189, 'rnn': 3190, 'lstm': 3191, 'keras': 3192, 'detect': 3193, 'father': 3194, 'birth': 3195, 'mm': 3196, 'beautiful': 3197, 'mec': 3198, 'fund': 3199, 'indent': 3200, 'mailing': 3201, 'matric': 3202, 'fighting': 3203, 'airlines': 3204, 'serving': 3205, 'beyond': 3206, 'finder': 3207, 'introductory': 3208, 'atex': 3209, 'nfpa': 3210, 'iec': 3211, 'nec': 3212, 'sant': 3213, 'gajanan': 3214, 'maharaj': 3215, 'hazardous': 3216, 'outdoor': 3217, 'trench': 3218, 'duct': 3219, 'voltage': 3220, 'bidding': 3221, 'fm': 3222, 'rca': 3223, 'v10': 3224, 'programing': 3225, 'wise': 3226, 'samarth': 3227, 'exhibitions': 3228, 'showrooms': 3229, 'quantities': 3230, 'labour': 3231, 'studies': 3232, 'architects': 3233, 'matelabs': 3234, 'preprocessing': 3235, 'even': 3236, 'conveyor': 3237, 'postgressql': 3238, 'assets': 3239, 'profitability': 3240, 'listed': 3241, 'incentive': 3242, 'adaptability': 3243, 'briefing': 3244, 'achievement': 3245, 'gulbarga': 3246, 'wai': 3247, 'kisanveer': 3248, 'refcon': 3249, 'starters': 3250, 'transformer': 3251, 'sf6': 3252, 'generic': 3253, 'representing': 3254, 'metadata': 3255, 'nordea': 3256, 'scom': 3257, 'indira': 3258, 'participating': 3259, 'steering': 3260, 'optimum': 3261, 'trusted': 3262, 'weblogic12c': 3263, 'webserver': 3264, 'geneva': 3265, 'preformed': 3266, 'staa': 3267, 'weblogic': 3268, 'owner': 3269, 'intern': 3270, 'taught': 3271, 'derby': 3272, 'debugged': 3273, 'confirm': 3274, 'alleviate': 3275, '32': 3276, 'speed': 3277, 'sociology': 3278, 'sophia': 3279, 'applicants': 3280, 'grants': 3281, 'attractive': 3282, 'opportunity': 3283, 'millions': 3284, 'contributing': 3285, 'posters': 3286, 'publicity': 3287, 'leaflets': 3288, 'attracting': 3289, 'venue': 3290, 'complied': 3291, 'transmission': 3292, 'located': 3293, 'interviewees': 3294, 'selecting': 3295, 'presenters': 3296, 'recorded': 3297, 'copyrights': 3298, 'cleared': 3299, 'sonic': 3300, 'xs': 3301, 'category': 3302, 'technique': 3303, 'similarity': 3304, 'technicalskills': 3305, 'springmvc': 3306, 'azureweb': 3307, 'suntechnologies': 3308, 'restapi': 3309, 'opensourcetechnologies': 3310, 'webservers': 3311, 'apachetomcatserver': 3312, 'internettechnologiesand': 3313, 'onesignalwebpushnotifications': 3314, 'azurewebservices': 3315, 'operatingsystem': 3316, 'windowsserver2012r2': 3317, 'winxp': 3318, 'sapkal': 3319, 'replete': 3320, 'lecturer': 3321, 'cit': 3322, 'shubhankan': 3323, 'org': 3324, 'machinery': 3325, 'attract': 3326, 'aurangabad': 3327, 'nafjan': 3328, 'abad': 3329, 'submittals': 3330, 'ofj': 3331, 'exceptional': 3332, 'robotics': 3333, 'holy': 3334, 'ghatkopar': 3335, 'ymca': 3336, 'tie': 3337, 'specifically': 3338, 'hodoop': 3339, 'wanted': 3340, 'behavior': 3341, 'placed': 3342, 'write': 3343, 'pfizer': 3344, 'ddr': 3345, 'llb': 3346, 'era': 3347, 'executions': 3348, 'forms': 3349, 'return': 3350, 'ds': 3351, 'almighty': 3352, 'expression': 3353, 'collected': 3354, 'propose': 3355, 'pay': 3356, 'translation': 3357, 'houses': 3358, 'ext': 3359, 'soapbox': 3360, 'gondia': 3361, 'hertz': 3362, 'committee': 3363, 'parola': 3364, 'dist': 3365, 'mms': 3366, 'viability': 3367, 'notices': 3368, 'dataguard': 3369, 'kva': 3370, 'kirloskar': 3371, 'relays': 3372, 'circuit': 3373, 'battery': 3374, 'kw': 3375, 'contactor': 3376, 'netweaver': 3377, 'sd': 3378, 'cs': 3379, 'scm': 3380, 'carrier': 3381, 'ordinated': 3382, 'doors': 3383, 'jformdesigner': 3384, 'd365': 3385, 'questionnaire': 3386, 'allcargo': 3387, 'salesperson': 3388, 'consent': 3389, 'iii': 3390, 'unravel': 3391, 'hue': 3392, 'lineage': 3393, 'focus': 3394, 'stability': 3395, 'utilizations': 3396, 'benchmark': 3397, 'greenplum': 3398, 'ubc': 3399, 'schlumberger': 3400, 'joins': 3401, 'attribute': 3402, 'sps12': 3403, 'docker': 3404, 'ulhasnagar': 3405, 'hexaware': 3406, 'could': 3407, 'interviews': 3408, 'early': 3409, 'background': 3410, 'lab': 3411, 'iqvia': 3412, 'internally': 3413, 'wqr': 3414, '42': 3415, 'expdp': 3416, 'awr': 3417, 'martial': 3418, 'medals': 3419, 'predict': 3420, 'markets': 3421, 'braindatawire': 3422, 'practices': 3423, 'toubro': 3424, 'tez': 3425, 'kibana': 3426, 'negative': 3427, 'boot': 3428, 'beans': 3429, 'omegasoft': 3430, 'everywhere': 3431, 'limits': 3432, 'gsk': 3433, 'instruction': 3434, 'geepas': 3435, 'builders': 3436, 'san': 3437, 'ax': 3438, 'glyphisoft': 3439, 'owners': 3440, 'optimized': 3441, 'perspective': 3442, 'eliminated': 3443, 'walchand': 3444, 'patients': 3445, 'listening': 3446, 'polices': 3447, 'meraki': 3448, '350': 3449, 'especially': 3450, 'failure': 3451, 'scheduler': 3452, 'suggestion': 3453, 'engagements': 3454, 'aware': 3455, 'raise': 3456, 'graphical': 3457, 'fundamentals': 3458, 'wealth': 3459, 'creative': 3460, 'generally': 3461, 'browser': 3462, 'confluence': 3463, '79': 3464, 'eligible': 3465, 'linguistic': 3466, 'versions': 3467, 'prioritizing': 3468, 'fair': 3469, 'facilitate': 3470, 'pick': 3471, 'edge': 3472, 'ldap': 3473, 'frequent': 3474, 'authorization': 3475, 'rhel': 3476, 'print': 3477, 'sccm': 3478, 'complain': 3479, 'china': 3480, 'exceeded': 3481, 'choice': 3482, 'zero': 3483, 'mutual': 3484, 's3': 3485, 'incremental': 3486, 'conformance': 3487, 'weight': 3488, 'synthesize': 3489, 'ification': 3490, 'macros': 3491, 'paced': 3492, 'particularly': 3493, 'formulae': 3494, 'pivots': 3495, 'saints': 3496, 'prudential': 3497, 'multiclient': 3498, 'pheonix': 3499, 'glasgow': 3500, 'transitioned': 3501, 'pmos': 3502, 'robust': 3503, 'saviant': 3504, 'seasoned': 3505, 'supportive': 3506, 'allowed': 3507, 'imaginative': 3508, 'budgeted': 3509, 'dollars': 3510, 'collate': 3511, 'outliers': 3512, 'tl': 3513, 'influence': 3514, 'yearly': 3515, 'publish': 3516, 'webdriver': 3517, 'ice': 3518, 'annotations': 3519, 'arrive': 3520, 'arya': 3521, 'udemy': 3522, '90': 3523, 'geo': 3524, 'grasping': 3525, 'bt': 3526, 'formerly': 3527, 'dallas': 3528, 'sikuli': 3529, 'gujarat': 3530, 'thermal': 3531, 'niketan': 3532, 'schneider': 3533, 'charge': 3534, 'alarm': 3535, 'aptech': 3536, 'gaia': 3537, 'reverse': 3538, 'balancers': 3539, 'hcl': 3540, 'comnet': 3541, 'rsa': 3542, '4500': 3543, 'universal': 3544, 'sky': 3545, 'inform': 3546, 'integrity': 3547, 'practical': 3548, 'officeeducation': 3549, 'belt': 3550, 'fanuc': 3551, 'individually': 3552, 'twice': 3553, 'arrangement': 3554, 'combines': 3555, 'expenditure': 3556, 'respect': 3557, 'pp': 3558, 'demonstrated': 3559, 'centric': 3560, 'deft': 3561, 'delinquencies': 3562, 'dexterity': 3563, 'recoveries': 3564, 'bottom': 3565, 'quartile': 3566, 'relate': 3567, 'verticals': 3568, 'measuring': 3569, 'measured': 3570, 'appropriately': 3571, 'ctl': 3572, 'amex': 3573, 'tid': 3574, 'oceans': 3575, '73': 3576, 'pins': 3577, 'chargeback': 3578, 'replied': 3579, 'bankers': 3580, 'stringent': 3581, 'premises': 3582, 'aforesaid': 3583, 'determining': 3584, 'retain': 3585, 'ags': 3586, 'transact': 3587, 'atms': 3588, 'vertex': 3589, 'con': 3590, 'inclusion': 3591, 'cascading': 3592, 'inward': 3593, 'outward': 3594, 'foi': 3595, 'snail': 3596, 'swift': 3597, 'reality': 3598, 'join': 3599, '40': 3600, 'maths': 3601, 'ept': 3602, 'dance': 3603, 'enabling': 3604, 'overview': 3605, 'students': 3606, 'kendoui': 3607, 'subjects': 3608, 'ai': 3609, 'comfort': 3610, 'faculty': 3611, 'mrs': 3612, 'cpro': 3613, 'xtraction': 3614, 'rkims': 3615, 'bench': 3616, 'aspiration': 3617, 'crunch': 3618, 'wfm': 3619, 'trended': 3620, 'nld': 3621, 'elevate': 3622, 'trb': 3623, 'te': 3624, 'wims': 3625, 'sims': 3626, 'impacting': 3627, 'coordinates': 3628, 'bu': 3629, 'distribute': 3630, 'ratios': 3631, 'seat': 3632, 'pwd': 3633, 'dob': 3634, '1986': 3635, 'awvpb7123n': 3636, 'passport': 3637, 'j1409038': 3638, 'kannada': 3639, 'konkani': 3640, 'married': 3641, 'jupyter': 3642, 'anaconda': 3643, 'workers': 3644, 'campaigns': 3645, 'escalationseducation': 3646, 'icfai': 3647, 'eliminate': 3648, 'controllership': 3649, 'reengineering': 3650, 'charter': 3651, 'ud': 3652, 'sops': 3653, 'impacted': 3654, 'teleperformance': 3655, 'exploring': 3656, 'preferences': 3657, 'conceptualizing': 3658, 'batch': 3659, 'joiners': 3660, 'barging': 3661, 'adhoc': 3662, 'introduction': 3663, 'tortoise': 3664, 'wcf': 3665, 'conversation': 3666, 'operate': 3667, 'sculpt': 3668, 'notice': 3669, 'dietetics': 3670, 'wellness': 3671, 'viamedia': 3672, 'maternal': 3673, 'nutritional': 3674, 'diet': 3675, 'comfortable': 3676, 'utm': 3677, 'bmn': 3678, 'promoter': 3679, 'ugc': 3680, 'storm': 3681, 'likely': 3682, 'groomed': 3683, 'body': 3684, 'cum': 3685, 'healthy': 3686, 'produce': 3687, 'inbuilt': 3688, 'ministry': 3689, 'vinayaka': 3690, 'missions': 3691, 'worth': 3692, 'advisors': 3693, 'bs': 3694, 'collects': 3695, '218': 3696, 'brooklyn': 3697, 'pittsburgh': 3698, 'syracuse': 3699, 'collateral': 3700, 'apac': 3701, 'fiserv': 3702, 'firre': 3703, 'tasked': 3704, 'unbilled': 3705, 'resumption': 3706, 'defense': 3707, 'ountability': 3708, 'ore': 3709, 'ordingly': 3710, 'green': 3711, 'eap': 3712, 'underperforming': 3713, 'semiannual': 3714, 'cut': 3715, 'hire': 3716, 'brainshark': 3717, 'encourage': 3718, 'competitive': 3719, 'play': 3720, 'conceptualized': 3721, 'funneling': 3722, 'breakdowns': 3723, 'toll': 3724, 'esses': 3725, 'differentiate': 3726, 'paths': 3727, 'rotation': 3728, 'recognitions': 3729, 'ais': 3730, 'bds': 3731, 'custodian': 3732, 'trustee': 3733, 'paying': 3734, 'registrar': 3735, 'billed': 3736, 'invoiced': 3737, 'mailboxes': 3738, 'equal': 3739, 'spreadsheets': 3740, 'designated': 3741, 'actioned': 3742, 'handoff': 3743, 'counterparts': 3744, 'sigma': 3745, 'ones': 3746, 'corp': 3747, 'tieriii': 3748, 'compiled': 3749, 'stb': 3750, 'flip': 3751, 'span': 3752, 'article': 3753, '29th': 3754, 'customizes': 3755, 'satisfy': 3756, '500': 3757, 'walking': 3758, 'interim': 3759, 'concerning': 3760, 'refunds': 3761, 'credits': 3762, 'queues': 3763, 'intervening': 3764, 'delayed': 3765, 'deriving': 3766, 'hurdles': 3767, 'improvise': 3768, 'expeditious': 3769, 'additions': 3770, 'commonly': 3771, 'urring': 3772, 'motivation': 3773, 'nominated': 3774, 'gecis': 3775, 'lending': 3776, 'leasing': 3777, 'outbound': 3778, 'credibility': 3779, 'absence': 3780, '2900s': 3781, 'catalyst': 3782, 'exec': 3783, '12d': 3784, 'cloudatix': 3785, 'wifi': 3786, 'asha': 3787, 'mmpc': 3788, 'mp': 3789, 'laptop': 3790, 'computerized': 3791, 'partner': 3792, 'indexing': 3793, 'deltannex': 3794, 'integrators': 3795, 'outlays': 3796, 'fostering': 3797, 'teamwork': 3798, 'prioritization': 3799, 'complying': 3800, 'compilation': 3801, 'waivers': 3802, 'concessions': 3803, 'approving': 3804, 'mrn': 3805, 'closeout': 3806, 'constant': 3807, 'earlier': 3808, 'ev': 3809, 'variances': 3810, 'biweekly': 3811, 'adheres': 3812, 'ordinates': 3813, 'tqs': 3814, 'revisions': 3815, 'revision': 3816, 'seoul': 3817, 'south': 3818, 'jas': 3819, 'pc': 3820, 'ja': 3821, 'concerns': 3822, 'sides': 3823, 'invitation': 3824, 'ccvi': 3825, 'permits': 3826, 'teleconference': 3827, 'epc': 3828, 'tbes': 3829, 'fgp': 3830, 'wpmp': 3831, 'tco': 3832, 'mustang': 3833, 'sta': 3834, 'ing': 3835, 'grain': 3836, 'cbi': 3837, 'tanker': 3838, 'miscellaneous': 3839, 'cord': 3840, 'appreciations': 3841, 'mx8800': 3842, 'ccr1': 3843, 'offsites': 3844, 'enppi': 3845, 'ethydco': 3846, 'ethylene': 3847, '2nos': 3848, 'doubts': 3849, 'abu': 3850, 'dhabi': 3851, 'plant6': 3852, 'ml200': 3853, 'tunnel': 3854, 'chevron': 3855, 'oronite': 3856, 'singapore': 3857, 'hmiweb': 3858, '66': 3859, 'noticed': 3860, 'tgi': 3861, 'modernization': 3862, 'kh': 3863, 'nederland': 3864, 'raffinaderji': 3865, 'amsterdam': 3866, 'hg': 3867, 'cmpi': 3868, 'coil': 3869, 'balancing': 3870, 'strategically': 3871, 'ountable': 3872, 'contingency': 3873, 'advises': 3874, 'adopt': 3875, 'freeze': 3876, 'iron': 3877, 'ambiguities': 3878, 'please': 3879, 'annexure': 3880, 'enercon': 3881, 'inverter': 3882, 'converter': 3883, 'igbts': 3884, 'thyristors': 3885, '24x7': 3886, '3600': 3887, 'tag': 3888, 'ie': 3889, 'sage': 3890, 'lm': 3891, 'wms': 3892, '050education': 3893, 'landmarkgroup': 3894, 'turnover': 3895, '2200': 3896, 'cr': 3897, 'cheque': 3898, 'correctly': 3899, 'underwriting': 3900, 'costings': 3901, 'followups': 3902, 'trippereri': 3903, 'travels': 3904, 'looked': 3905, 'vish': 3906, 'distributor': 3907, 'amenities': 3908, 'incharge': 3909, 'overlooking': 3910, 'cha': 3911, 'quickest': 3912, 'adhered': 3913, 'rebates': 3914, 'availed': 3915, 'exim': 3916, 'satisfied': 3917, 'obstacles': 3918, 'faced': 3919, 'smoothened': 3920, 'hassel': 3921, 'paybles': 3922, 'manufacture': 3923, 'shortfalls': 3924, 'fze': 3925, 'sophisticated': 3926, 'revenues': 3927, 'excess': 3928, 'eur': 3929, 'annually': 3930, 'acquire': 3931, 'economical': 3932, 'eye': 3933, 'negotiate': 3934, 'charges': 3935, 'americas': 3936, 'snag': 3937, 'loopholes': 3938, 'deadline': 3939, 'transporters': 3940, 'clearances': 3941, 'transportation': 3942, 'loss': 3943, 'european': 3944, 'curtail': 3945, 'wastages': 3946, 'disposal': 3947, 'retired': 3948, 'distributions': 3949, 'receipt': 3950, 'affecting': 3951, 'punctuality': 3952, 'vacation': 3953, 'expired': 3954, 'aligned': 3955, 'procuring': 3956, 'registrations': 3957, 'factories': 3958, 'picking': 3959, 'packing': 3960, 'aed': 3961, 'sabic': 3962, 'discrepancy': 3963, 'stocking': 3964, 'abridged': 3965, 'decrease': 3966, 'turnaround': 3967, 'kuehne': 3968, 'nagel': 3969, 'seafreight': 3970, 'airfreight': 3971, 'overland': 3972, 'negotiated': 3973, 'routes': 3974, 'carriers': 3975, 'essayed': 3976, 'nations': 3977, 'marriot': 3978, 'hilton': 3979, 'movements': 3980, 'far': 3981, 'amman': 3982, 'exit': 3983, 'grievances': 3984, 'courrier': 3985, 'wholly': 3986, 'dpwn': 3987, 'deutsche': 3988, 'ountholders': 3989, 'tracing': 3990, 'undelivered': 3991, 'paperworks': 3992, 'warrants': 3993, 'wns': 3994, 'airlink': 3995, 'jebel': 3996, 'ali': 3997, 'barge': 3998, 'loadouts': 3999, 'adhering': 4000, 'dispatching': 4001, 'reorder': 4002, 'par': 4003, 'radiators': 4004, 'coolers': 4005, 'exchangers': 4006, 'circulating': 4007, 'memos': 4008, 'petty': 4009, 'cashiering': 4010, 'secretary': 4011, 'analysing': 4012, 'associates': 4013, 'subnetting': 4014, 'supernetting': 4015, 'lans': 4016, 'snooping': 4017, 'aaa': 4018, 'bgp': 4019, 'telemetary': 4020, 'fan': 4021, 'sem': 4022, 'simply': 4023, 'senses': 4024, 'moisture': 4025, 'mahatma': 4026, 'acls': 4027, 'rip': 4028, 'forest': 4029, 'suit': 4030, 'focused': 4031, 'keeps': 4032, 'character': 4033, 'instructor': 4034, 'dental': 4035, 'reduced': 4036, 'expense': 4037, 'golds': 4038, 'iis': 4039, 'pertaining': 4040, 'challenging': 4041, 'gender': 4042, 'collaborator': 4043, 'academia': 4044, 'desktop': 4045, 'obtained': 4046, 'raspberry': 4047, 'nettech': 4048, '12k': 4049, 'movie': 4050, 'epi': 4051, 'charni': 4052, 'ids': 4053, 'ips': 4054, 'variety': 4055, 'notes': 4056, 'relating': 4057, 'ssms': 4058, 'netezza': 4059, 'packs': 4060, 'bots': 4061, 'schemas': 4062, 'consolidated': 4063, 'blocking': 4064, 'disaster': 4065, 'consistency': 4066, 'viewer': 4067, 'clinics': 4068, 'exploratory': 4069, 'manipal': 4070, 'shop': 4071, 'snapshot': 4072, 'tds': 4073, 'economics': 4074, 'bills': 4075, 'awards': 4076, 'speaker': 4077, 'eco': 4078, 'rack': 4079, 'ies': 4080, 'helped': 4081, 'exporting': 4082, 'connect': 4083, 'temporary': 4084, 'schedulers': 4085, '63': 4086, 'garments': 4087, 'sanity': 4088, 'mysql5': 4089, 'developement': 4090, 'innovesta': 4091, 'priyadarshini': 4092, 'conferring': 4093, 'understood': 4094, 'incorporate': 4095, 'nitka': 4096, 'mintmetrix': 4097, 'tagline': 4098, 'videos': 4099, 'smartbadge': 4100, 'shreekiaspack': 4101, '3staragroproducts': 4102, 'luckystationery': 4103, 'logos': 4104, 'brochures': 4105, 'banners': 4106, 'pamphlet': 4107, 'hoardings': 4108, 'diagnosis': 4109, 'mini': 4110, 'distance': 4111, 'slow': 4112, 'netbackup': 4113, 'sgbau': 4114, 'involvement': 4115, 'text2': 4116, 'codeigniter': 4117, 'augest': 4118, 'pragat': 4119, 'diifernt': 4120, 'ayur': 4121, 'ayurveda': 4122, 'traditionally': 4123, 'classical': 4124, 'ayurvedic': 4125, 'vitsanindia': 4126, 'shooping': 4127, 'iv': 4128, 'mahabaleshwartours': 4129, 'cityspaceindia': 4130, 'vi': 4131, 'fruitsbuddy': 4132, 'fruitbuddy': 4133, 'guaranteed': 4134, 'vii': 4135, 'totalcitee': 4136, 'visitors': 4137, 'viii': 4138, 'golchha': 4139, 'things': 4140, 'identity': 4141, 'rolled': 4142, 'memory': 4143, 'pattern': 4144, 'omplishments': 4145, 'telerik': 4146, 'impdp': 4147, 'addm': 4148, 'tnsnames': 4149, 'mariadb': 4150, 'participants': 4151, 'refresh': 4152, 'ernst': 4153, 'crash': 4154, 'creates': 4155, 'bse': 4156, 'rescheduling': 4157, 'faces': 4158, 'ejb': 4159, 'jsf': 4160, 'intio': 4161, 'yee': 4162, 'football': 4163, 'travelling': 4164, 'factual': 4165, 'manish': 4166, 'prabhakar': 4167, 'bharati': 4168, 'vidyapeeth': 4169, 'khalsa': 4170, 'datastage': 4171, 'infocomm': 4172, 'havevbeen': 4173, '3years': 4174, 'integrating': 4175, 'ites': 4176, 'directed': 4177, 'mgmt': 4178, 'alternatives': 4179, 'amendment': 4180, 'plotting': 4181, 'bought': 4182, 'thumb': 4183, 'realistic': 4184, 'databanks': 4185, 'readily': 4186, 'dept': 4187, 'submitting': 4188, 'pending': 4189, 'concern': 4190, 'pain': 4191, 'tailor': 4192, 'predesigned': 4193, 'chemtronics': 4194, 'commercially': 4195, 'viable': 4196, 'savings': 4197, 'finalization': 4198, 'comparisons': 4199, 'digitize': 4200, 'incoming': 4201, 'note': 4202, 'buying': 4203, 'finders': 4204, 'ask': 4205, 'quote': 4206, 'substantial': 4207, 'expenditures': 4208, 'dombivali': 4209, 'kaylan': 4210, 'pneumatics': 4211, 'comparing': 4212, 'schrader': 4213, 'modify': 4214, 'assy': 4215, 'assure': 4216, 'conformity': 4217, 'nc': 4218, 'touch': 4219, 'hods': 4220, 'iso9001': 4221, 'dealers': 4222, 'hoist': 4223, 'lifts': 4224, 'joist': 4225, 'mech': 4226, 'rabale': 4227, 'thane': 4228, 'mukand': 4229, 'marking': 4230, 'machining': 4231, 'surface': 4232, 'finishing': 4233, 'rayat': 4234, 'bahra': 4235, 'biotechnology': 4236, 'bhawana': 4237, 'aggarwal': 4238, 'bias': 4239, 'vector': 4240, 'unsupervised': 4241, 'reinforcement': 4242, 'google': 4243, 'laterally': 4244, 'reusability': 4245, '78': 4246, 'harnesses': 4247, 'artificial': 4248, 'cognitive': 4249, 'comprises': 4250, 'reasoning': 4251, 'entailed': 4252, 'monster': 4253, 'answered': 4254, 'alll1': 4255, 'nlu': 4256, 'classifications': 4257, 'predicting': 4258, 'mnb': 4259, 'bidirectional': 4260, 'whether': 4261, 'fruit': 4262, 'liabrary': 4263, 'matplolib': 4264, 'ountabilities': 4265, 'testability': 4266, 'liabray': 4267, 'tk': 4268, 'dyanamics': 4269, 'ver': 4270, 'btech': 4271, 'willingdon': 4272, 'martin': 4273, 'estimate': 4274, 'fs': 4275, 'ts': 4276, 'utp': 4277, 'ptf': 4278, 'a2': 4279, 'goethe': 4280, 'maples': 4281, 'rpgle': 4282, '6th': 4283, 'cache': 4284, 'memoization': 4285, 'pws': 4286, 'query400': 4287, 'subfiles': 4288, 'printer': 4289, 'defence': 4290, 'starter': 4291, 'bachelors': 4292, 'adoption': 4293, '06th': 4294, 'ul': 4295, 'petroleum': 4296, 'boiler': 4297, 'certifications': 4298, 'visualforce': 4299, 'streaming': 4300, 'steaming': 4301, 'drowsiness': 4302, 'detects': 4303, 'drowsy': 4304, 'condition': 4305, 'sanghavi': 4306, 'shree': 4307, 'mahavir': 4308, 'meri': 4309, 'psychology': 4310, 'malappuram': 4311, 'buildcon': 4312, 'exterior': 4313, 'apartments': 4314, 'villas': 4315, 'investigations': 4316, 'evaluated': 4317, 'supervisors': 4318, 'passionate': 4319, 'holder': 4320, 'scipy': 4321, 'mainly': 4322, 'missing': 4323, 'outlier': 4324, 'dimensionality': 4325, 'meta': 4326, 'optimistic': 4327, 'teamleader': 4328, 'visualizing': 4329, 'grip': 4330, 'loyal': 4331, 'compatible': 4332, 'amity': 4333, 'cohesive': 4334, 'entrepreneur': 4335, 'atharva': 4336, 'abb': 4337, 'acquired': 4338, 'technicalproficiencies': 4339, 'domains': 4340, 'headquarters': 4341, 'operates': 4342, 'investments': 4343, 'securities': 4344, 'bonds': 4345, 'fx': 4346, 'modelers': 4347, 'cfoc': 4348, 'infa': 4349, 'powercenter': 4350, 'jun': 4351, 'advertisement': 4352, 'courter': 4353, 'egc': 4354, 'suffice': 4355, 'belonging': 4356, 'rejection': 4357, 'cognos': 4358, 'mart': 4359, 'niche': 4360, 'casualty': 4361, 'documented': 4362, 'uploaded': 4363, 'combined': 4364, 'guru': 4365, 'nanak': 4366, 'emperor': 4367, 'cars': 4368, 'sportsmen': 4369, 'tournaments': 4370, 'gross': 4371, 'counterpart': 4372, 'workaround': 4373, 'prompt': 4374, 'delay': 4375, 'weather': 4376, 'suggested': 4377, 'visualize': 4378, 'weekends': 4379, 'bancs': 4380, 'los': 4381, 'credence': 4382, 'scd1': 4383, 'sever': 4384, 'preserving': 4385, 'sdk': 4386, 'wdeploy': 4387, 'separate': 4388, 'vintela': 4389, 'sso': 4390, 'clock': 4391, 'markup': 4392, 'glassfish': 4393, 'jharnet': 4394, 'elementary': 4395, 'addressing': 4396, 'lease': 4397, 'osi': 4398, 'customize': 4399, 'byte': 4400, 'doc': 4401, 'explore': 4402, 'litecoin': 4403, 'p2p': 4404, 'lavisa': 4405, 'manageable': 4406, 'adhar': 4407, 'dapp': 4408, 'corda': 4409, 'tendermint': 4410, 'specilaized': 4411, 'reactjs': 4412, 'angulareducation': 4413, 'blood': 4414, 'vidyashram': 4415, 'une': 4416, 'amway': 4417, 'bharti': 4418, 'scholar': 4419, 'tor': 4420, 'vergata': 4421, 'journal': 4422, 'ijar': 4423, '20656': 4424, 'reviewer': 4425, 'revolutionizing': 4426, 'ijsrd': 4427, 'maharastra': 4428, 'interns': 4429, 'drums': 4430, 'positron': 4431, 'equality': 4432, 'violence': 4433, 'know': 4434, 'sincere': 4435, 'essibility': 4436, 'briefings': 4437, 'advice': 4438, 'sns': 4439, 'oop': 4440, 'linq': 4441, 'kendo': 4442, 'politician': 4443, 'trainee': 4444, 'fees': 4445, 'marks': 4446, 'expiry': 4447, 'otherwise': 4448, 'ni': 4449, 'lux': 4450, 'poi': 4451, 'white': 4452, 'globalization': 4453, 'compatibility': 4454, 'stlc': 4455, 'retesting': 4456, 'ess2007': 4457, 'valuable': 4458, 'bcs': 4459, 'fromjspm': 4460, 'vidisha': 4461, 'leaning': 4462, 'nltk': 4463, 'cosine': 4464, 'python3': 4465, 'enthusiast': 4466, 'segmentation': 4467, 'powertech': 4468, 'dammam': 4469, 'saudi': 4470, 'approved': 4471, 'mmrda': 4472, 'chok': 4473, 'esd': 4474, 'employability': 4475, 'jscoe': 4476, 'sparkle': 4477, 'avishkar': 4478, 'sponsorship': 4479, 'platinum': 4480, 'enfield': 4481, 'rank': 4482, 'poster': 4483, 'ambulance': 4484, 'arduino': 4485, 'skncoe': 4486, 'competitions': 4487, 'pict': 4488, 'opencv': 4489, 'pil': 4490, 'andhra': 4491, 'utilising': 4492, 'ties': 4493, 'litigation': 4494, 'chess': 4495, 'rubik': 4496, 'cube': 4497, 'jspm': 4498, 'jayawantrao': 4499, 'sawant': 4500, 'productively': 4501, 'wallets': 4502, 'alterations': 4503, 'checked': 4504, 'bit': 4505, 'bucket': 4506, 'ins': 4507, 'drf': 4508, 'sqlite': 4509, 'managent': 4510, 'bamu': 4511, 'sqlit3': 4512, 'collectively': 4513, 'switched': 4514, 'example': 4515, 'templates': 4516, 'templating': 4517, 'navigation': 4518, 'pymysql': 4519, 'crud': 4520, 'routines': 4521, 'navigations': 4522, 'paginations': 4523, 'sqlalchemy': 4524, 'restfull': 4525, 'mvt': 4526, 'pursuing': 4527, 'anantrao': 4528, 'pawar': 4529, 'cybage': 4530, 'want': 4531, 'gain': 4532, 'saral': 4533, 'restructuring': 4534, 'starting': 4535, 'assuring': 4536, 'satisfactory': 4537, 'gratuity': 4538, 'manpower': 4539, 'sdnbvc': 4540, 'anything': 4541, 'swing': 4542, 'extc': 4543, 'vashi': 4544, 'fr': 4545, 'agnel': 4546, 'eligibility': 4547, 'enrollment': 4548, 'aggregator': 4549, 'normalizer': 4550, 'sorter': 4551, 'corresponding': 4552, 'figure': 4553, 'membership': 4554, 'kudos': 4555, 'values': 4556, 'kanban': 4557, 'extreme': 4558, 'fdd': 4559, 'modular': 4560, 'runner': 4561, 'bugzilla': 4562, 'tcp': 4563, 'https': 4564, '109': 4565, '69': 4566, 'discussed': 4567, 'explained': 4568, 'changing': 4569, 'published': 4570, 'epics': 4571, 'grooming': 4572, 'stand': 4573, 'retrospective': 4574, 'came': 4575, 'controlflash': 4576, 'comparetool': 4577, 'fda': 4578, 'initiating': 4579, 'guided': 4580, 'descriptive': 4581, 'scenario': 4582, 'hdfc': 4583, 'vistaar': 4584, 'referred': 4585, 'sanitary': 4586, 'v2002': 4587, 'centralized': 4588, 'super': 4589, 'datamites': 4590, 'manipulating': 4591, 'notifications': 4592, 'approaches': 4593, 'vessel': 4594, 'condenser': 4595, 'khadakwasla': 4596, 'laboratory': 4597, 'harbor': 4598, 'goa': 4599, 'bangladesh': 4600, 'maker': 4601, 'servo': 4602, 'axial': 4603, 'piston': 4604, 'cwprs': 4605, 'v5': 4606, 'proe': 4607, 'curricular': 4608, 'coordinator': 4609, 'readiness': 4610, 'atributes': 4611, 'restoring': 4612, 'interval': 4613, 'mould': 4614, 'alamuri': 4615, 'ratnamala': 4616, 'rajdevi': 4617, 'maharshtra': 4618, '1year': 4619, 'surya': 4620, 'wall': 4621, 'perhaps': 4622, 'ideally': 4623, 'rendering': 4624, 'easier': 4625, 'effortless': 4626, 'mortar': 4627, 'detais': 4628, 'gyandatt': 4629, 'chauhan': 4630, 'yashwantrao': 4631, 'chavan': 4632, 'hgs': 4633, '16th': 4634, 'retaing': 4635, 'casa': 4636, 'shopkeeper': 4637, 'signup': 4638, 'mahal': 4639, '04th': 4640, 'gegenerat': 4641, 'bunglows': 4642, 'plots': 4643, 'bookmyflat': 4644, 'springernature': 4645, 'akzonobel': 4646, 'convincing': 4647, 'dependability': 4648, 'taxing': 4649, 'demanding': 4650, 'reasonably': 4651, 'stretchable': 4652, 'slots': 4653, 'cooperatively': 4654, 'shope': 4655, 'telle': 4656, 'caller': 4657, 'finserv': 4658, 'square': 4659, 'ale': 4660, 'idoc': 4661, 'ewm': 4662, 'apo': 4663, '4hana': 4664, 'preferred': 4665, 'minimum': 4666, 'trend': 4667, 'interests': 4668, 'tournament': 4669, 'thee': 4670, 'volunteer': 4671, 'tricks': 4672, 'moledina': 4673, '104': 4674, 'f2': 4675, 'applauded': 4676, 'ranked': 4677, 'superior': 4678, 'honoree': 4679, 'thereby': 4680, 'discount': 4681, 'boards': 4682, 'started': 4683, 'proficiencies': 4684, 'fedora': 4685, 'cent': 4686, 'ryk': 4687, 'native': 4688, 'functionalities': 4689, 'planviz': 4690, 'sda': 4691, 'fujitsu': 4692, 'modifying': 4693, 'donald': 4694, 'golang': 4695, 'culturally': 4696, 'fit': 4697, 'microservices': 4698, 'consensuseducation': 4699, 'malaviya': 4700, 'kolhapur': 4701, 'tradefinex': 4702, 'registry': 4703, 'mh': 4704, 'infactor': 4705, 'factoring': 4706, 'erc': 4707, 'oro': 4708, 'orowealth': 4709, 'commision': 4710, 'mf': 4711, '22k': 4712, 'cakephp': 4713, 'passengers': 4714, 'customisation': 4715, 'endpoints': 4716, 'opencart': 4717, 'ka': 4718, 'birst': 4719, 'trial': 4720, 'smes': 4721, 'nallasopara': 4722, 'encharge': 4723, 'near': 4724, 'casting': 4725, 'concrete': 4726, 'verifying': 4727, 'throttle': 4728, 'race': 4729, 'stepcone': 4730, 'contest': 4731, 'gmr': 4732, 'instiute': 4733, 'maharashatra': 4734, 'evidence': 4735, 'trials': 4736, 'chandigarh': 4737, 'workbench': 4738, 'redshift': 4739, 'athena': 4740, 'kochi': 4741, 'francis': 4742, 'tjdbcconfiguration': 4743, 'tjdbcinput': 4744, 'thdfsconfiguration': 4745, 'ts3configuration': 4746, 'tcacheout': 4747, 'tcachein': 4748, 'tfileinputdelimited': 4749, 'tfileoutputdelimited': 4750, 'tjoin': 4751, 'treplicate': 4752, 'tparallelize': 4753, 'tconverttype': 4754, 'taggregate': 4755, 'tsortrow': 4756, 'tflowmeter': 4757, 'tlogcatcher': 4758, 'trowgenerator': 4759, 'tjava': 4760, 'tjavarow': 4761, 'taggregaterow': 4762, 'tfilter': 4763, 'naming': 4764, 'joblets': 4765, 'trunjob': 4766, 'pass': 4767, 'expressions': 4768, 'implicit': 4769, 'variables': 4770, 'counts': 4771, 'tparalleize': 4772, 'thread': 4773, 'subjobs': 4774, 'parallel': 4775, 'increases': 4776, 'tfilelist': 4777, 'ts3put': 4778, 'tftput': 4779, 'tfileexist': 4780, 'tftpconnection': 4781, 'flatfiles': 4782, 'variable': 4783, 'profound': 4784, 'pal': 4785, 'deloitte': 4786, 'usi': 4787, 'sentence': 4788, 'correction': 4789, 'fmcg': 4790, 'decomposition': 4791, 'bobj': 4792, 'rfm': 4793, 'closed': 4794, 'kpis': 4795, 'embedding': 4796, 'lda': 4797, 'nmf': 4798, 'visualizations': 4799, 'd3': 4800, 'tar': 4801, 'neutral': 4802, 'chatbot': 4803, 'preforming': 4804, 'investigative': 4805, 'syllabus': 4806, 'mscit': 4807, 'milling': 4808, 'honest': 4809, 'criculum': 4810, 'adani': 4811, 'suzuki': 4812, 'jet': 4813, 'airways': 4814, 'rd': 4815, 'seen': 4816, 'jsw': 4817, 'urja': 4818, 'assembly': 4819, 'disassembly': 4820, 'nd': 4821, 'punching': 4822, 'paddle': 4823, 'sugarcane': 4824, 'juicer': 4825, 'navshar': 4826, 'navnirman': 4827, 'festival': 4828, 'none': 4829, 'ray': 4830, 'glaxo': 4831, 'smith': 4832, 'kline': 4833, 'usd': 4834, 'effluent': 4835, 'method': 4836, 'certificates': 4837, 'observations': 4838, 'gulf': 4839, 'contracting': 4840, 'inspections': 4841, 'pertinent': 4842, 'dahej': 4843, 'importer': 4844, 'tons': 4845, 'mostly': 4846, 'tweets': 4847, 'rlt': 4848, 'kindo': 4849, 'satara': 4850, 'sec': 4851, 'ramesh': 4852, 'gaarment': 4853, 'tirupur': 4854, 'cgpa': 4855, 'pac': 4856, 'maximum': 4857, 'aditya': 4858, 'varying': 4859, 'decommissioning': 4860, 'requested': 4861, 'depth': 4862, 'acting': 4863, '9i': 4864, 'arrangements': 4865, 'forge': 4866, 'flexible': 4867, 'rms': 4868, 'explaining': 4869, 'typical': 4870, 'pg': 4871, '600': 4872, 'label': 4873, 'north': 4874, 'devising': 4875, 'cutover': 4876, 'drill': 4877, 'sizes': 4878, 'ooad': 4879, 'performs': 4880, 'gets': 4881, 'niit': 4882, 'amazon': 4883, 'soa': 4884, 'ssrs': 4885, 'manually': 4886, 'backgrounds': 4887, 'predefined': 4888, 'ao': 4889, 'introduced': 4890, 'phases': 4891, 'completing': 4892, 'repo': 4893, 'pharmaceuticals': 4894, 'chemicals': 4895, 'customization': 4896, 'assignments': 4897, 'tybcom': 4898, 'motilal': 4899, 'oswal': 4900, 'cag': 4901, 'derivative': 4902, 'macro': 4903, 'bd': 4904, 'investors': 4905, 'fss': 4906, 'depa': 4907, 'ment': 4908, 'custodians': 4909, 'percentage': 4910, 'angel': 4911, 'broking': 4912, 'manger': 4913, 'repots': 4914, 'remark': 4915, 'microsft': 4916, 'excell': 4917, 'navy': 4918, 'nuclear': 4919, 'biological': 4920, 'chemical': 4921, '04': 4922, 'highly': 4923, 'premier': 4924, 'biopharmaceutical': 4925, 'produces': 4926, 'va': 4927, 'ines': 4928, 'immunology': 4929, 'oncology': 4930, 'cardiology': 4931, 'endocrinology': 4932, 'neurology': 4933, 'pathways': 4934, 'journey': 4935, 'rare': 4936, 'cdh3': 4937, 'tb': 4938, 'nfs': 4939, 'nn': 4940, 'sparkapi': 4941, 'imported': 4942, 'bucketing': 4943, 'sparkcontext': 4944, 'orc': 4945, 'parquet': 4946, 'serialization': 4947, 'snappy': 4948, 'compression': 4949, 'showing': 4950, 'articulate': 4951, 'cca': 4952, '175': 4953, 'calm': 4954, 'spirit': 4955, 'cope': 4956, 'fluent': 4957, 'dep': 4958, 'prof': 4959, 'jawaleker': 4960, 'nangal': 4961, 'mandir': 4962, '74': 4963, 'osmoflo': 4964, 'overseas': 4965, 'australia': 4966, 'vivid': 4967, 'electromech': 4968, '20th': 4969, 'stabilizers': 4970, 'bust': 4971, 'stabilizer': 4972, 'authorised': 4973, 'ti': 4974, 'ador': 4975, 'welding': 4976, '17th': 4977, 'conversant': 4978, 'etap': 4979, 'csa': 4980, 'iecex': 4981, 'dfmea': 4982, 'bid': 4983, 'sat': 4984, 'yibal': 4985, 'oman': 4986, '6thmay': 4987, 'cfbc': 4988, 'turbine': 4989, 'routine': 4990, '132kv': 4991, 'ac': 4992, 'yard': 4993, 'cadd': 4994, 'jm': 4995, 'v11': 4996, 'v12': 4997, 'foundations': 4998, 'keen': 4999, 'solutionseducation': 5000, '210': 5001, 'campus': 5002, 'vj': 5003, 'pharmacy': 5004, 'personality': 5005, 'agricultural': 5006, 'hrs': 5007, 'elringklinger': 5008, 'automotives': 5009, 'kubler': 5010, 'chakan': 5011, 'finanza': 5012, 'pimple': 5013, 'saudagar': 5014, 'sharvari': 5015, 'junner': 5016, 'entrepreneurship': 5017, '168': 5018, 'narayangaon': 5019, '229': 5020, 'adjoining': 5021, 'fashion': 5022, 'november': 5023, 'hand': 5024, 'pipe': 5025, 'jhulelal': 5026, 'dayanand': 5027, 'kanya': 5028, 'december': 5029, 'medicinal': 5030, 'ailments': 5031, 'surgical': 5032, 'wholesalers': 5033, 'ordering': 5034, 'debtor': 5035, 'freelancers': 5036, 'oldest': 5037, 'fulfil': 5038, 'guwahati': 5039, 'gauhati': 5040, 'hindustan': 5041, 'mill': 5042, 'forums': 5043, 'ease': 5044, 'matched': 5045, 'relocate': 5046, 'vtu': 5047, 'vishweshwariya': 5048, 'mahavidyalay': 5049, 'kohlapur': 5050, 'greenfield': 5051, 'libs': 5052, 'braseries': 5053, 'burkena': 5054, 'faso': 5055, 'africa': 5056, 'citrus': 5057, 'carlsberg': 5058, 'myanmar': 5059, 'yangon': 5060, 'mysore': 5061, 'haldiram': 5062, 'tetra': 5063, 'pak': 5064, 'amreli': 5065, 'instrument': 5066, 'philosophy': 5067, 'trays': 5068, 'apfc': 5069, 'metering': 5070, 'pts': 5071, 'acbs': 5072, 'analog': 5073, 'floating': 5074, 'alignment': 5075, 'route': 5076, 'tray': 5077, 'danfoss': 5078, 'schnider': 5079, 'vacon': 5080, 's7': 5081, '1200': 5082, '1500': 5083, 'et': 5084, '200s': 5085, 'allen': 5086, 'bready': 5087, 'logix5000': 5088, 'modulating': 5089, 'solenoid': 5090, 'meter': 5091, 'sugars': 5092, 'erection': 5093, 'allied': 5094, 'overhauling': 5095, 'shunt': 5096, 'switchgears': 5097, 'vfds': 5098, 'dg': 5099, 'amf': 5100, 'acb': 5101, 'vcb': 5102, 'fcbc': 5103, 'microprocessor': 5104, 'numerical': 5105, 'vm': 5106, 'remove': 5107, 'mphasis': 5108, 'ag': 5109, 'mirror': 5110, 'mastek': 5111, 'hudson': 5112, 'xcode': 5113, 'sierra': 5114, 'goregaon': 5115, 'vidyalankar': 5116, 'john': 5117, 'formatter': 5118, 'gmf': 5119, 'reads': 5120, 'encapsulation': 5121, 'tlv': 5122, 'validations': 5123, 'cosmoss': 5124, 'ejbs': 5125, 'facing': 5126, 'looking': 5127, 'progressive': 5128, 'packet': 5129, 'tracer': 5130, 'overcome': 5131, 'shoulder': 5132, 'algo': 5133, 'farming': 5134, 'prakshal': 5135, 'oxygen': 5136, 'sonarqube': 5137, 'responsibilitis': 5138, 'adavance': 5139, 'multicultural': 5140, 'continued': 5141, 'revoking': 5142, 'weekend': 5143, 'skillseducation': 5144, '1997': 5145, '1996': 5146, 'teresa': 5147, 'convent': 5148, 'theatre': 5149, 'conception': 5150, 'deputy': 5151, 'compelling': 5152, 'convey': 5153, 'charles': 5154, 'wallace': 5155, 'entrepreneurs': 5156, 'chevening': 5157, 'clore': 5158, 'scholarship': 5159, 'shortlisting': 5160, 'fellowships': 5161, 'geographic': 5162, 'officials': 5163, 'partnership': 5164, 'continents': 5165, 'connecting': 5166, 'cultures': 5167, 'bc': 5168, 'ambitious': 5169, 'strengthening': 5170, 'colleagues': 5171, 'longer': 5172, 'performers': 5173, 'artists': 5174, 'performances': 5175, 'authorities': 5176, 'film': 5177, 'outreach': 5178, 'aircheck': 5179, 'intended': 5180, 'metros': 5181, 'pitching': 5182, 'commissions': 5183, 'reporters': 5184, 'mixing': 5185, 'vegas': 5186, 'acid': 5187, 'midi': 5188, 'definitive': 5189, 'continent': 5190, 'surrounds': 5191, 'exclusive': 5192, 'sensibility': 5193, 'editorial': 5194, 'publishing': 5195, 'covers': 5196, 'genre': 5197, 'perspectives': 5198, 'photographers': 5199, 'freelance': 5200, 'writers': 5201, 'storming': 5202, 'decide': 5203, 'primarily': 5204, 'banyan': 5205, 'french': 5206, 'embassy': 5207, 'dues': 5208, 'mortgage': 5209, '07education': 5210, 'artist': 5211, 'atd': 5212, 'bfa': 5213, 'mfa': 5214, 'rangoli': 5215, 'summer': 5216, 'disability': 5217, 'orthopedically': 5218, 'much': 5219, 'sultan': 5220, 'rachana': 5221, 'sansad': 5222, 'deign': 5223, 'jungle': 5224, 'cubs': 5225, 'center8': 5226, 'intellij': 5227, '11geducation': 5228, 'avail': 5229, 'spending': 5230, 'ranges': 5231, 'analyes': 5232, 'regulators': 5233, 'analyses': 5234, 'retrieve': 5235, 'terabytes': 5236, 'trun': 5237, 'vistor': 5238, 'crawl': 5239, 'tabular': 5240, 'oracle11g': 5241, 'etrack': 5242, 'tsp': 5243, 'sadms': 5244, 'gfs': 5245, 'gdo': 5246, 'goes': 5247, 'slows': 5248, 'replace': 5249, 'extracts': 5250, 'upstream': 5251, 'epecs': 5252, 'cdss': 5253, 'rcm': 5254, 'prc': 5255, 'edh': 5256, 'dimensional': 5257, 'aggregators': 5258, 'sorters': 5259, 'dependencies': 5260, 'sk': 5261, 'mapplet': 5262, 'populate': 5263, 'worklets': 5264, 'utc': 5265, 'type1': 5266, 'type2': 5267, 'cdc': 5268, 'jijayi': 5269, 'heights': 5270, '118': 5271, 'narhe': 5272, 'chowki': 5273, '411041': 5274, 'osmania': 5275, 'ghs': 5276, 'bhuli': 5277, 'enigma': 5278, 'opening': 5279, 'settlement': 5280, 'pjlce': 5281, 'conflict': 5282, 'ware': 5283, 'becomes': 5284, 'zookeeper': 5285, 'latin': 5286, 'principles': 5287, 'affect': 5288, 'tpt': 5289, 'partitions': 5290, 'launching': 5291, 'websphere': 5292, 'v8': 5293, 'discover': 5294, 'hiveql': 5295, 'partitioning': 5296, 'de': 5297, 'normalized': 5298, 'avro': 5299, 'standardizations': 5300, 'orchestrate': 5301, 'jdk': 5302, 'haryana': 5303, 'cometchat': 5304, 'spent': 5305, 'jabalpur': 5306, 'takshshila': 5307, 'wab': 5308, 'softwere': 5309, 'exceleducation': 5310, 'manoharbhai': 5311, 'patel': 5312, 'resrent': 5313, 'portfolios': 5314, 'hit': 5315, 'interfaces': 5316, 'ucs': 5317, 'debug': 5318, 'effect': 5319, 'multifunctional': 5320, 'programmers': 5321, 'scheme': 5322, 'camp': 5323, 'sponsored': 5324, 'youth': 5325, 'affairs': 5326, '201': 5327, 'faithfully': 5328, 'pia': 5329, 'jetalal': 5330, 'hiralal': 5331, 'gorbanjara': 5332, 'political': 5333, 'sci': 5334, 'bahadarpur': 5335, 'tai': 5336, 'fluency': 5337, 'relationeducation': 5338, 'rivzi': 5339, 'allana': 5340, 'canossa': 5341, 'interdependencies': 5342, 'derivable': 5343, 'commversion': 5344, 'trimax': 5345, 'problematic': 5346, 'myisam': 5347, 'innodb': 5348, 'shifting': 5349, 'parameter': 5350, 'purging': 5351, 'xtrabackup': 5352, 'cpu': 5353, 'psu': 5354, 'disks': 5355, 'sync': 5356, 'lagging': 5357, 'archives': 5358, 'migrations': 5359, 'brose': 5360, 'rent': 5361, '625': 5362, 'diesel': 5363, 'provision': 5364, 'interlocking': 5365, 'vacuum': 5366, '5000': 5367, '2000a': 5368, 'wtp': 5369, 'blower': 5370, 'eot': 5371, 'crane': 5372, 'mono': 5373, 'rail': 5374, 'centrifugal': 5375, 'pumps': 5376, 'rolling': 5377, 'lath': 5378, 'ahu': 5379, 'chiller': 5380, 'charger': 5381, '450': 5382, '110v': 5383, 'resetting': 5384, 'factor': 5385, '55': 5386, 'submersible': 5387, 'auxiliary': 5388, 'effecting': 5389, 'uptime': 5390, '33': 5391, '22kv': 5392, 'feeder': 5393, '11kv': 5394, 'maint': 5395, 'aspect': 5396, 'familiar': 5397, 'lockout': 5398, 'permit': 5399, 'protective': 5400, 'ident': 5401, 'citrix': 5402, 'v9': 5403, 'artifact': 5404, 'vlsi': 5405, '75': 5406, 'frds': 5407, 'walkthrough': 5408, 'assess': 5409, 'importers': 5410, 'exporters': 5411, 'scoring': 5412, 'assessed': 5413, 'certain': 5414, 'brds': 5415, 'fsds': 5416, 'bureau': 5417, 'discontinued': 5418, 'schenker': 5419, 'impart': 5420, 'mwb': 5421, 'legs': 5422, 'leg': 5423, 'omplish': 5424, 'ethical': 5425, 'medi': 5426, 'caps': 5427, 'division': 5428, 'injecting': 5429, 'govern': 5430, 'increasing': 5431, 'sends': 5432, 'ingest': 5433, 'server2': 5434, 'serde': 5435, 'wm': 5436, 'tws': 5437, 'authentic': 5438, 'morgan': 5439, 'stanley': 5440, 'absa': 5441, 'wmdatalake': 5442, 'become': 5443, 'optimising': 5444, 'pso': 5445, 'punctual': 5446, 'respectfulness': 5447, 'true': 5448, 'sciene': 5449, 'amaravti': 5450, 'sprinng': 5451, 'rose': 5452, 'weka': 5453, 'hat': 5454, 'msbte': 5455, 'dnyanganaga': 5456, 'takali': 5457, 'kerberos': 5458, 'securing': 5459, 'dxc': 5460, 'hpe': 5461, 'emr': 5462, 'hdinsight': 5463, 'bent': 5464, 'mind': 5465, 'unlearn': 5466, 'relearn': 5467, 'surely': 5468, 'handy': 5469, 'bizagi': 5470, 'indigo': 5471, 'waterfall': 5472, 'thadomal': 5473, 'shahani': 5474, 'bbh': 5475, 'brown': 5476, 'brothers': 5477, 'harriman': 5478, 'merger': 5479, 'advisory': 5480, 'custody': 5481, 'financing': 5482, 'describes': 5483, 'aht': 5484, 'calculated': 5485, 'calculating': 5486, 'complexity': 5487, 'considered': 5488, 'licenses': 5489, 'converted': 5490, 'constructing': 5491, 'toward': 5492, 'eptable': 5493, 'fadv': 5494, 'delivers': 5495, 'screenings': 5496, 'flagging': 5497, 'aging': 5498, 'ar': 5499, 'rebill': 5500, 'formal': 5501, 'approvers': 5502, 'translating': 5503, 'collaborating': 5504, 'fulfill': 5505, 'initiation': 5506, 'expected': 5507, 'pat': 5508, 'representations': 5509, 'baseline': 5510, 'eduavenir': 5511, 'procured': 5512, 'sold': 5513, 'returned': 5514, 'invoicesalong': 5515, 'withcustomized': 5516, 'managescustomer': 5517, 'complaint': 5518, 'forecastingis': 5519, 'pod': 5520, 'stay': 5521, 'conjunction': 5522, 'designers': 5523, 'nuances': 5524, 'finally': 5525, 'movement': 5526, 'golive': 5527, 'requires': 5528, 'eliciting': 5529, 'dependency': 5530, 'humana': 5531, 'supplying': 5532, 'citizens': 5533, 'citizen': 5534, 'drug': 5535, 'choose': 5536, 'infrasoft': 5537, 'detector': 5538, 'deduplication': 5539, 'pointers': 5540, 'oot': 5541, 'pps': 5542, 'ias': 5543, 'cipher': 5544, 'dated': 5545, 'oem': 5546, 'ec': 5547, 'hydrocarbon': 5548, 'dbca': 5549, 'ash': 5550, 'renaming': 5551, 'resizing': 5552, 'shrinking': 5553, 'netmgr': 5554, 'netca': 5555, 'redo': 5556, 'infiniteworx': 5557, 'omnichannel': 5558, 'diagnose': 5559, 'deletion': 5560, 'entries': 5561, '2021': 5562, 'entermediate': 5563, 'sunbeam': 5564, 'samne': 5565, 'ghat': 5566, 'varanasi': 5567, 'dan': 5568, 'represented': 5569, 'croatia': 5570, 'mansa': 5571, 'joint': 5572, 'rplus': 5573, 'uses': 5574, 'sentiments': 5575, 'derive': 5576, 'identifies': 5577, 'hordes': 5578, 'selects': 5579, 'datasets': 5580, 'slipstream': 5581, 'grant': 5582, 'archive': 5583, 'smsql': 5584, 'tectia': 5585, 'notebool': 5586, 'unixeducation': 5587, 'dbs': 5588, 'srm': 5589, 'technosoft': 5590, 'citibank': 5591, 'aml': 5592, 'tm': 5593, 'icg': 5594, 'responesbilities': 5595, 'layered': 5596, 'workspace': 5597, 'suspicious': 5598, 'fraudulent': 5599, 'ran': 5600, 'horton': 5601, 'hdp2': 5602, 'alcatel': 5603, 'lucent': 5604, '1x': 5605, 'ruckus': 5606, 'wireless': 5607, 'mediation': 5608, 'oms': 5609, 'rf': 5610, 'boost': 5611, 'framwe': 5612, '56': 5613, 'oim': 5614, 'oam': 5615, 'ohs': 5616, '99': 5617, 'passive': 5618, 'contributed': 5619, 'crontab': 5620, 'atom': 5621, 'unanth': 5622, 'solo': 5623, 'uom': 5624, 'reason': 5625, 'dinman': 5626, 'displaying': 5627, 'agri': 5628, 'vegetables': 5629, 'assignment': 5630, 'newspapers': 5631, 'subscriptions': 5632, 'light': 5633, 'advertisements': 5634, 'facebook': 5635, 'fino': 5636, 'oops': 5637, '0education': 5638, 'vidyabharati': 5639, 'winsol': 5640, 'sawitribai': 5641, 'ides': 5642, 'trimurti': 5643, 'realestate': 5644, 'vimay': 5645, '58': 5646, '11gr2': 5647, 'silent': 5648, 'undo': 5649, 'marketplace': 5650, 'emc': 5651, 'transactional': 5652, 'gradation': 5653, 'datafiles': 5654, 'restoration': 5655, 'ebs': 5656, 'numerous': 5657, 'splat': 5658, 'csm': 5659, 'panorama': 5660, 'balancer': 5661, 'rsaenvision': 5662, 'bmc': 5663, 'scriptingeducation': 5664, '89': 5665, '5500': 5666, 'pools': 5667, 'offloading': 5668, 'renewals': 5669, 'pulse': 5670, 'realm': 5671, 'hld': 5672, 'lld': 5673, 'resiliency': 5674, 'lockdown': 5675, 'r75': 5676, 'r77': 5677, 'belongs': 5678, '29xx': 5679, '28xx': 5680, '19xx': 5681, '3560': 5682, 'dealt': 5683, 'moitoring': 5684, 'envision': 5685, 'siem': 5686, 'false': 5687, 'positives': 5688, 'malicious': 5689, 'qualis': 5690, 'correlation': 5691, 'parsers': 5692, 'uds': 5693, 'unsupported': 5694, 'consisting': 5695, '3845': 5696, '3750e': 5697, 'chassis': 5698, '5550': 5699, 'sa': 5700, '6500': 5701, 'entrust': 5702, '2fa': 5703, 'filling': 5704, 'acquisition': 5705, 'assam': 5706, 'adapt': 5707, 'enjoy': 5708, 'seamless': 5709, 'schools': 5710, 'mcm': 5711, 'ultimate': 5712, 'tripod': 5713, 'arena': 5714, 'considering': 5715, 'recruiting': 5716, 'rotas': 5717, 'retaining': 5718, 'emergencies': 5719, 'often': 5720, 'cashing': 5721, 'supplements': 5722, 'exciting': 5723, 'grouper': 5724, 'projections': 5725, 'legislation': 5726, 'endurance': 5727, 'interview': 5728, 'smt': 5729, 'vhd': 5730, 'homescience': 5731, 'sas': 5732, 'subscribers': 5733, 'healthier': 5734, 'karma': 5735, 'innovations': 5736, 'jointly': 5737, 'campaign': 5738, 'glaxosmithkline': 5739, 'camps': 5740, 'practicing': 5741, 'gynaecologists': 5742, 'allotted': 5743, 'conveying': 5744, 'importance': 5745, 'nutrient': 5746, 'contain': 5747, 'nutrients': 5748, 'checkups': 5749, '800': 5750, 'cities': 5751, '3000': 5752, 'leaders': 5753, 'looks': 5754, 'medicals': 5755, 'whose': 5756, 'regulation': 5757, 'irda': 5758, 'mnyl': 5759, 'iinsurance': 5760, 'baxa': 5761, 'metlife': 5762, 'canara': 5763, 'deferrals': 5764, 'professionalism': 5765, 'vlcc': 5766, 'instructions': 5767, 'eating': 5768, 'distributors': 5769, 'slimming': 5770, 'certainly': 5771, 'polite': 5772, 'careful': 5773, 'considerate': 5774, 'thrive': 5775, 'enthusiasm': 5776, 'creativity': 5777, 'uncover': 5778, 'tenacious': 5779, 'akbar': 5780, 'peerbhoy': 5781, 'comm': 5782, 'janta': 5783, 'karvy': 5784, 'innotech': 5785, 'diagnostics': 5786, 'wi': 5787, 'administer': 5788, 'url': 5789, 'appliances': 5790, 'isps': 5791, 'sify': 5792, 'tikona': 5793, 'ho': 5794, 'crimping': 5795, 'mounting': 5796, 'ciso': 5797, '9yrs': 5798, 'contribute': 5799, 'lectureship': 5800, 'served': 5801, 'sufficiently': 5802, 'busy': 5803, 'startups': 5804, 'clubs': 5805, 'articles': 5806, 'volunteering': 5807, 'asking': 5808, 'diplomatically': 5809, 'seema': 5810, 'ansalon': 5811, 'massage': 5812, 'scalp': 5813, 'swedish': 5814, 'reflexology': 5815, 'aromatherapy': 5816, 'aerobics': 5817, 'radio': 5818, 'bhavan': 5819, 'slender': 5820, 'raymond': 5821, 'aroma': 5822, 'rudraaksh': 5823, 'plaza': 5824, 'windsor': 5825, 'holiday': 5826, 'inn': 5827, 'juhu': 5828, 'aromathai': 5829, 'khana': 5830, 'imitation': 5831, 'jewellery': 5832, 'beverage': 5833, 'intervlan': 5834, 'ripv2': 5835, 'ripng': 5836, 'acl': 5837, 'vtp': 5838, 'ehterchannel': 5839, 'hsrp': 5840, 'ipv6': 5841, '1800s': 5842, '1900s': 5843, '2600s': 5844, '3600s': 5845, '3800s': 5846, '7200s': 5847, '3700s': 5848, '4850s': 5849, 'proliant': 5850, 'lenovo': 5851, 'modem': 5852, 'rodc': 5853, 'wds': 5854, 'ris': 5855, 'virtualisation': 5856, 'esxi': 5857, 'workstation': 5858, 'virtualbox': 5859, 'gns3': 5860, 'simulator': 5861, 'aisect': 5862, 'jiwaji': 5863, 'railwire': 5864, 'railtel': 5865, 'trenching': 5866, 'handing': 5867, 'bali': 5868, 'pali': 5869, 'dpmcu': 5870, 'milknet': 5871, 'ems': 5872, 'qms': 5873, 'scindia': 5874, 'fort': 5875, 'gwalior': 5876, 'teva': 5877, 'bhind': 5878, 'endpoint': 5879, 'unicenter': 5880, 'outlook': 5881, 'token': 5882, 'desktops': 5883, 'laptops': 5884, 'differential': 5885, 'corrupted': 5886, 'deleted': 5887, 'identally': 5888, 'nava': 5889, 'helpdesk': 5890, 'erp9': 5891, 'netscreen': 5892, 'fwsm': 5893, 'familiarity': 5894, 'zenoss': 5895, 'solarwinds': 5896, '1800': 5897, '1900': 5898, '2500': 5899, '2600': 5900, '2800': 5901, 'nexus': 5902, '5k': 5903, '7k': 5904, '3750': 5905, 'bluecoat': 5906, 'sinhgad': 5907, 'boys': 5908, 'loadbalncing': 5909, 'undergo': 5910, 'caab': 5911, 'downgrade': 5912, 'decommission': 5913, 'l3vpn': 5914, 'debt': 5915, 'malaysia': 5916, 'conversion': 5917, 'mediums': 5918, 'ipv4': 5919, 'reconnaissance': 5920, 'ccnp': 5921, 'spanning': 5922, 'queuing': 5923, 'penultimate': 5924, 'ntp': 5925, 'netflow': 5926, 'fundamental': 5927, 'limit': 5928, 'damages': 5929, 'heating': 5930, 'watering': 5931, 'enginner': 5932, 'access': 5933, 'dm': 5934, 'failovers': 5935, 'stormfur': 5936, 'stromfur': 5937, 'vb6': 5938, 'physiology': 5939, 'fl': 5940, 'florida': 5941, 'microbiology': 5942, 'abasaheb': 5943, 'garware': 5944, 'cardiovascular': 5945, 'cycling': 5946, 'ommodating': 5947, 'age': 5948, 'ompanying': 5949, 'metabolic': 5950, 'hypertension': 5951, 'obesity': 5952, 'indicators': 5953, 'comprising': 5954, 'continuity': 5955, 'representatives': 5956, 'comparative': 5957, '1992': 5958, 'micheal': 5959, 'level3': 5960, 'flora': 5961, 'heart': 5962, 'saver': 5963, 'reps': 5964, 'commensurate': 5965, 'phioenix': 5966, 'microsystem': 5967, 'enter': 5968, 'week': 5969, 'jboss': 5970, 'retailer': 5971, 'registered': 5972, 'ddsm': 5973, 'zz': 5974, 'ireport': 5975, 'chd': 5976, '09876971076': 5977, 'vversatile': 5978, 'targeting': 5979, 'netbeans': 5980, 'notebooks': 5981, 'ug': 5982, 'schooling': 5983, 'xii': 5984, 'moti': 5985, 'ram': 5986, 'valley': 5987, 'experince': 5988, 'suffering': 5989, 'third': 5990, 'prize': 5991, 'ifications': 5992, 'coursera': 5993, 'tirlok': 5994, 'yyyy': 5995, 'dd': 5996, 'formulating': 5997, 'specialization': 5998, 'behaviour': 5999, 'calicut': 6000, 'thrissur': 6001, 'prajyoti': 6002, 'foster': 6003, 'breads': 6004, 'kinfra': 6005, 'santhwana': 6006, 'psychotherapy': 6007, 'cochin': 6008, 'counsellor': 6009, 'tubro': 6010, 'inplant': 6011, 'ashoka': 6012, 'decor': 6013, 'girija': 6014, 'devolopers': 6015, 'outfit': 6016, 'photographs': 6017, 'maps': 6018, 'continual': 6019, 'practicality': 6020, 'adjust': 6021, 'budgetary': 6022, 'cohesion': 6023, 'fluidity': 6024, 'inspect': 6025, 'sonia': 6026, 'renovation': 6027, 'malls': 6028, 'compiling': 6029, 'tendering': 6030, 'complies': 6031, 'sustainability': 6032, 'grandeurs': 6033, 'realetors': 6034, 'materails': 6035, 'labours': 6036, 'regulated': 6037, 'subcontractor': 6038, 'equipement': 6039, 'cheack': 6040, 'progrees': 6041, 'devolopment': 6042, 'adviser': 6043, 'craftspeople': 6044, 'operatives': 6045, 'planners': 6046, 'surveyors': 6047, '2d': 6048, '3deducation': 6049, 'talreja': 6050, 'hoping': 6051, 'thanks': 6052, 'apeksha': 6053, 'naharkar': 6054, 'uit': 6055, 'statsmodels': 6056, 'ml': 6057, 'dummies': 6058, 'enthusiasts': 6059, 'koramangala': 6060, '5th': 6061, 'behind': 6062, 'sukh': 6063, 'sagar': 6064, 'encoding': 6065, 'linkedin': 6066, 'rathore': 6067, 'b4600b146': 6068, 'reasearch': 6069, 'arima': 6070, 'sarimax': 6071, 'holt': 6072, 'winter': 6073, 'prophet': 6074, 'rathorology': 6075, 'mixed': 6076, 'barc': 6077, 'motion': 6078, 'daigram': 6079, 'graduation': 6080, 'ifix': 6081, 'jagiroad': 6082, 'tribunals': 6083, 'bodies': 6084, 'forum': 6085, 'judge': 6086, 'nagaon': 6087, 'udt': 6088, 'sqleducation': 6089, 'suisse': 6090, 'swiss': 6091, 'pruning': 6092, 'tct': 6093, 'xi': 6094, 'sp6': 6095, 'tab': 6096, 'avoid': 6097, 'catalogue': 6098, 'warner': 6099, 'bros': 6100, 'marvin': 6101, 'pictures': 6102, 'hpsm': 6103, 'dvd': 6104, 'comic': 6105, 'pointing': 6106, 'messages': 6107, 'seek': 6108, 'investigation': 6109, 'tracks': 6110, 'criteria': 6111, 'precise': 6112, 'blocks': 6113, 'formatting': 6114, 'mat': 6115, 'dairy': 6116, 'panvel': 6117, 'ryan': 6118, 'bp': 6119, 'bottlenecks': 6120, 'langages': 6121, 'posse': 6122, 'adichunchanagiri': 6123, 'chikmagalur': 6124, 'truly': 6125, 'jayashree': 6126, 'typewriting': 6127, 'tora': 6128, 'spsseducation': 6129, 'chidambaram': 6130, 'sav': 6131, 'sslc': 6132, 'kamaraj': 6133, 'matriculation': 6134, 'ado': 6135, 'mozilla': 6136, 'firefox10': 6137, 'biography': 6138, 'gallery': 6139, 'contactus': 6140, 'hms': 6141, 'conceivable': 6142, 'importantly': 6143, 'backed': 6144, 'dependable': 6145, 'multispecialty': 6146, 'cover': 6147, 'bess': 6148, 'sms': 6149, 'exams': 6150, 'calendar': 6151, 'parents': 6152, 'paperless': 6153, 'today': 6154, 'uhs': 6155, 'cmus': 6156, 'overdrafts': 6157, 'sblc': 6158, 'fg': 6159, 'cheques': 6160, 'nbf': 6161, 'cb': 6162, 'davv': 6163, 'cognizant': 6164, 'grasp': 6165, 'truba': 6166, 'rkdf': 6167, 'sati': 6168, 'thesis': 6169, 'bmch': 6170, 'ganj': 6171, 'basoda': 6172, 'rnt': 6173, 'recurrent': 6174, 'matplotliv': 6175, 'tf': 6176, 'idf': 6177, 'lsa': 6178, 'soup': 6179, 'q': 6180, 'aeronautics': 6181, 'satish': 6182, 'hangar': 6183, 'mirage': 6184, 'fighter': 6185, 'aircraft': 6186, 'labview': 6187, 'webframework': 6188, 'ltspice': 6189, 'mipower': 6190, 'gitbash': 6191, 'notebook': 6192, 'interpreters': 6193, 'python2': 6194, 'pycharm': 6195, 'debian': 6196, 'kali': 6197, 'deeksha': 6198, 'little': 6199, 'flower': 6200, 'mathematics': 6201, 'themathcompany': 6202, 'casino': 6203, 'operator': 6204, 'disclosed': 6205, 'macau': 6206, 'segment': 6207, 'patrons': 6208, 'prove': 6209, 'henceforth': 6210, 'valid': 6211, '2006education': 6212, 'oxford': 6213, 'banglore': 6214, 'nabinagar': 6215, 'bihar': 6216, 'ntpc': 6217, 'brbcl': 6218, 'stc': 6219, 'qatif': 6220, '2065864': 6221, 'arif': 6222, 'kinfolk': 6223, 'king': 6224, 'fahad': 6225, 'airport': 6226, 'dar': 6227, 'hadassah': 6228, 'dpf': 6229, 'eleven': 6230, 'arabian': 6231, 'army': 6232, 'ommodation': 6233, 'arabia': 6234, 'foremen': 6235, 'subsequently': 6236, 'rfi': 6237, 'realizing': 6238, 'ducting': 6239, 'chilled': 6240, 'fittings': 6241, 'insulation': 6242, 'padke': 6243, 'pba': 6244, 'tipu': 6245, 'santnamdev': 6246, 'jammu': 6247, 'takeoff': 6248, 'plumbing': 6249, 'paintha': 6250, 'chock': 6251, 'paripora': 6252, 'nagar': 6253, 'angular1': 6254, 'typescript': 6255, 'kakinada': 6256, 'knockout': 6257, 'consuming': 6258, 'alternative': 6259, 'cooperation': 6260, 'tiebar': 6261, 'destination': 6262, 'luxury': 6263, 'menswear': 6264, 'premium': 6265, 'dress': 6266, 'shirts': 6267, 'bow': 6268, 'second': 6269, 'spots': 6270, 'tourists': 6271, 'tourist': 6272, 'hamsa': 6273, 'hitech': 6274, 'switzerland': 6275, 'norway': 6276, 'relation': 6277, 'appointment': 6278, 'llm': 6279, 'pivot': 6280, 'applicationseducation': 6281, 'queen': 6282, 'margaret': 6283, 'edinburg': 6284, 'atri': 6285, 'checklists': 6286, 'leaves': 6287, 'salaries': 6288, 'esic': 6289, 'deduction': 6290, '24q': 6291, 'topics': 6292, 'shops': 6293, 'establishments': 6294, '1972': 6295, 'naukri': 6296, 'preliminary': 6297, 'orientation': 6298, 'facilitation': 6299, 'pms': 6300, 'disbursement': 6301, 'kra': 6302, 'welfare': 6303, 'celebration': 6304, 'diwali': 6305, 'dhamaka': 6306, 'offsite': 6307, 'md': 6308, 'offering': 6309, 'reimbursement': 6310, 'resigned': 6311, 'baramati': 6312, 'highschool': 6313, 'singhad': 6314, 'vasundhara': 6315, 'nirmiti': 6316, 'balaji': 6317, 'ganesh': 6318, 'ymcaust': 6319, 'faridabad': 6320, 'itechpower': 6321, 'lean': 6322, 'ratnagiri': 6323, 'vba': 6324, 'authorizations': 6325, 'su53': 6326, 'grc': 6327, 'adaptable': 6328, 'keys': 6329, 'iabac': 6330, 'versatile': 6331, 'advocator': 6332, 'augmented': 6333, 'fahed': 6334, 'mohali': 6335, 'indo': 6336, 'querying': 6337, 'cleaning': 6338, 'heretic': 6339, 'cleansing': 6340, 'conclusions': 6341, 'inscripts': 6342, 'contains': 6343, 'representation': 6344, 'imcost': 6345, 'menon': 6346, 'springer': 6347, 'smartforms': 6348, 'lenm': 6349, 'netherland': 6350, 'dsp': 6351, 'dsm': 6352, 'sinochem': 6353, 'paints': 6354, 'coatings': 6355, 'producer': 6356, 'monorail': 6357, 'ghatkesar': 6358, 'aurora': 6359, 'scientific': 6360, 'warangal': 6361, 'ambedkar': 6362, 's4hana': 6363, 'edi': 6364, 'extensibility': 6365, 'varies': 6366, 'prince2': 6367, 'practitioner': 6368, 'implementations': 6369, 'america': 6370, 'fricew': 6371, 'ps': 6372, 'qm': 6373, 'solman': 6374, 'gts': 6375, 'vistex': 6376, 'proship': 6377, 'managenow': 6378, 'loftware': 6379, 'pocs': 6380, 'roll': 6381, 'ecc6': 6382, 'unicode': 6383, 'complicated': 6384, 'estimations': 6385, 'operative': 6386, 'deed': 6387, 'disputes': 6388, 'sepsoft': 6389, '24th': 6390, 'reservoir': 6391, 'characterization': 6392, 'drilling': 6393, 'dry': 6394, 'runs': 6395, 'currency': 6396, 'conversions': 6397, 'ecuador': 6398, 'hpalm': 6399, 'charm': 6400, 'solmon': 6401, 'aero': 6402, 'slt': 6403, 'landscape': 6404, 'solved': 6405, 'exiting': 6406, 'july2013to': 6407, 'june2014': 6408, 'folder': 6409, 'ecc': 6410, 'logon': 6411, 'detailexperiences': 6412, 'alia': 6413, 'yashwant': 6414, 'orichids': 6415, '400097': 6416, 'indiaeducation': 6417, 'marol': 6418, 'depot': 6419, '400093': 6420, 'nova': 6421, '301': 6422, 'maha': 6423, 'muweilah': 6424, 'alfalah': 6425, 'excavation': 6426, 'waterproofing': 6427, 'rcc': 6428, 'shuttering': 6429, 'masonry': 6430, 'brick': 6431, 'tile': 6432, 'minor': 6433, 'slabs': 6434, 'requisition': 6435, 'ground': 6436, 'verify': 6437, 'sincerity': 6438, 'capability': 6439, '5m': 6440, 'minutes': 6441, 'thank': 6442, 'viewing': 6443, 'kherwadi': 6444, '400051': 6445, 'radha': 6446, 'dadar': 6447, 'hindu': 6448, 'colony': 6449, '400014': 6450, 'lodha': 6451, 'eternis': 6452, 'estado': 6453, 'dibrugarh': 6454, 'ssis': 6455, 'spearheading': 6456, 'intra': 6457, 'injury': 6458, 'death': 6459, 'former': 6460, 'without': 6461, 'highlight': 6462, 'drills': 6463, 'lumira': 6464, 'pgdm': 6465, 'great': 6466, 'lakes': 6467, 'illinois': 6468, 'horizon': 6469, 'visvesvaraya': 6470, 'historic': 6471, 'geographies': 6472, 'infer': 6473, 'blockades': 6474, 'handwriting': 6475, 'handwritten': 6476, 'enough': 6477, 'argus': 6478, 'lot': 6479, 'consumption': 6480, 'flowers': 6481, 'cbp': 6482, 'segmented': 6483, 'categorize': 6484, 'buckets': 6485, 'anaconda3': 6486, 'classify': 6487, 'enabled': 6488, 'ipa': 6489, 'spearheaded': 6490, 'reuse': 6491, 'took': 6492, 'ownership': 6493, 'elerator': 6494, 'atas': 6495, 'apart': 6496, 'clarified': 6497, 'normalization': 6498, 'trees': 6499, 'boosting': 6500, 'pca': 6501, 'nets': 6502, 'elasticsearch': 6503, 'plotly': 6504, 'ggplot': 6505, 'logstash': 6506, 'kafka': 6507, 'dispute': 6508, 'elerating': 6509, 'discovery': 6510, 'implements': 6511, 'resulting': 6512, 'lawyers': 6513, 'outputs': 6514, 'precision': 6515, 'ey': 6516, 'flags': 6517, 'tfidf': 6518, 'word2vec': 6519, 'doc2vec': 6520, 'vader': 6521, 'blob': 6522, 'matplot': 6523, 'lib': 6524, 'plotted': 6525, 'reservation': 6526, 'serves': 6527, 'recommendation': 6528, 'asks': 6529, 'spacy': 6530, 'synthesizes': 6531, 'facilitates': 6532, 'positioned': 6533, 'counter': 6534, 'parse': 6535, 'rot': 6536, 'outdated': 6537, 'trivial': 6538, 'pii': 6539, 'identifiable': 6540, 'addresses': 6541, 'frequently': 6542, 'cyber': 6543, 'flag': 6544, 'fap': 6545, 'interrogate': 6546, 'anomalies': 6547, '017': 6548, 'pdf': 6549, 'anna': 6550, 'jacobs': 6551, '150': 6552, 'medicine': 6553, 'etp': 6554, 'drain': 6555, 'shall': 6556, 'vise': 6557, 'itr': 6558, 'checklist': 6559, 'issued': 6560, 'punch': 6561, 'dossiers': 6562, 'progression': 6563, 'chawla': 6564, 'architectural': 6565, '2b': 6566, 'roof': 6567, 'upcoming': 6568, 'entered': 6569, 'guinness': 6570, 'gac': 6571, 'arm': 6572, 'dollar': 6573, 'rp': 6574, 'pour': 6575, '793': 6576, 'cu': 6577, 'dh600': 6578, '163': 6579, 'rise': 6580, 'barsha': 6581, 'western': 6582, 'amendments': 6583, 'recall': 6584, 'hold': 6585, 'uncorrected': 6586, 'cancel': 6587, 'upon': 6588, 'noted': 6589, 'deficiencies': 6590, 'ncr': 6591, 'deviated': 6592, 'normal': 6593, 'retention': 6594, 'prm': 6595, 'toyo': 6596, 'liquefied': 6597, 'biggest': 6598, 'hike': 6599, 'metric': 6600, 'heater': 6601, 'room': 6602, 'comply': 6603, 'cary': 6604, 'follows': 6605, 'turned': 6606, 'flats': 6607, 'regard': 6608, 'ppe': 6609, 'safely': 6610, 'undertake': 6611, 'personalization': 6612, 'interpretation': 6613, 'forecasts': 6614, 'pgp': 6615, 'teaching': 6616, 'appointments': 6617, 'teach': 6618, 'undergraduate': 6619, 'adjunct': 6620, 'furnish': 6621, 'lex': 6622, 'offered': 6623, 'scrap': 6624, 'messaging': 6625, 'qliksense': 6626, 'recognize': 6627, 'recognizing': 6628, 'compared': 6629, 'somewhere': 6630, 'else': 6631, 'hiding': 6632, 'prevent': 6633, 'frauds': 6634, 'pretend': 6635, 'twitter': 6636, 'expressed': 6637, 'opinion': 6638, 'emotions': 6639, 'quantifiable': 6640, 'mentored': 6641, 'gone': 6642, 'papers': 6643, 'congress': 6644, 'let': 6645, 'blumix': 6646, 'watson': 6647, 'wheeler': 6648, 'mlrit': 6649, 'bcom': 6650, 'srimedhav': 6651, 'nani': 6652, 'valuelabs': 6653, 'rrf': 6654, 'dlt': 6655, 'candidate': 6656, 'acn': 6657, 'mgt': 6658, 'stadio': 6659, 'thergaon': 6660, 'entityframewok': 6661, 'corecode': 6662, 'inetsoft': 6663, 'bba': 6664, 'lovely': 6665, 'saiba': 6666, 'softwareeducation': 6667, 'bharathiar': 6668, 'pa': 6669, 'insured': 6670, 'spinning': 6671, 'mills': 6672, 'staffs': 6673, 'labors': 6674, 'automobile': 6675, 'collision': 6676, 'avoidance': 6677, 'blackbox': 6678, 'utilise': 6679, 'convert': 6680, 'contacts': 6681, 'later': 6682, 'worker': 6683, 'workload': 6684, 'allocate': 6685, 'extending': 6686, 'alm': 6687, 'edvancer': 6688, 'eduventures': 6689, 'sensitive': 6690, 'improved': 6691, 'courage': 6692, 'sadvidya': 6693, 'massachusetts': 6694, 'elicitation': 6695, 'diligently': 6696, 'checkouts': 6697, '101': 6698, 'litespeed': 6699, 'idera': 6700, 'infopa': 6701, 'tivoli': 6702, 'tdp': 6703, 'databasesms': 6704, '110': 6705, 'availabiity': 6706, 'sip': 6707, 'dbas': 6708, 'trainees': 6709, 'pci': 6710, 'vulnerability': 6711, 'holmes': 6712, 'ls': 6713, 'failback': 6714, 'deeply': 6715, 'pursued': 6716, 'pe8': 6717, 'ee11': 6718, 'forward': 6719, 'lite': 6720, 'invest': 6721, 'employs': 6722, 'approximately': 6723, 'organised': 6724, 'barclaycard': 6725, 'troubleshoooting': 6726, 'locking': 6727, 'kakatiya': 6728, 'maintenances': 6729, 'upgradation': 6730, 'ord': 6731, 'fintech': 6732, 'sanpada': 6733, 'attach': 6734, 'detach': 6735, 'dbcc': 6736, 'dmv': 6737, 'analyzer': 6738, 'dts': 6739, 'rebuilds': 6740, 'reorganizes': 6741, 'comprise': 6742, 'optimazation': 6743, 'occ': 6744, 'sqlplus': 6745, 'vsphere': 6746, 'windowseducation': 6747, '130': 6748, 'eagle': 6749, 'path': 6750, 'persists': 6751, 'rfs': 6752, 'mrp': 6753, 'centralize': 6754, 'refreshing': 6755, 'outage': 6756, 'rotational': 6757, 'shifts': 6758, 'refreshes': 6759, 'migrate': 6760, 'yogesh': 6761, 'tikhat': 6762, 'raj': 6763, 'ahmad': 6764, 'g2': 6765, '702': 6766, 'dreams': 6767, 'aakruti': 6768, 'kalepadal': 6769, 'hadapsar': 6770, '411028': 6771, 'aofpt5052c': 6772, 'ada': 6773, 'annet': 6774, 'birla': 6775, 'northbound': 6776, 'eclerx': 6777, 'wwf': 6778, '8i': 6779, 'info': 6780, 'solid': 6781, 'technologists': 6782, '98': 6783, 'loader': 6784, 'authorized': 6785, 'hydrocarbons': 6786, 'exceeding': 6787, 'majors': 6788, '18c': 6789, 'link': 6790, 'reclaim': 6791, 'statically': 6792, 'elb': 6793, 'vpc': 6794, 'route53': 6795, 'iam': 6796, 'itskills': 6797, 'mcs': 6798, 'periodically': 6799, 'criticality': 6800, 'impo': 6801, 'expo': 6802, 'degine': 6803, 'configuraing': 6804, 'administered': 6805, 'quota': 6806, 'default': 6807, 'cumulative': 6808, 'intervals': 6809, 'ddl': 6810, 'dml': 6811, 'appraising': 6812, 'backround': 6813, 'innovativetechnologies': 6814, 'ase': 6815, 'winds': 6816, 'dpa': 6817, 'dbartisan': 6818, '3t': 6819, 'pdacoe': 6820, 'autonomous': 6821, 'uploading': 6822, 'rdls': 6823, 'orphaned': 6824, 'purge': 6825, 'shipped': 6826, 'intervention': 6827, 'escalate': 6828, 'next': 6829, 'clones': 6830, 'hewlett': 6831, 'packard': 6832, 'softenger': 6833, 'unused': 6834, 'orphan': 6835, 'rebuild': 6836, 'reorganize': 6837, 'deadlocks': 6838, 'costly': 6839, 'deadlock': 6840, 'alwayson': 6841, 'restart': 6842, 'tns': 6843, 'devopseducation': 6844, '108': 6845, 'quite': 6846, 'extended': 6847, 'maximized': 6848, 'p1': 6849, 'p2': 6850, 'produced': 6851, 'fw': 6852, 'openings': 6853, 'loadbalancer': 6854, 'smtp': 6855, 'ocm': 6856, 'protected': 6857, 'sod': 6858, 'rcu': 6859, 'expanded': 6860, 'france': 6861, 'compressions': 6862, 'imp': 6863, 'duplication': 6864, 'commission': 6865, 'redolog': 6866, 'duplicate': 6867, 'flashback': 6868, 'oracle11gr2': 6869, 'crsctl': 6870, 'srvctl': 6871, 'upgraded': 6872, 'capable': 6873, 'dy': 6874, '61': 6875, 'eboss': 6876, 'datafeed': 6877, 'mfdb': 6878, 'indiainx': 6879, 'fastest': 6880, 'seconds': 6881, 'transparent': 6882, 'equity': 6883, 'currencies': 6884, 'derivatives': 6885, '250': 6886, 'continues': 6887, 'pace': 6888, 'pacemaker': 6889, 'blockings': 6890, 'gssapi': 6891, 'connections': 6892, 'fdw': 6893, 'extensions': 6894, 'pitr': 6895, 'rollouts': 6896, 'aag': 6897, 'raid': 6898, 'iseries': 6899, 'rh': 6900, 'quotas': 6901, 'rollback': 6902, 'extents': 6903, 'constructive': 6904, 'practically': 6905, 'elya': 6906, 'kale': 6907, 'patches': 6908, 'demands': 6909, 'cronjobs': 6910, 'raising': 6911, 'links': 6912, 'directories': 6913, 'scp': 6914, 'rebuilding': 6915, 'stats': 6916, 'deleting': 6917, 'diskgroups': 6918, 'insolutions': 6919, 'switchover': 6920, 'allocating': 6921, 'enrolling': 6922, 'snap': 6923, 'validity': 6924, 'resize': 6925, 'temp': 6926, 'knoxed': 6927, 'automationtesting': 6928, 'phoenix': 6929, 'microsystems': 6930, 'swb': 6931, 'profitable': 6932, 'satisfying': 6933, 'splits': 6934, 'inserts': 6935, 'ibatis': 6936, 'seam': 6937, 'intelligen': 6938, 'mobileapp': 6939, 'kauapc': 6940, 'ims': 6941, 'essible': 6942, 'empower': 6943, 'rich': 6944, 'jersey': 6945, 'lelo': 6946, 'lo': 6947, 'divider': 6948, 'pom': 6949, 'grapheducation': 6950, 'goregoan': 6951, 'proteus': 6952, 'installations': 6953, 'plastics': 6954, 'wings': 6955, 'infonet': 6956, 'comprehensive': 6957, 'hiral': 6958, 'tektronix': 6959, 'relates': 6960, 'hrms': 6961, 'observation': 6962, 'committed': 6963, 'independent': 6964, 'bput': 6965, 'brahmapur': 6966, 'orissa': 6967, 'banner': 6968, 'handles': 6969, '115': 6970, 'spread': 6971, 'whitacre': 6972, 'downtown': 6973, 'texas': 6974, 'csi': 6975, 'cam': 6976, 'centralised': 6977, 'myatt': 6978, 'maintaing': 6979, 'autoit': 6980, 'manging': 6981, 'malad': 6982, 'tanks': 6983, 'anushaktinagar': 6984, 'trombay': 6985, 'kalyan': 6986, 'tank': 6987, 'float': 6988, 'bottle': 6989, 'crashing': 6990, 'separated': 6991, 'sensors': 6992, 'transmitters': 6993, 'pid': 6994, 'brands': 6995, 'nippon': 6996, 'selec': 6997, 'dol': 6998, 'induction': 6999, 'eletrical': 7000, 'specialized': 7001, 'engineered': 7002, 'manufacturers': 7003, 'vessels': 7004, 'igg': 7005, 'inert': 7006, 'calibrations': 7007, '8th': 7008, 'underwent': 7009, 'tuv': 7010, 'rheinland': 7011, 'omron': 7012, 'ladder': 7013, 'intouch': 7014, 'vijeo': 7015, 'citect': 7016, 'wincc': 7017, 'talkview': 7018, 'opc': 7019, 'kepware': 7020, 'altivar': 7021, 'druck': 7022, 'injector': 7023, 'dp': 7024, 'tubes': 7025, 'fitting': 7026, 'glanding': 7027, 'robotic': 7028, 'kuka': 7029, 'kr': 7030, 'rk': 7031, 'electricals': 7032, 'twido': 7033, 'step7': 7034, 'microwin': 7035, 'sp2': 7036, 'unity': 7037, 'xl': 7038, 'cx': 7039, 'wpl': 7040, 'codesys': 7041, 'wonderware': 7042, 'citectscada7': 7043, 'proficy': 7044, 'factotytalk': 7045, 'spoken': 7046, 'tutorial': 7047, 'phython': 7048, 'codestrike': 7049, 'morigaon': 7050, 'subordinate': 7051, 'penchant': 7052, 'situation': 7053, 'extrovert': 7054, 'prefer': 7055, 'walks': 7056, 'strata': 7057, 'rapport': 7058, 'hpc': 7059, 'counsels': 7060, 'cachar': 7061, 'nagaland': 7062, 'pulp': 7063, 'vetting': 7064, 'nibs': 7065, 'nits': 7066, 'formulation': 7067, 'disciplinary': 7068, 'liaisoning': 7069, 'skillful': 7070, 'typing': 7071, 'refined': 7072, 'uloom': 7073, 'recently': 7074, 'savvy': 7075, 'lrc': 7076, 'ravichander': 7077, 'clacutta': 7078, 'burdwan': 7079, 'taxation': 7080, 'plaint': 7081, 'hear': 7082, 'somaiya': 7083, 'asmita': 7084, 'girls': 7085, 'bhawan': 7086, 'journalist': 7087, 'lawyer': 7088, 'vbs': 7089, 'purvanchal': 7090, 'redwood': 7091, 'triage': 7092, 'short': 7093, 'exponentially': 7094, 'drastically': 7095, 'games': 7096, 'apps': 7097, 'messenger': 7098, 'omplishment': 7099, 'reminders': 7100, 'hayaan': 7101, 'neighborhood': 7102, 'packaging': 7103, 'slip': 7104, 'inquiry': 7105, 'haayan': 7106, 'extraeducation': 7107, 'literature': 7108, 'tirunelveli': 7109, 'manonmaniam': 7110, 'sundaranar': 7111, 'practiced': 7112, 'judicature': 7113, 'madras': 7114, 'tribunal': 7115, 'christian': 7116, 'ruah': 7117, 'church': 7118, 'nessa': 7119, 'learnereducation': 7120, 'vidishtra': 7121, 'researcher': 7122, 'laweducation': 7123, 'criminology': 7124, 'federal': 7125, 'finalising': 7126, 'agreements': 7127, 'intimation': 7128, 'suits': 7129, 'attorney': 7130, 'indemnity': 7131, 'marriage': 7132, 'divorce': 7133, 'ession': 7134, 'lok': 7135, 'adalat': 7136, 'judicial': 7137, 'xslt': 7138, 'connector': 7139, 'biztalk': 7140, '147': 7141, 'opex': 7142, 'ipad': 7143, 'administering': 7144, 'genentech': 7145, 'biogen': 7146, 'astellas': 7147, 'pharma': 7148, 'polaris': 7149, 'hibernet': 7150, 'prasanna': 7151, 'vc': 7152, 'knows': 7153, 'ielts': 7154, 'bilingual': 7155, 'punjabi': 7156, 'clearly': 7157, 'concisely': 7158, 'peers': 7159, 'pretrial': 7160, 'appellate': 7161, 'competent': 7162, 'laws': 7163, 'bikaner': 7164, 'maharaja': 7165, 'ganga': 7166, 'singh': 7167, 'bio': 7168, 'informatics': 7169, 'panjab': 7170, 'newcomer': 7171, 'licensed': 7172, 'admitted': 7173, 'aibe': 7174, 'bci': 7175, 'sole': 7176, 'counsel': 7177, 'plaintiff': 7178, 'respondents': 7179, 'prosecuted': 7180, 'conclusion': 7181, 'claim': 7182, 'opted': 7183, 'plead': 7184, 'precedents': 7185, 'bail': 7186, 'petitions': 7187, 'appeals': 7188, 'divorces': 7189, 'negotiates': 7190, 'settlements': 7191, 'mediator': 7192, 'conciliator': 7193, 'commissioner': 7194, 'arbitrator': 7195, 'concerned': 7196, 'artifacts': 7197, 'fsd': 7198, 'cug': 7199, 'configurations': 7200, 'onboard': 7201, 'bau': 7202, 'arriving': 7203, 'crs': 7204, 'paytech': 7205, 'zambia': 7206, 'capa': 7207, 'parivartan': 7208, 'bscit': 7209, 'airoli': 7210, 'conformiq': 7211, 'measure': 7212, 'submit': 7213, 'tl9k': 7214, 'smashingday': 7215, 'xaml': 7216, 'dhtml': 7217, 'vbscript': 7218, 'mvp': 7219, 'tfs': 7220, 'collabnet': 7221, 'qlikview': 7222, 'centreon': 7223, 'bam': 7224, 'thinker': 7225, 'planner': 7226, 'recent': 7227, 'managereducation': 7228, 'sikkim': 7229, '92': 7230, '76': 7231, 'apr': 7232, 'capex': 7233, 'surveillance': 7234, 'wearable': 7235, 'nextgen': 7236, 'aria': 7237, 'apple': 7238, 'iphone': 7239, 'sunnyvale': 7240, 'ohio': 7241, 'nunit': 7242, 'moss': 7243, 'biztalk2006': 7244, 'dreamweaver': 7245, 'biz': 7246, 'wachovia': 7247, 'carolina': 7248, 'cript': 7249, 'zd': 7250, 'doll': 7251, 'newcastle': 7252, 'tokyo': 7253, 'macromedia': 7254, 'sql2000': 7255, 'lotus': 7256, 'fuel': 7257, 'density': 7258, 'measurement': 7259, 'cmcs': 7260, 'himalaya': 7261, 'mapco': 7262, 'berco': 7263, 'lisa': 7264, 'catdm': 7265, 'versioning': 7266, 'disha': 7267, 'poland': 7268, 'specialize': 7269, 'cbil': 7270, 'oat': 7271, 'proving': 7272, 'cucumber': 7273, 'bdd': 7274, 'tosca': 7275, 'tdm': 7276, 'onboarding': 7277, 'ontrack': 7278, 'rfe': 7279, 'rally': 7280, 'td': 7281, 'devsecops': 7282, 'profit': 7283, 'maximization': 7284, 'tulu': 7285, 'harvard': 7286, 'thunderbird': 7287, 'catering': 7288, 'esign': 7289, 'countersign': 7290, 'ampd': 7291, 'cru': 7292, 'bizcomp': 7293, 'comp': 7294, 'discounts': 7295, 'cxmt': 7296, 'lets': 7297, 'centrex': 7298, 'shadow': 7299, 'signoff': 7300, 'smp': 7301, 'scorecard': 7302, 'vqi': 7303, 'subcon': 7304, 'offshoring': 7305, 'leakage': 7306, 'tail': 7307, 'oscar': 7308, 'expand': 7309, 'developments': 7310, 'resourcing': 7311, 'csl': 7312, 'kms': 7313, 'pmr': 7314, 'sqa': 7315, 'gates': 7316, 'csat': 7317, 'rehearsal': 7318, 'prevention': 7319, 'exercises': 7320, 'rebadged': 7321, 'ex': 7322, 'esaya': 7323, 'anjular': 7324, 'mws': 7325, 'laravel': 7326, 'profiled': 7327, 'monitors': 7328, 'sponsor': 7329, 'revise': 7330, 'regulatory': 7331, 'venturus': 7332, 'adhere': 7333, 'viralsocials': 7334, 'xento': 7335, 'familylink': 7336, 'propertysolutions': 7337, 'speedyceus': 7338, 'ceus': 7339, 'nursing': 7340, 'stplafricaonline': 7341, 'stplafrica': 7342, '1stexpert': 7343, 'rimsys': 7344, 'eu': 7345, 'prayerlister': 7346, 'promark': 7347, 'justbe': 7348, 'mtpian': 7349, 'sababa': 7350, 'nl': 7351, 'physicaltherapy': 7352, 'hiu': 7353, '7cees': 7354, 'golwin': 7355, 'maza': 7356}\n"
     ]
    }
   ],
   "source": [
    "#tokenization is very important part of nlp as machine dont understand words so it must get a number (here token is a number)\n",
    "feature_tokenizer = Tokenizer(num_words=6000, oov_token='<OOV>')\n",
    "feature_tokenizer.fit_on_texts(features)\n",
    "\n",
    "feature_index = feature_tokenizer.word_index\n",
    "print(dict(list(feature_index.items())))"
   ]
  },
  {
   "cell_type": "code",
   "execution_count": 21,
   "id": "regular-shanghai",
   "metadata": {},
   "outputs": [
    {
     "name": "stdout",
     "output_type": "stream",
     "text": [
      "[3305, 3306, 405, 938, 25, 527, 3307, 3308, 32, 379, 1927, 585, 3309, 176, 128, 223, 122, 612, 3310, 397, 16, 1735, 64, 93, 3311, 3312, 3313, 3314, 3315, 2201, 1507, 122, 612, 3316, 3317, 3318, 169, 275, 9, 191, 133, 1359, 656, 44, 7, 633, 343, 583, 137, 86, 30, 552, 15, 1659, 441, 969, 3319, 1440, 552, 583, 609, 204, 343, 232, 86, 67, 552, 15, 477, 477, 2327, 749, 552, 25, 23, 25, 23, 26, 7, 223, 2, 262, 5, 16, 2, 166, 5, 122, 2, 166, 5, 527, 2, 13, 5, 25, 2, 166, 5, 321, 351, 2, 262, 5, 1507, 80, 2, 13, 5, 490, 401, 2, 13, 5, 321, 2, 19, 9, 12, 5, 25, 2, 19, 9, 12, 56, 7, 3, 3320, 18, 142, 40, 21, 6, 54, 25, 23, 321, 351, 64, 1735, 25, 527, 223, 128, 1507, 80, 228, 490, 401, 87, 52]\n",
      "----------------------------------------------------------------------------\n",
      "[34, 9, 111, 140, 57, 152, 171, 34, 4647, 160, 80, 76, 38, 238, 79, 49, 38, 10, 119, 1001, 10, 13, 637, 38, 10, 1040, 9, 2090, 4648, 57, 1621, 1062, 33, 4649, 4650, 1325, 4651, 4652, 69, 4653, 80, 11, 33, 1062, 33, 4654, 11, 218, 11, 182, 279, 44, 7, 38, 73, 26, 7, 238, 2, 13, 5, 637, 38, 2, 839, 5, 238, 2, 13, 5, 38, 2, 839, 5, 38, 2, 839, 56, 7, 3, 1486, 794, 6, 3, 1486, 794, 6, 1431, 181, 140, 2884, 9, 12, 477, 441, 969, 4655, 140, 2884, 13, 1033, 3153, 4656, 4657, 9, 12, 1486, 4658, 21, 679, 38, 73, 701, 1033, 4659, 732, 38, 73, 119, 1033, 495, 54, 1486, 2259, 794, 21, 679, 38, 73]\n"
     ]
    }
   ],
   "source": [
    "#lets try this on train and test datasets\n",
    "train_features_sequences = feature_tokenizer.texts_to_sequences(train_features)\n",
    "test_features_sequences = feature_tokenizer.texts_to_sequences(test_features)\n",
    "print(train_features_sequences[0])\n",
    "print(\"----------------------------------------------------------------------------\")\n",
    "print(test_features_sequences[0])"
   ]
  },
  {
   "cell_type": "code",
   "execution_count": 22,
   "id": "caroline-latitude",
   "metadata": {},
   "outputs": [
    {
     "name": "stdout",
     "output_type": "stream",
     "text": [
      "{'javadeveloper': 1, 'devopsengineer': 2, 'pythondeveloper': 3, 'webdesigning': 4, 'hr': 5, 'hadoop': 6, 'etldeveloper': 7, 'mechanicalengineer': 8, 'datascience': 9, 'blockchain': 10, 'sales': 11, 'operationsmanager': 12, 'arts': 13, 'database': 14, 'pmo': 15, 'electricalengineering': 16, 'healthandfitness': 17, 'businessanalyst': 18, 'dotnetdeveloper': 19, 'automationtesting': 20, 'networksecurityengineer': 21, 'civilengineer': 22, 'sapdeveloper': 23, 'advocate': 24}\n",
      "[1]\n",
      "[11]\n"
     ]
    }
   ],
   "source": [
    "# now lets tokenize label dataset \n",
    "label_tokenizer = Tokenizer(lower=True)\n",
    "label_tokenizer.fit_on_texts(labels)\n",
    "\n",
    "label_index = label_tokenizer.word_index\n",
    "print(dict(list(label_index.items())))\n",
    "# Print example label encodings from train and test datasets\n",
    "train_label_sequences = label_tokenizer.texts_to_sequences(train_labels)\n",
    "print(train_label_sequences[0])\n",
    "\n",
    "test_label_sequences = label_tokenizer.texts_to_sequences(test_labels)\n",
    "print(test_label_sequences[0])"
   ]
  },
  {
   "cell_type": "code",
   "execution_count": 23,
   "id": "sustainable-better",
   "metadata": {},
   "outputs": [
    {
     "name": "stdout",
     "output_type": "stream",
     "text": [
      "[3305 3306  405  938   25  527 3307 3308   32  379 1927  585 3309  176\n",
      "  128  223  122  612 3310  397   16 1735   64   93 3311 3312 3313 3314\n",
      " 3315 2201 1507  122  612 3316 3317 3318  169  275    9  191  133 1359\n",
      "  656   44    7  633  343  583  137   86   30  552   15 1659  441  969\n",
      " 3319 1440  552  583  609  204  343  232   86   67  552   15  477  477\n",
      " 2327  749  552   25   23   25   23   26    7  223    2  262    5   16\n",
      "    2  166    5  122    2  166    5  527    2   13    5   25    2  166\n",
      "    5  321  351    2  262    5 1507   80    2   13    5  490  401    2\n",
      "   13    5  321    2   19    9   12    5   25    2   19    9   12   56\n",
      "    7    3 3320   18  142   40   21    6   54   25   23  321  351   64\n",
      " 1735   25  527  223  128 1507   80  228  490  401   87   52    0    0\n",
      "    0    0    0    0    0    0    0    0    0    0    0    0    0    0\n",
      "    0    0    0    0    0    0    0    0    0    0    0    0    0    0\n",
      "    0    0    0    0    0    0    0    0    0    0    0    0    0    0\n",
      "    0    0    0    0    0    0    0    0    0    0    0    0    0    0\n",
      "    0    0    0    0    0    0    0    0    0    0    0    0    0    0\n",
      "    0    0    0    0    0    0    0    0    0    0    0    0    0    0\n",
      "    0    0    0    0    0    0    0    0    0    0    0    0    0    0\n",
      "    0    0    0    0    0    0    0    0    0    0    0    0    0    0\n",
      "    0    0    0    0    0    0    0    0    0    0    0    0    0    0\n",
      "    0    0    0    0    0    0    0    0    0    0    0    0    0    0\n",
      "    0    0    0    0    0    0]\n",
      "_________________________________\n",
      "[  34    9  111  140   57  152  171   34 4647  160   80   76   38  238\n",
      "   79   49   38   10  119 1001   10   13  637   38   10 1040    9 2090\n",
      " 4648   57 1621 1062   33 4649 4650 1325 4651 4652   69 4653   80   11\n",
      "   33 1062   33 4654   11  218   11  182  279   44    7   38   73   26\n",
      "    7  238    2   13    5  637   38    2  839    5  238    2   13    5\n",
      "   38    2  839    5   38    2  839   56    7    3 1486  794    6    3\n",
      " 1486  794    6 1431  181  140 2884    9   12  477  441  969 4655  140\n",
      " 2884   13 1033 3153 4656 4657    9   12 1486 4658   21  679   38   73\n",
      "  701 1033 4659  732   38   73  119 1033  495   54 1486 2259  794   21\n",
      "  679   38   73    0    0    0    0    0    0    0    0    0    0    0\n",
      "    0    0    0    0    0    0    0    0    0    0    0    0    0    0\n",
      "    0    0    0    0    0    0    0    0    0    0    0    0    0    0\n",
      "    0    0    0    0    0    0    0    0    0    0    0    0    0    0\n",
      "    0    0    0    0    0    0    0    0    0    0    0    0    0    0\n",
      "    0    0    0    0    0    0    0    0    0    0    0    0    0    0\n",
      "    0    0    0    0    0    0    0    0    0    0    0    0    0    0\n",
      "    0    0    0    0    0    0    0    0    0    0    0    0    0    0\n",
      "    0    0    0    0    0    0    0    0    0    0    0    0    0    0\n",
      "    0    0    0    0    0    0    0    0    0    0    0    0    0    0\n",
      "    0    0    0    0    0    0    0    0    0    0    0    0    0    0\n",
      "    0    0    0    0    0    0    0    0    0    0    0    0    0    0\n",
      "    0    0    0    0    0    0]\n"
     ]
    }
   ],
   "source": [
    "# lets make the lenght of each sequence of same length using pad_sequence be keras\n",
    "max_length = 300\n",
    "trunc_type = 'post'\n",
    "pad_type ='post'\n",
    "\n",
    "train_feature_padded = pad_sequences(train_features_sequences, maxlen=max_length, padding=pad_type, truncating = trunc_type)\n",
    "test_feature_padded = pad_sequences(test_features_sequences, maxlen=max_length, padding=pad_type, truncating = trunc_type)\n",
    "\n",
    "#print example padded \n",
    "print(train_feature_padded[0])\n",
    "print(\"_________________________________\")\n",
    "print(test_feature_padded[0])"
   ]
  },
  {
   "cell_type": "code",
   "execution_count": 24,
   "id": "scientific-frost",
   "metadata": {},
   "outputs": [
    {
     "name": "stdout",
     "output_type": "stream",
     "text": [
      "Model: \"sequential\"\n",
      "_________________________________________________________________\n",
      "Layer (type)                 Output Shape              Param #   \n",
      "=================================================================\n",
      "embedding (Embedding)        (None, 1, 64)             384000    \n",
      "_________________________________________________________________\n",
      "bidirectional (Bidirectional (None, 128)               66048     \n",
      "_________________________________________________________________\n",
      "dense (Dense)                (None, 64)                8256      \n",
      "_________________________________________________________________\n",
      "dense_1 (Dense)              (None, 25)                1625      \n",
      "=================================================================\n",
      "Total params: 459,929\n",
      "Trainable params: 459,929\n",
      "Non-trainable params: 0\n",
      "_________________________________________________________________\n"
     ]
    }
   ],
   "source": [
    "#making the model\n",
    "vocab_size=6000\n",
    "embedding_dim= 64\n",
    "\n",
    "\n",
    "model = tf.keras.Sequential([\n",
    "    tf.keras.layers.Embedding(input_dim = vocab_size, output_dim= embedding_dim, input_length=1),\n",
    "    tf.keras.layers.Bidirectional(tf.keras.layers.LSTM(embedding_dim)),\n",
    "    tf.keras.layers.Dense(embedding_dim, activation='relu'),\n",
    "    tf.keras.layers.Dense(25, activation='softmax')\n",
    "    \n",
    "])\n",
    "model.summary()"
   ]
  },
  {
   "cell_type": "code",
   "execution_count": 25,
   "id": "unavailable-cigarette",
   "metadata": {},
   "outputs": [],
   "source": [
    "model.compile(loss=\"sparse_categorical_crossentropy\",optimizer='adam', metrics=['accuracy'])\n",
    "\n",
    "final_train= np.array(train_feature_padded)\n",
    "final_test = np.array(test_feature_padded)\n",
    "\n",
    "\n",
    "final_train_label = np.array(train_label_sequences)\n",
    "final_test_label = np.array(test_label_sequences)"
   ]
  },
  {
   "cell_type": "code",
   "execution_count": 26,
   "id": "opposite-dictionary",
   "metadata": {},
   "outputs": [
    {
     "name": "stdout",
     "output_type": "stream",
     "text": [
      "Epoch 1/12\n",
      "WARNING:tensorflow:Model was constructed with shape (None, 1) for input Tensor(\"embedding_input:0\", shape=(None, 1), dtype=float32), but it was called on an input with incompatible shape (None, 300).\n",
      "WARNING:tensorflow:Model was constructed with shape (None, 1) for input Tensor(\"embedding_input:0\", shape=(None, 1), dtype=float32), but it was called on an input with incompatible shape (None, 300).\n",
      "WARNING:tensorflow:Model was constructed with shape (None, 1) for input Tensor(\"embedding_input:0\", shape=(None, 1), dtype=float32), but it was called on an input with incompatible shape (None, 300).\n",
      "23/23 - 5s - loss: 3.1808 - accuracy: 0.1725 - val_loss: 3.0852 - val_accuracy: 0.1788\n",
      "Epoch 2/12\n",
      "23/23 - 4s - loss: 2.8884 - accuracy: 0.1964 - val_loss: 2.6274 - val_accuracy: 0.2291\n",
      "Epoch 3/12\n",
      "23/23 - 4s - loss: 2.5020 - accuracy: 0.3450 - val_loss: 2.2911 - val_accuracy: 0.3352\n",
      "Epoch 4/12\n",
      "23/23 - 4s - loss: 2.0040 - accuracy: 0.4614 - val_loss: 1.7901 - val_accuracy: 0.4916\n",
      "Epoch 5/12\n",
      "23/23 - 4s - loss: 1.6543 - accuracy: 0.5288 - val_loss: 1.4903 - val_accuracy: 0.5531\n",
      "Epoch 6/12\n",
      "23/23 - 4s - loss: 1.2249 - accuracy: 0.6522 - val_loss: 1.1367 - val_accuracy: 0.6536\n",
      "Epoch 7/12\n",
      "23/23 - 4s - loss: 0.8883 - accuracy: 0.7798 - val_loss: 0.8382 - val_accuracy: 0.8101\n",
      "Epoch 8/12\n",
      "23/23 - 4s - loss: 0.6176 - accuracy: 0.8513 - val_loss: 0.5631 - val_accuracy: 0.8883\n",
      "Epoch 9/12\n",
      "23/23 - 4s - loss: 0.4415 - accuracy: 0.9088 - val_loss: 0.4242 - val_accuracy: 0.9162\n",
      "Epoch 10/12\n",
      "23/23 - 4s - loss: 0.3118 - accuracy: 0.9523 - val_loss: 0.2929 - val_accuracy: 0.9665\n",
      "Epoch 11/12\n",
      "23/23 - 5s - loss: 0.2201 - accuracy: 0.9649 - val_loss: 0.1981 - val_accuracy: 0.9777\n",
      "Epoch 12/12\n",
      "23/23 - 4s - loss: 0.1553 - accuracy: 0.9832 - val_loss: 0.1542 - val_accuracy: 0.9777\n"
     ]
    }
   ],
   "source": [
    "num_epochs= 12\n",
    "history =model.fit(final_train, final_train_label,epochs= num_epochs, validation_data=(final_test, final_test_label), verbose=2)"
   ]
  },
  {
   "cell_type": "code",
   "execution_count": 27,
   "id": "gothic-albuquerque",
   "metadata": {},
   "outputs": [
    {
     "name": "stdout",
     "output_type": "stream",
     "text": [
      "hobbies playing chess solving rubik cube watching series languages english hindi marathi education details january 2014 january 2017 bachelor degree information technology first class pune maharashtra jspm jayawantrao sawant college engineering january 2010 january 2014 diploma information technology first class nashik maharashtra k k wagh polytechnic january 2010 ssc first class nashik maharashtra new era english school blockchain developer blockchain developer corpcloud global services pvt ltd skill details blockchain exprience 6 months smart contracts exprience 6 months dapps exprience 6 months mean stack exprience 12 monthscompany details company corpcloud global services pvt ltd description worked productively team identify requirements proposed ideas enhancing product developing managing user blockchain ount wallets transactions regularly monitoring smooth executions blockchain transactions wallet functions along identifying correcting possible errors writing smart contracts api documenting company corpcloud global services pvt ltd description identifying complex bugs system resolving implemented updated application modules direction seniors effectively coded required changes alterations checked repository using bit bucket performed code check ins check outs regularly worked api\n",
      "blockchain\n"
     ]
    }
   ],
   "source": [
    "# print example feature and its correct label\n",
    "print(test_features[5])\n",
    "print(test_labels[5])"
   ]
  },
  {
   "cell_type": "code",
   "execution_count": 28,
   "id": "missing-quarterly",
   "metadata": {},
   "outputs": [
    {
     "name": "stdout",
     "output_type": "stream",
     "text": [
      "[[  37 1285  225 1969   35   20  805   20   25 1559  128  122  198  130\n",
      "    64  321  405   37  108 2657 2658 1307 2659  163   90  102  494 1286\n",
      "  1355 1524  927    4  425   92   70    4 2660  231   11  282   79   66\n",
      "  2281 1560 1875 1560 1145 2661  355   71 2662 2427    8 1688 2663  141\n",
      "    70    4 1963 1146   11  282   80   66 2111  439 1451 2664 2212 2665\n",
      "  2666 1423 2667  684 1423  232    4 1561   72  519   11  282   79   66\n",
      "   513 1453   14   22 1356  519 1398 1561  883 1399 1424  661 1356 1597\n",
      "  2668  495   44    7  251  137   92   70  811  744   29   15   29   53\n",
      "   961  294   35   15  213  263   85   26    7   35    2   13    5   35\n",
      "     2   13    5   20    2   13    5  805   20    2   13    5  270   25\n",
      "     2   13    5  128    2   19    9   12    5  122    2   19    9   12\n",
      "     5  198    2   19    9   12    5  130    2   19    9   12    5 1559\n",
      "     2   19    9   12    5   64    2   19    9   12    5   55    2   13\n",
      "    56    7    3 1562  934 1563    6   54  263   11 1562  934 1563  669\n",
      "   368  188   55    0    0    0    0    0    0    0    0    0    0    0\n",
      "     0    0    0    0    0    0    0    0    0    0    0    0    0    0\n",
      "     0    0    0    0    0    0    0    0    0    0    0    0    0    0\n",
      "     0    0    0    0    0    0    0    0    0    0    0    0    0    0\n",
      "     0    0    0    0    0    0    0    0    0    0    0    0    0    0\n",
      "     0    0    0    0    0    0    0    0    0    0    0    0    0    0\n",
      "     0    0    0    0    0    0    0    0    0    0    0    0    0    0\n",
      "     0    0    0    0    0    0]]\n"
     ]
    }
   ],
   "source": [
    "# Create padded sequence for example\n",
    "resume_example = 'software proficiency languages basics c sql pl sql java javaee javascript html css jquery mysql spring hibernate software tools xillinx modelsim matlab multisim operating systems windows xp vista 07 08 ubuntu project profile b e project fpga implementation team size 4 role programmer aes algorithm aes advanced encryption standard used cryptography protect data encrypted secret key e project sorting robot team size 3 role mechanism designer tcs 230 sensor sorts rgb color balls ording color diploma project rfid based student team size 4 role interface attendance system using gsm student show rfid card message send via gsm parent ward present education details may 2016 b e savitribai phule pune maharashtra pune university march 2010 c maharashtra board devops engineer skill details c exprience 6 months c exprience 6 months sql exprience 6 months pl sql exprience 6 months core java exprience 6 months javascript exprience less 1 year months html exprience less 1 year months css exprience less 1 year months jquery exprience less 1 year months javaee exprience less 1 year months mysql exprience less 1 year months python exprience 6 monthscompany details company parkar consulting labs description working devops team parkar consulting labs hands aws well python'\n",
    "example_sequence = feature_tokenizer.texts_to_sequences([resume_example])\n",
    "example_padded = pad_sequences(example_sequence, maxlen=max_length, padding=pad_type, truncating=trunc_type)\n",
    "example_padded = np.array(example_padded)\n",
    "print(example_padded)"
   ]
  },
  {
   "cell_type": "code",
   "execution_count": 29,
   "id": "moral-bradley",
   "metadata": {},
   "outputs": [
    {
     "name": "stdout",
     "output_type": "stream",
     "text": [
      "WARNING:tensorflow:Model was constructed with shape (None, 1) for input Tensor(\"embedding_input:0\", shape=(None, 1), dtype=float32), but it was called on an input with incompatible shape (None, 300).\n"
     ]
    }
   ],
   "source": [
    "# Make a prediction\n",
    "prediction = model.predict(example_padded)"
   ]
  },
  {
   "cell_type": "code",
   "execution_count": 30,
   "id": "three-water",
   "metadata": {},
   "outputs": [
    {
     "name": "stdout",
     "output_type": "stream",
     "text": [
      "[4.7209e-09 1.7606e-02 9.3036e-01 1.9111e-07 2.8279e-05 2.4996e-03\n",
      " 6.1256e-05 1.8930e-06 8.9855e-07 2.2438e-02 1.6310e-02 1.0956e-11\n",
      " 1.0112e-12 1.2059e-08 1.6521e-03 1.9287e-09 4.8723e-05 2.4558e-09\n",
      " 2.4309e-10 1.7581e-05 6.9037e-03 1.8313e-03 2.6311e-10 2.0957e-04\n",
      " 2.7782e-05]\n",
      "25\n",
      "0.99999994\n"
     ]
    }
   ],
   "source": [
    "# Verify that prediction has correct format\n",
    "print(prediction[0])\n",
    "print(len(prediction[0]))  # should be 25\n",
    "print(np.sum(prediction[0]))  # should be 1"
   ]
  },
  {
   "cell_type": "code",
   "execution_count": 31,
   "id": "superior-castle",
   "metadata": {},
   "outputs": [
    {
     "name": "stdout",
     "output_type": "stream",
     "text": [
      "0.9303625\n",
      "2\n"
     ]
    }
   ],
   "source": [
    "# Find maximum value in prediction and its index\n",
    "print(max(prediction[0]))  # confidence in prediction (as a fraction of 1)\n",
    "print(np.argmax(prediction[0])) "
   ]
  },
  {
   "cell_type": "code",
   "execution_count": 32,
   "id": "uniform-imaging",
   "metadata": {},
   "outputs": [],
   "source": [
    "#As here u can see we got the argmax as 2 and 2 is the number in labelSequene for devopsengineer"
   ]
  },
  {
   "cell_type": "raw",
   "id": "sized-slave",
   "metadata": {},
   "source": [
    "# Save model\n",
    "model.save('model')"
   ]
  },
  {
   "cell_type": "code",
   "execution_count": 33,
   "id": "suspended-chamber",
   "metadata": {},
   "outputs": [],
   "source": [
    "# Save feature tokenizer\n",
    "with open('feature_tokenizer.pickle', 'wb') as handle:\n",
    "    pickle.dump(feature_tokenizer, handle, protocol=pickle.HIGHEST_PROTOCOL)"
   ]
  },
  {
   "cell_type": "code",
   "execution_count": 34,
   "id": "looking-assembly",
   "metadata": {},
   "outputs": [
    {
     "name": "stdout",
     "output_type": "stream",
     "text": [
      "{'javadeveloper': 1, 'devopsengineer': 2, 'pythondeveloper': 3, 'webdesigning': 4, 'hr': 5, 'hadoop': 6, 'etldeveloper': 7, 'mechanicalengineer': 8, 'datascience': 9, 'blockchain': 10, 'sales': 11, 'operationsmanager': 12, 'arts': 13, 'database': 14, 'pmo': 15, 'electricalengineering': 16, 'healthandfitness': 17, 'businessanalyst': 18, 'dotnetdeveloper': 19, 'automationtesting': 20, 'networksecurityengineer': 21, 'civilengineer': 22, 'sapdeveloper': 23, 'advocate': 24}\n",
      "{1: 'javadeveloper', 2: 'devopsengineer', 3: 'pythondeveloper', 4: 'webdesigning', 5: 'hr', 6: 'hadoop', 7: 'etldeveloper', 8: 'mechanicalengineer', 9: 'datascience', 10: 'blockchain', 11: 'sales', 12: 'operationsmanager', 13: 'arts', 14: 'database', 15: 'pmo', 16: 'electricalengineering', 17: 'healthandfitness', 18: 'businessanalyst', 19: 'dotnetdeveloper', 20: 'automationtesting', 21: 'networksecurityengineer', 22: 'civilengineer', 23: 'sapdeveloper', 24: 'advocate'}\n"
     ]
    }
   ],
   "source": [
    "# Save reverse dictionary of labels to encodings\n",
    "label_to_encoding = dict(list(label_index.items()))\n",
    "print(label_to_encoding)\n",
    "\n",
    "encoding_to_label = {}\n",
    "for k, v in label_to_encoding.items():\n",
    "  encoding_to_label[v] = k\n",
    "print(encoding_to_label)\n",
    "\n",
    "with open('dictionary.pickle', 'wb') as handle:\n",
    "    pickle.dump(encoding_to_label, handle, protocol=pickle.HIGHEST_PROTOCOL)"
   ]
  },
  {
   "cell_type": "code",
   "execution_count": 35,
   "id": "difficult-scanning",
   "metadata": {},
   "outputs": [
    {
     "name": "stdout",
     "output_type": "stream",
     "text": [
      "devopsengineer\n"
     ]
    }
   ],
   "source": [
    "print(encoding_to_label[np.argmax(prediction[0])])"
   ]
  },
  {
   "cell_type": "code",
   "execution_count": 36,
   "id": "above-dressing",
   "metadata": {},
   "outputs": [],
   "source": [
    "import PyPDF2"
   ]
  },
  {
   "cell_type": "code",
   "execution_count": 37,
   "id": "fatal-mason",
   "metadata": {},
   "outputs": [],
   "source": [
    "def readFromResume(filepath):\n",
    "    # creating a pdf file object \n",
    "    pdfFileObj = open(filepath, 'rb') \n",
    "\n",
    "    # creating a pdf reader object \n",
    "    pdfReader = PyPDF2.PdfFileReader(pdfFileObj) \n",
    "\n",
    "    # creating a page object \n",
    "    pageObj = pdfReader.getPage(0) \n",
    "\n",
    "    # extracting text from page \n",
    "    extractedTexts = pageObj.extractText()\n",
    "    \n",
    "    # closing the pdf file object \n",
    "    pdfFileObj.close() \n",
    "    return extractedTexts"
   ]
  },
  {
   "cell_type": "code",
   "execution_count": 38,
   "id": "intense-guard",
   "metadata": {},
   "outputs": [],
   "source": [
    "texts=readFromResume('resume.pdf')"
   ]
  },
  {
   "cell_type": "code",
   "execution_count": 39,
   "id": "medieval-touch",
   "metadata": {},
   "outputs": [
    {
     "name": "stdout",
     "output_type": "stream",
     "text": [
      "NITIN SUNIL CHAUBE\n",
      " \n",
      "Course : BE Computers\n",
      " \n",
      "Contact: 7021027955 \n",
      "Gmail:\n",
      "nitinchaube1@gmail.com\n",
      " \n",
      "Github\n",
      ":\n",
      "https://github.com/nitinchaube\n",
      " \n",
      " \n",
      "ACADEMIC DETAILS\n",
      " \n",
      "COURSE\n",
      " \n",
      "SPECIALIZATION\n",
      " \n",
      "INSTITUTE/COLLEGE\n",
      " \n",
      "BOARD/UNIVERSITY\n",
      " \n",
      "% / CGPA\n",
      " \n",
      "YEAR\n",
      " \n",
      "BE\n",
      " \n",
      "Computer Engineering\n",
      " \n",
      "FR. Conceicao Rodrigues \n",
      "College\n",
      " \n",
      "University of Mumbai\n",
      " \n",
      "8.08(till 5th sem)\n",
      " \n",
      "2022\n",
      " \n",
      "XII\n",
      " \n",
      "Science\n",
      " \n",
      "Thomas \n",
      "Baptista junior college\n",
      " \n",
      "Maharashtra State \n",
      "Board\n",
      " \n",
      "85.85\n",
      " \n",
      "2018\n",
      " \n",
      "X\n",
      " \n",
      "General\n",
      " \n",
      "St. Francis High School\n",
      " \n",
      "Maharashtra State \n",
      "Board\n",
      " \n",
      "88.80\n",
      " \n",
      "2016\n",
      " \n",
      " \n",
      "SKILLS HIGHLIGHT\n",
      " \n",
      "Languages :                      \n",
      "C++, Java, Mongodb, Python\n",
      " \n",
      "Web Technologies :         \n",
      "HTML, Javascripts, CSS, React, Nodejs , Github , \n",
      " \n",
      "DataScienceLibraries :    \n",
      "Postman Numpy, Pandas, Sklearn\n",
      " \n",
      " \n",
      "PROJECTS\n",
      " \n",
      " \n",
      "\n",
      " \n",
      "\n",
      " \n",
      " \n",
      "-\n",
      "(\n",
      " \n",
      "Link\n",
      " \n",
      ")                                                                                                    \n",
      "                                                    \n",
      " \n",
      "May2020 \n",
      "-\n",
      " \n",
      "Aug2020\n",
      "                                                             \n",
      "                                                                                               \n",
      "   \n",
      " \n",
      "A fully fledge MERN E\n",
      "-\n",
      "Comm\n",
      "erce web application for any electronics shop made using technologies like Firebase, React, Antd, \n",
      "Redux,Stripe, Cloudinary and many more.\n",
      " \n",
      "\n",
      " \n",
      "ROBOBOT\n",
      " \n",
      "-\n",
      "(\n",
      "Link\n",
      ")\n",
      "                                                                                   \n",
      "                                                                                   \n",
      "July2019 \n",
      "-\n",
      " \n",
      "Feb\n",
      " \n",
      "A Robot made by me and my team working along with mechanical and electronics branch \n",
      "students for the ROBOCON competition for achieving some \n",
      "task.\n",
      " \n",
      " \n",
      "\n",
      " \n",
      "\n",
      "-\n",
      " \n",
      "(\n",
      "Link\n",
      " \n",
      ")\n",
      "                                                                                                                             \n",
      "                                       \n",
      "Mar 201\n",
      "6 \n",
      "-\n",
      " \n",
      "Apr 2016\n",
      " \n",
      "A Blogging web application made using MERN Stack along with Next.js.\n",
      " \n",
      "A Website where people can blog or share their codes and discuss it there.\n",
      " \n",
      " \n",
      "\n",
      " \n",
      "Image Captioner DL MODEL    \n",
      "                                                                      \n",
      "                                                                     \n",
      " \n",
      "Nov 2020 \n",
      "-\n",
      " \n",
      "Feb2021\n",
      " \n",
      "A Deep Learning model made using VGG model to caption an image and describe what is happening in the image.\n",
      " \n",
      " \n",
      " \n",
      " \n",
      " \n",
      "INTERNSHIP / Experience\n",
      " \n",
      "\n",
      " \n",
      " \n",
      "IT Intern At Cloud Counselage (Currently going\n",
      " \n",
      "on).\n",
      " \n",
      "\n",
      " \n",
      "Box Tester at Backferim Technologies.    (Dec\n",
      " \n",
      "2020)\n",
      " \n",
      "\n",
      " \n",
      "Coder In Robocon\n",
      " \n",
      "CRCE.\n",
      " \n",
      " \n",
      " \n",
      "POSITION OF RESPONSIBILITY\n",
      " \n",
      " \n",
      "Vice\n",
      "-\n",
      "Captain Of ROBOCON CRCE                                                                   \n",
      "                                                                                     \n",
      "2020\n",
      "-\n",
      "2021\n",
      " \n",
      "Working and managing a Team of 20 members from different branches\n",
      " \n",
      "Robot Automation coder\n",
      "  \n",
      "(Link)\n",
      "         \n",
      " \n",
      "              \n",
      "                                                                                                                             \n",
      "          \n",
      "2019\n",
      "-\n",
      "2020\n",
      " \n",
      "Worked with a team of 5 Robot Automation coder and made a fully functioning robot.\n",
      " \n",
      " \n",
      "ACHIEVEMENTS ,PARTICIPATIO\n",
      "N AND EXTRA CURRICULM\n",
      " \n",
      "\n",
      " \n",
      "AIR 11 in First round of Robocon\n",
      " \n",
      "Competition.\n",
      " \n",
      "\n",
      " \n",
      "Participated in Hackathon Codeit and Accenture\n",
      " \n",
      "Competition).\n",
      " \n",
      "\n",
      " \n",
      "Volunteer in Bandra fair with the help of Rotaract\n",
      " \n",
      "Crce.\n",
      " \n",
      "\n",
      " \n",
      "Won 2\n",
      "nd\n",
      " \n",
      "place in Inter Cricket of Fr.\n",
      " \n",
      "CRCE.\n",
      " \n",
      " \n",
      "CERTIFICATION:\n",
      " \n",
      " \n",
      "\n",
      " \n",
      "IBM certified AI Engineer (Simplilearn) (Currently Going on)\n",
      " \n",
      "-\n",
      "   \n",
      "A 1 Year Master course Consists Machine Learning , Data Science and Deep Learning provided by\n",
      " \n",
      "IBM.\n",
      " \n",
      "-\n",
      " \n",
      "  \n",
      "It focuses Deep learning and machine learning fundamentals and algorithms such as Linear Regression, \n",
      "Logistic     Regression, k\n",
      "-\n",
      "means ,PCA ,RBM and\n",
      " \n",
      "CNN.\n",
      " \n",
      " \n",
      "\n",
      " \n",
      "Competitive Programming (Coding Ninjas)\n",
      " \n",
      "-\n",
      "  \n",
      "Learned the Programming fundamentals such as \n",
      "Dynamic Programming, Recursion and many more algorithms.\n",
      " \n",
      "\n"
     ]
    }
   ],
   "source": [
    "print(texts)"
   ]
  },
  {
   "cell_type": "code",
   "execution_count": 40,
   "id": "adjacent-response",
   "metadata": {},
   "outputs": [],
   "source": [
    "def make_predictions(resume_example):\n",
    "    example_sequence = feature_tokenizer.texts_to_sequences([resume_example])\n",
    "    example_padded = pad_sequences(example_sequence, maxlen=max_length, padding=pad_type, truncating=trunc_type)\n",
    "    example_padded = np.array(example_padded)\n",
    "    # Make a prediction\n",
    "    prediction = model.predict(example_padded)\n",
    "    print(\"THE JOB WHICH FIT THIS RESUME IS :   \",encoding_to_label[np.argmax(prediction[0])] )"
   ]
  },
  {
   "cell_type": "code",
   "execution_count": 41,
   "id": "fitted-cincinnati",
   "metadata": {},
   "outputs": [
    {
     "name": "stdout",
     "output_type": "stream",
     "text": [
      "THE JOB WHICH FIT THIS RESUME IS :    devopsengineer\n"
     ]
    }
   ],
   "source": [
    "make_predictions(texts)"
   ]
  },
  {
   "cell_type": "code",
   "execution_count": 42,
   "id": "reverse-surface",
   "metadata": {},
   "outputs": [],
   "source": [
    "justinsText=readFromResume('JustinsResume.pdf')"
   ]
  },
  {
   "cell_type": "code",
   "execution_count": 43,
   "id": "local-bracket",
   "metadata": {},
   "outputs": [
    {
     "name": "stdout",
     "output_type": "stream",
     "text": [
      "THE JOB WHICH FIT THIS RESUME IS :    advocate\n"
     ]
    }
   ],
   "source": [
    "make_predictions(justinsText)"
   ]
  },
  {
   "cell_type": "code",
   "execution_count": null,
   "id": "signal-effects",
   "metadata": {},
   "outputs": [],
   "source": []
  }
 ],
 "metadata": {
  "kernelspec": {
   "display_name": "Python 3",
   "language": "python",
   "name": "python3"
  },
  "language_info": {
   "codemirror_mode": {
    "name": "ipython",
    "version": 3
   },
   "file_extension": ".py",
   "mimetype": "text/x-python",
   "name": "python",
   "nbconvert_exporter": "python",
   "pygments_lexer": "ipython3",
   "version": "3.8.5"
  }
 },
 "nbformat": 4,
 "nbformat_minor": 5
}
